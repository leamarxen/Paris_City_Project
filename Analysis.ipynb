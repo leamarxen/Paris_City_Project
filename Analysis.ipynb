{
 "cells": [
  {
   "attachments": {},
   "cell_type": "markdown",
   "metadata": {},
   "source": [
    "# Analysis of Data"
   ]
  },
  {
   "attachments": {},
   "cell_type": "markdown",
   "metadata": {},
   "source": [
    "### Import libraries and data"
   ]
  },
  {
   "cell_type": "code",
   "execution_count": null,
   "metadata": {},
   "outputs": [],
   "source": [
    "import pandas as pd\n",
    "import geopandas as gpd\n",
    "from collections import Counter\n",
    "import re\n",
    "import contextily as cx\n",
    "from matplotlib import pyplot as plt\n",
    "\n",
    "from analysis import get_prof_str, plot_ratio_over_time, gif_for_professions,\\\n",
    "     jobs_not_before_after_specific_year, sort_by_number_of_words, plot_profession_selection_on_map"
   ]
  },
  {
   "cell_type": "code",
   "execution_count": null,
   "metadata": {},
   "outputs": [],
   "source": [
    "rich_data = pd.read_pickle(\"data/unique_aligned_tagged.pkl\")\n",
    "#convert to geopandas dataframe\n",
    "rich_data = gpd.GeoDataFrame(rich_data, geometry=rich_data.geometry)\n",
    "\n",
    "# make profession tags usable (from \"['profession1', 'profession2']\" to \"profession1, profession2\")\n",
    "rich_data[\"tags\"] = rich_data[\"tags\"].apply(get_prof_str)\n",
    "\n",
    "# alternative: rich_data.geometry.representative_point\n",
    "rich_data[\"centroid\"] = rich_data.geometry.centroid"
   ]
  },
  {
   "attachments": {},
   "cell_type": "markdown",
   "metadata": {},
   "source": [
    "## Preparation"
   ]
  },
  {
   "cell_type": "code",
   "execution_count": null,
   "metadata": {},
   "outputs": [],
   "source": [
    "#binning data: e.g. 1860-1869 -> 1860 (1860s, but in order to keep it an integer, the \"s\" is ommitted)\n",
    "rich_data[\"annee_bin\"] = pd.cut(rich_data[\"annee\"], right=False,\n",
    "                bins=[1830, 1840, 1850, 1860, 1870, 1880, 1890, 1900, 1910, 1920, 1930],\n",
    "                labels=[1839, 1840, 1850, 1860, 1870, 1880, 1890, 1900, 1910, 1920])\n",
    "rich_data[\"annee_bin\"].hist(bins=[1830, 1840, 1850, 1860, 1870, 1880, 1890, 1900, 1910, 1920, 1930])"
   ]
  },
  {
   "cell_type": "code",
   "execution_count": null,
   "metadata": {},
   "outputs": [],
   "source": [
    "# get only jobs with frequency in dataset higher than 50\n",
    "freq_jobs = [metier for metier, count in Counter(rich_data[\"tags\"]).items() if count>50]\n",
    "print(\"number of frequent jobs:\", len(freq_jobs))\n",
    "\n",
    "# see how many rows include frequent jobs\n",
    "print(\"all rows:\", len(rich_data))\n",
    "freq_job_data = rich_data[rich_data[\"tags\"].isin(freq_jobs)]\n",
    "print(\"only rows with frequent jobs:\", len(freq_job_data))"
   ]
  },
  {
   "cell_type": "code",
   "execution_count": null,
   "metadata": {},
   "outputs": [],
   "source": [
    "# check how the selection of frequent jobs puts bias in data\n",
    "\n",
    "# create dataframe with absolute frequency of professions in rich_data and freq_job_data\n",
    "count_year = rich_data.groupby(by=\"annee\").count()[[\"tags\"]]\n",
    "count_year_freq = freq_job_data.groupby(by=\"annee\").count()[[\"tags\"]]\n",
    "both_freq = count_year.join(count_year_freq, lsuffix=\"_all\")\n",
    "\n",
    "# this plot shows that the omitting of jobs with frequency <50 is affecting all years evenly\n",
    "both_freq.plot.bar(y=[\"tags_all\", \"tags\"], figsize=(10,6))"
   ]
  },
  {
   "attachments": {},
   "cell_type": "markdown",
   "metadata": {},
   "source": [
    "## Analysis on Professions"
   ]
  },
  {
   "cell_type": "code",
   "execution_count": null,
   "metadata": {},
   "outputs": [],
   "source": [
    "# compare raw profession data and tags\n",
    "print(\"Most frequent jobs in profession raw data:\", Counter(rich_data[\"metier\"]).most_common(10))\n",
    "print(\"Most frequent jobs in tagged data:\", Counter(rich_data[\"tags\"]).most_common(10))"
   ]
  },
  {
   "cell_type": "code",
   "execution_count": null,
   "metadata": {},
   "outputs": [],
   "source": [
    "#get ratio of top 10 jobs in dataset\n",
    "top_jobs10 = Counter(freq_job_data[\"tags\"]).most_common(10)\n",
    "top_jobnames10 = [name for name, count in top_jobs10]\n",
    "plot_ratio_over_time(rich_data, top_jobnames10, title=\"Development top 10 jobs in dataset\")"
   ]
  },
  {
   "cell_type": "code",
   "execution_count": null,
   "metadata": {},
   "outputs": [],
   "source": [
    "# get distribution over the years for people with professions to do with food\n",
    "gif_for_professions(rich_data, [\"boucher\", \"boulanger\", \"épicier\", \"charcutier\"], \"food\", geo_col=\"geometry\")"
   ]
  },
  {
   "cell_type": "code",
   "execution_count": null,
   "metadata": {},
   "outputs": [],
   "source": [
    "# get distribution over the years for people with property\n",
    "gif_for_professions(rich_data, [\"rentier\", \"propriétaire\"], \"housing\", geo_col=\"geometry\")"
   ]
  },
  {
   "attachments": {},
   "cell_type": "markdown",
   "metadata": {},
   "source": [
    "### Professions which were born or died out"
   ]
  },
  {
   "cell_type": "code",
   "execution_count": null,
   "metadata": {},
   "outputs": [],
   "source": [
    "# get jobs which did not exist eihter before or after 1880 \n",
    "not_after1880, not_before1880 = jobs_not_before_after_specific_year(freq_job_data, 1880)\n",
    "\n",
    "# get only the one-worded tags\n",
    "not_bef1880_one, _, _ = sort_by_number_of_words(not_before1880)\n",
    "not_aft1880_one, _, _ = sort_by_number_of_words(not_after1880)\n",
    "print(\"new profession entries - only after 1880 (one word entries):\\n\", not_bef1880_one, \n",
    "        \"\\n\\nold profession entries - only before 1880 (one word entries):\\n\", not_aft1880_one)"
   ]
  },
  {
   "cell_type": "code",
   "execution_count": null,
   "metadata": {},
   "outputs": [],
   "source": [
    "# plot the development over time\n",
    "plot_ratio_over_time(rich_data, not_bef1880_one+not_aft1880_one, \n",
    "            title=\"Jobs which died out before or appeared after 1880\")"
   ]
  },
  {
   "cell_type": "code",
   "execution_count": null,
   "metadata": {},
   "outputs": [],
   "source": [
    "# create a gif with the development of the new mobility professions throughout paris\n",
    "gif_for_professions(rich_data, [\"automobiles\", \"garage\", \"cycles\", \"bicyclettes\"], \"mobility\", geo_col=\"geometry\")"
   ]
  },
  {
   "attachments": {},
   "cell_type": "markdown",
   "metadata": {},
   "source": [
    "## Street statistics"
   ]
  },
  {
   "cell_type": "code",
   "execution_count": null,
   "metadata": {},
   "outputs": [],
   "source": [
    "#look at most frequent streets\n",
    "top_streets20 = Counter(rich_data[\"streetname\"]).most_common(20)\n",
    "top_streets20 = [name for name, count in top_streets20]\n",
    "\n",
    "plot_ratio_over_time(rich_data, top_streets20, col_name=\"streetname\",\n",
    "        title=\"Development of most frequent streets in dataset\")"
   ]
  },
  {
   "attachments": {},
   "cell_type": "markdown",
   "metadata": {},
   "source": [
    "### Looking at one street"
   ]
  },
  {
   "cell_type": "code",
   "execution_count": null,
   "metadata": {},
   "outputs": [],
   "source": [
    "# looking at the job development in the street \"Saint Honoré\"\n",
    "honore = rich_data[rich_data[\"streetname\"]==\"Rue Saint Honoré\"]\n",
    "honore_jobs = Counter(honore[\"tags\"]).most_common(10)\n",
    "honore_jobs = [name for name, count in honore_jobs]\n",
    "\n",
    "plot_ratio_over_time(honore, honore_jobs, title=\"Top job development in street 'Rue Saint Honoré'\")"
   ]
  },
  {
   "cell_type": "code",
   "execution_count": null,
   "metadata": {},
   "outputs": [],
   "source": [
    "# looking at the job development in the street \"Boulevard Voltaire\"\n",
    "voltaire = rich_data[rich_data[\"streetname\"]==\"Boulevard Voltaire\"]\n",
    "voltaire_jobs = Counter(voltaire[\"tags\"]).most_common(10)\n",
    "voltaire_jobs = [name for name, count in voltaire_jobs]\n",
    "\n",
    "plot_ratio_over_time(voltaire, voltaire_jobs, title=\"Top job development in street 'Boulevard Voltaire'\")"
   ]
  },
  {
   "cell_type": "code",
   "execution_count": null,
   "metadata": {},
   "outputs": [],
   "source": [
    "voltaire.head(1).plot()\n",
    "plt.xlim(250000, 270000)\n",
    "plt.ylim(6244000, 6258000)\n",
    "cx.add_basemap(plt.gca())"
   ]
  },
  {
   "cell_type": "code",
   "execution_count": null,
   "metadata": {},
   "outputs": [],
   "source": []
  }
 ],
 "metadata": {
  "kernelspec": {
   "display_name": "env-FDH",
   "language": "python",
   "name": "python3"
  },
  "language_info": {
   "codemirror_mode": {
    "name": "ipython",
    "version": 3
   },
   "file_extension": ".py",
   "mimetype": "text/x-python",
   "name": "python",
   "nbconvert_exporter": "python",
   "pygments_lexer": "ipython3",
   "version": "3.8.15"
  },
  "orig_nbformat": 4,
  "vscode": {
   "interpreter": {
    "hash": "7d883feb109874adde3860b85ffbf32e7d2f62c837e96b59e44cfd6e783a4204"
   }
  }
 },
 "nbformat": 4,
 "nbformat_minor": 2
}
