{
 "cells": [
  {
   "attachments": {},
   "cell_type": "markdown",
   "metadata": {},
   "source": [
    "# Analysis of Data"
   ]
  },
  {
   "attachments": {},
   "cell_type": "markdown",
   "metadata": {},
   "source": [
    "### Import libraries and data"
   ]
  },
  {
   "cell_type": "code",
   "execution_count": 1,
   "metadata": {},
   "outputs": [],
   "source": [
    "import pandas as pd\n",
    "import geopandas as gpd\n",
    "from collections import Counter\n",
    "import re\n",
    "\n",
    "from analysis import get_prof_str, plot_ratio_over_time, get_jobs_overtime, make_gif,\\\n",
    "     jobs_not_before_after_specific_year, sort_by_number_of_words, plot_profession_selection_on_map"
   ]
  },
  {
   "cell_type": "code",
   "execution_count": 2,
   "metadata": {},
   "outputs": [],
   "source": [
    "rich_data = pd.read_pickle(\"data/unique_aligned_tagged.pkl\")\n",
    "#convert to geopandas dataframe\n",
    "rich_data = gpd.GeoDataFrame(rich_data, geometry=rich_data.geometry)\n",
    "\n",
    "# make profession tags usable (from \"['profession1', 'profession2']\" to \"profession1, profession2\")\n",
    "rich_data[\"tags\"] = rich_data[\"tags\"].apply(get_prof_str)\n",
    "\n",
    "# alternative: rich_data.geometry.representative_point\n",
    "rich_data[\"centroid\"] = rich_data.geometry.centroid"
   ]
  },
  {
   "attachments": {},
   "cell_type": "markdown",
   "metadata": {},
   "source": [
    "## Preparation"
   ]
  },
  {
   "cell_type": "code",
   "execution_count": null,
   "metadata": {},
   "outputs": [
    {
     "data": {
      "text/plain": [
       "<AxesSubplot: >"
      ]
     },
     "execution_count": 86,
     "metadata": {},
     "output_type": "execute_result"
    },
    {
     "data": {
      "image/png": "[encoded data removed]",
      "text/plain": [
       "<Figure size 800x600 with 1 Axes>"
      ]
     },
     "metadata": {},
     "output_type": "display_data"
    }
   ],
   "source": [
    "#binning data: e.g. 1860-1869 -> 1860 (1860s, but in order to keep it an integer, the \"s\" is ommitted)\n",
    "rich_data[\"annee_bin\"] = pd.cut(rich_data[\"annee\"], right=False,\n",
    "                bins=[1830, 1840, 1850, 1860, 1870, 1880, 1890, 1900, 1910, 1920, 1930],\n",
    "                labels=[1839, 1840, 1850, 1860, 1870, 1880, 1890, 1900, 1910, 1920])\n",
    "rich_data[\"annee_bin\"].hist(bins=[1838, 1840, 1850, 1860, 1870, 1880, 1890, 1900, 1910, 1920, 1922])"
   ]
  },
  {
   "cell_type": "code",
   "execution_count": null,
   "metadata": {},
   "outputs": [
    {
     "name": "stdout",
     "output_type": "stream",
     "text": [
      "number of frequent jobs: 4010\n",
      "all rows: 3439059\n",
      "only rows with frequent jobs: 2920181\n"
     ]
    }
   ],
   "source": [
    "# get only jobs with frequency in dataset higher than 50\n",
    "freq_jobs = [metier for metier, count in Counter(rich_data[\"tags\"]).items() if count>50]\n",
    "print(\"number of frequent jobs:\", len(freq_jobs))\n",
    "\n",
    "# see how many rows include frequent jobs\n",
    "print(\"all rows:\", len(rich_data))\n",
    "freq_job_data = rich_data[rich_data[\"tags\"].isin(freq_jobs)]\n",
    "print(\"only rows with frequent jobs:\", len(freq_job_data))"
   ]
  },
  {
   "cell_type": "code",
   "execution_count": null,
   "metadata": {},
   "outputs": [
    {
     "ename": "NameError",
     "evalue": "name 'freq_job_data' is not defined",
     "output_type": "error",
     "traceback": [
      "\u001b[1;31m---------------------------------------------------------------------------\u001b[0m",
      "\u001b[1;31mNameError\u001b[0m                                 Traceback (most recent call last)",
      "Cell \u001b[1;32mIn[3], line 5\u001b[0m\n\u001b[0;32m      1\u001b[0m \u001b[39m# check how the selection of frequent jobs puts bias in data\u001b[39;00m\n\u001b[0;32m      2\u001b[0m \n\u001b[0;32m      3\u001b[0m \u001b[39m# create dataframe with absolute frequency of professions in rich_data and freq_job_data\u001b[39;00m\n\u001b[0;32m      4\u001b[0m count_year \u001b[39m=\u001b[39m rich_data\u001b[39m.\u001b[39mgroupby(by\u001b[39m=\u001b[39m\u001b[39m\"\u001b[39m\u001b[39mannee\u001b[39m\u001b[39m\"\u001b[39m)\u001b[39m.\u001b[39mcount()[[\u001b[39m\"\u001b[39m\u001b[39mtags\u001b[39m\u001b[39m\"\u001b[39m]]\n\u001b[1;32m----> 5\u001b[0m count_year_freq \u001b[39m=\u001b[39m freq_job_data\u001b[39m.\u001b[39mgroupby(by\u001b[39m=\u001b[39m\u001b[39m\"\u001b[39m\u001b[39mannee\u001b[39m\u001b[39m\"\u001b[39m)\u001b[39m.\u001b[39mcount()[[\u001b[39m\"\u001b[39m\u001b[39mtags\u001b[39m\u001b[39m\"\u001b[39m]]\n\u001b[0;32m      6\u001b[0m both_freq \u001b[39m=\u001b[39m count_year\u001b[39m.\u001b[39mjoin(count_year_freq, lsuffix\u001b[39m=\u001b[39m\u001b[39m\"\u001b[39m\u001b[39m_all\u001b[39m\u001b[39m\"\u001b[39m)\n\u001b[0;32m      8\u001b[0m \u001b[39m# this plot shows that the omitting of jobs with frequency <50 is affecting all years evenly\u001b[39;00m\n",
      "\u001b[1;31mNameError\u001b[0m: name 'freq_job_data' is not defined"
     ]
    }
   ],
   "source": [
    "# check how the selection of frequent jobs puts bias in data\n",
    "\n",
    "# create dataframe with absolute frequency of professions in rich_data and freq_job_data\n",
    "count_year = rich_data.groupby(by=\"annee\").count()[[\"tags\"]]\n",
    "count_year_freq = freq_job_data.groupby(by=\"annee\").count()[[\"tags\"]]\n",
    "both_freq = count_year.join(count_year_freq, lsuffix=\"_all\")\n",
    "\n",
    "# this plot shows that the omitting of jobs with frequency <50 is affecting all years evenly\n",
    "both_freq.plot.bar(y=[\"tags_all\", \"tags\"], figsize=(10,6))"
   ]
  },
  {
   "attachments": {},
   "cell_type": "markdown",
   "metadata": {},
   "source": [
    "## First Analysis on Professions"
   ]
  },
  {
   "cell_type": "code",
   "execution_count": null,
   "metadata": {},
   "outputs": [
    {
     "name": "stdout",
     "output_type": "stream",
     "text": [
      "Most frequent jobs in profession raw data: [('vins', 223586), ('épicier', 91940), ('médecin', 54067), ('coiffeur', 48743), ('propriétaire', 47738), ('tailleur', 46811), ('boulanger', 43680), ('boucher', 42866), ('architecte', 35107), ('peintre-artiste', 28628)]\n",
      "Most frequent jobs in tagged data: [('vins', 224584), ('épicier', 93451), ('propriétaire', 71463), ('médecin', 56520), ('coiffeur', 49351), ('tailleur', 48580), ('boulanger', 44561), ('boucher', 43278), ('architecte', 36831), ('artiste, peintre', 34347)]\n"
     ]
    }
   ],
   "source": [
    "# compare raw profession data and tags\n",
    "print(\"Most frequent jobs in profession raw data:\", Counter(rich_data[\"metier\"]).most_common(10))\n",
    "print(\"Most frequent jobs in tagged data:\", Counter(rich_data[\"tags\"]).most_common(10))"
   ]
  },
  {
   "cell_type": "code",
   "execution_count": null,
   "metadata": {},
   "outputs": [
    {
     "ename": "NameError",
     "evalue": "name 'freq_job_data' is not defined",
     "output_type": "error",
     "traceback": [
      "\u001b[1;31m---------------------------------------------------------------------------\u001b[0m",
      "\u001b[1;31mNameError\u001b[0m                                 Traceback (most recent call last)",
      "Cell \u001b[1;32mIn[4], line 2\u001b[0m\n\u001b[0;32m      1\u001b[0m \u001b[39m#get ratio of top 10 jobs in dataset\u001b[39;00m\n\u001b[1;32m----> 2\u001b[0m top_jobs10 \u001b[39m=\u001b[39m Counter(freq_job_data[\u001b[39m\"\u001b[39m\u001b[39mtags\u001b[39m\u001b[39m\"\u001b[39m])\u001b[39m.\u001b[39mmost_common(\u001b[39m10\u001b[39m)\n\u001b[0;32m      3\u001b[0m top_jobnames10 \u001b[39m=\u001b[39m [name \u001b[39mfor\u001b[39;00m name, count \u001b[39min\u001b[39;00m top_jobs10]\n\u001b[0;32m      4\u001b[0m plot_ratio_over_time(rich_data, top_jobnames10, title\u001b[39m=\u001b[39m\u001b[39m\"\u001b[39m\u001b[39mDevelopment top 10 jobs in dataset\u001b[39m\u001b[39m\"\u001b[39m)\n",
      "\u001b[1;31mNameError\u001b[0m: name 'freq_job_data' is not defined"
     ]
    }
   ],
   "source": [
    "#get ratio of top 10 jobs in dataset\n",
    "top_jobs10 = Counter(freq_job_data[\"tags\"]).most_common(10)\n",
    "top_jobnames10 = [name for name, count in top_jobs10]\n",
    "plot_ratio_over_time(rich_data, top_jobnames10, title=\"Development top 10 jobs in dataset\")"
   ]
  },
  {
   "attachments": {},
   "cell_type": "markdown",
   "metadata": {},
   "source": [
    "## Street statistics"
   ]
  },
  {
   "cell_type": "code",
   "execution_count": null,
   "metadata": {},
   "outputs": [],
   "source": [
    "#look at most frequent streets\n",
    "top_streets20 = Counter(rich_data[\"streetname\"]).most_common(20)\n",
    "top_streets20 = [name for name, count in top_streets20]\n",
    "\n",
    "plot_ratio_over_time(rich_data, top_streets20, col_name=\"streetname\",\n",
    "        title=\"Development of most frequent streets in dataset\")"
   ]
  },
  {
   "attachments": {},
   "cell_type": "markdown",
   "metadata": {},
   "source": [
    "### Looking at one street"
   ]
  },
  {
   "cell_type": "code",
   "execution_count": null,
   "metadata": {},
   "outputs": [],
   "source": [
    "oberkampf_jobs = get_jobs_overtime(rich_data, \"Rue Oberkampf\")\n",
    "plot_ratio_over_time(rich_data, oberkampf_jobs, title=\"Top job development in street 'Rue Oberkampf'\")"
   ]
  },
  {
   "cell_type": "code",
   "execution_count": null,
   "metadata": {},
   "outputs": [],
   "source": [
    "stgermain_jobs = get_jobs_overtime(rich_data, \"Boulevard Saint-Germain\")\n",
    "plot_ratio_over_time(rich_data, stgermain_jobs, title=\"Top job development in street 'Boulevard Saint-Germain'\")"
   ]
  },
  {
   "attachments": {},
   "cell_type": "markdown",
   "metadata": {},
   "source": [
    "### Most changing jobs"
   ]
  },
  {
   "cell_type": "code",
   "execution_count": null,
   "metadata": {},
   "outputs": [],
   "source": [
    "#safe number of bottin entries per year in a dict {year: #entries}\n",
    "count_per_year = rich_data.groupby(\"annee\").count()\n",
    "count_per_year = dict(zip(count_per_year.index, count_per_year[\"row\"]))\n",
    "#count_per_year"
   ]
  },
  {
   "cell_type": "code",
   "execution_count": null,
   "metadata": {},
   "outputs": [],
   "source": [
    "df = rich_data.groupby([\"tags\", \"annee\"]).count()[[\"row\"]]\n",
    "df[\"job_ratio_by_year\"] = df.apply(lambda x: x.row/count_per_year[x.name[1]], axis=1)\n",
    "df\n"
   ]
  },
  {
   "cell_type": "code",
   "execution_count": null,
   "metadata": {},
   "outputs": [],
   "source": [
    "df_ratio = df[[\"job_ratio_by_year\"]].groupby(\"tags\").std().dropna().sort_values(by=\"job_ratio_by_year\", ascending=False)\n",
    "std_list = list(df_ratio.reset_index().head(20)[\"tags\"])"
   ]
  },
  {
   "cell_type": "code",
   "execution_count": null,
   "metadata": {},
   "outputs": [],
   "source": [
    "plot_ratio_over_time(rich_data, std_list, title=\"Most changing job ratios over time\")"
   ]
  },
  {
   "attachments": {},
   "cell_type": "markdown",
   "metadata": {},
   "source": [
    "### Looking at certain jobs"
   ]
  },
  {
   "cell_type": "code",
   "execution_count": null,
   "metadata": {},
   "outputs": [],
   "source": [
    "chaussures = rich_data[rich_data[\"tags\"]==\"chaussures\"]\n",
    "chaussures.groupby(\"annee\").count()[[\"row\"]].plot.line()"
   ]
  },
  {
   "cell_type": "code",
   "execution_count": null,
   "metadata": {},
   "outputs": [],
   "source": [
    "proprietaire = rich_data[rich_data[\"tags\"]==\"propriétaire\"]\n",
    "proprietaire.groupby(\"annee\").count()[[\"row\"]].plot.line()"
   ]
  },
  {
   "attachments": {},
   "cell_type": "markdown",
   "metadata": {},
   "source": [
    "# Professions which were born or died out"
   ]
  },
  {
   "cell_type": "code",
   "execution_count": null,
   "metadata": {},
   "outputs": [],
   "source": [
    "not_after1880, not_before1880 = jobs_not_before_after_specific_year(freq_job_data, 1880)\n",
    "\n",
    "not_bef1880_one, _, _ = sort_by_number_of_words(not_before1880)\n",
    "not_aft1880_one, _, _ = sort_by_number_of_words(not_after1880)\n",
    "print(\"new profession entries - only after 1880 (one word entries):\\n\", not_bef1880_one, \n",
    "        \"\\n\\nold profession entries - only before 1880 (one word entries):\\n\", not_aft1880_one)\n"
   ]
  },
  {
   "cell_type": "code",
   "execution_count": null,
   "metadata": {},
   "outputs": [],
   "source": [
    "plot_ratio_over_time(rich_data, not_aft1880_one+not_bef1880_one, \n",
    "            title=\"Jobs which died out before or appeared after 1880\")"
   ]
  },
  {
   "attachments": {},
   "cell_type": "markdown",
   "metadata": {},
   "source": [
    "### Working with geodata"
   ]
  },
  {
   "cell_type": "code",
   "execution_count": null,
   "metadata": {},
   "outputs": [],
   "source": [
    "for year in [1922]:#sorted(rich_data[\"annee\"].unique()):\n",
    "    plot_profession_selection_on_map(rich_data, professions=[\"horloger\", \"modes\"], year=year)"
   ]
  },
  {
   "cell_type": "code",
   "execution_count": null,
   "metadata": {},
   "outputs": [],
   "source": [
    "#make_gif(sorted(rich_data[\"annee\"].unique()))"
   ]
  },
  {
   "attachments": {},
   "cell_type": "markdown",
   "metadata": {},
   "source": [
    "# Heatmaps\n",
    "### with code from\n",
    "https://nbviewer.org/gist/perrygeo/c426355e40037c452434"
   ]
  },
  {
   "cell_type": "code",
   "execution_count": null,
   "metadata": {},
   "outputs": [
    {
     "name": "stderr",
     "output_type": "stream",
     "text": [
      "C:\\Users\\Lea\\AppData\\Local\\Temp/ipykernel_12432/2758244975.py:24: RuntimeWarning: divide by zero encountered in log\n",
      "  logheatmap = np.log(heatmap)\n",
      "C:\\Users\\Lea\\AppData\\Local\\Temp/ipykernel_12432/2758244975.py:26: DeprecationWarning: Please use `gaussian_filter` from the `scipy.ndimage` namespace, the `scipy.ndimage.filters` namespace is deprecated.\n",
      "  logheatmap = ndimage.filters.gaussian_filter(logheatmap, smoothing, mode='nearest')\n"
     ]
    },
    {
     "data": {
      "image/png": "[encoded data removed]",
      "text/plain": [
       "<Figure size 576x432 with 2 Axes>"
      ]
     },
     "metadata": {
      "needs_background": "light"
     },
     "output_type": "display_data"
    }
   ],
   "source": [
    "import geopandas as gpd\n",
    "import numpy as np\n",
    "from scipy import ndimage\n",
    "\n",
    "import matplotlib.pylab as pylab\n",
    "import matplotlib.pyplot as plt\n",
    "pylab.rcParams['figure.figsize'] = 8, 6\n",
    "\n",
    "pts = rich_data[(rich_data[\"annee\"]==1922) & (rich_data[\"metier\"] == \"modes\")]\n",
    "pts = pts.rename(columns={\"geometry\":\"geo_col\", \"centroid\":\"geometry\"})\n",
    "\n",
    "def heatmap(d, bins=(100,100), smoothing=1.3, cmap='jet'):\n",
    "    def getx(pt):\n",
    "        return pt.coords[0][0]\n",
    "\n",
    "    def gety(pt):\n",
    "        return pt.coords[0][1]\n",
    "\n",
    "    x = list(d.geometry.apply(getx))\n",
    "    y = list(d.geometry.apply(gety))\n",
    "    heatmap, xedges, yedges = np.histogram2d(y, x, bins=bins)\n",
    "    extent = [yedges[0], yedges[-1], xedges[-1], xedges[0]]\n",
    "\n",
    "    logheatmap = np.log(heatmap)\n",
    "    logheatmap[np.isneginf(logheatmap)] = 0\n",
    "    logheatmap = ndimage.filters.gaussian_filter(logheatmap, smoothing, mode='nearest')\n",
    "    \n",
    "    plt.imshow(logheatmap, cmap=cmap, extent=extent)\n",
    "    plt.colorbar()\n",
    "    plt.gca().invert_yaxis()\n",
    "    plt.show()\n",
    "\n",
    "heatmap(pts, bins=150, smoothing=1.5)\n"
   ]
  },
  {
   "cell_type": "code",
   "execution_count": null,
   "metadata": {},
   "outputs": [],
   "source": []
  }
 ],
 "metadata": {
  "kernelspec": {
   "display_name": "env-FDH",
   "language": "python",
   "name": "python3"
  },
  "language_info": {
   "codemirror_mode": {
    "name": "ipython",
    "version": 3
   },
   "file_extension": ".py",
   "mimetype": "text/x-python",
   "name": "python",
   "nbconvert_exporter": "python",
   "pygments_lexer": "ipython3",
   "version": "3.8.15"
  },
  "orig_nbformat": 4,
  "vscode": {
   "interpreter": {
    "hash": "7d883feb109874adde3860b85ffbf32e7d2f62c837e96b59e44cfd6e783a4204"
   }
  }
 },
 "nbformat": 4,
 "nbformat_minor": 2
}
