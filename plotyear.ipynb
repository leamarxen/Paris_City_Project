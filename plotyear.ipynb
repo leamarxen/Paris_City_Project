{
 "cells": [
  {
   "cell_type": "code",
   "execution_count": 5,
   "metadata": {},
   "outputs": [],
   "source": [
    "import numpy as np\n",
    "import pandas as pd\n",
    "import matplotlib.pyplot as plt\n",
    "\n"
   ]
  },
  {
   "cell_type": "code",
   "execution_count": 3,
   "metadata": {},
   "outputs": [],
   "source": [
    "years = pd.read_csv(\"data/strict_addressing.csv\")"
   ]
  },
  {
   "cell_type": "code",
   "execution_count": 8,
   "metadata": {},
   "outputs": [
    {
     "data": {
      "text/plain": [
       "(array([ 37177.,  42666.,  82419.,  42003.,  43238.,  91708.,  51012.,\n",
       "         98952.,  50773.,  52226., 110920.,  59626.,  61441., 125123.,\n",
       "         61200., 139362.,  74405.,  75157.,  73457.,      0.,      0.,\n",
       "             0.,  83259.,  79578.,  79407.,  79286., 169263.,  87461.,\n",
       "        177580.,  88938.,  97380., 195949.,  97553., 208452., 102133.,\n",
       "        101782.,  98413.,      0.,      0., 206529.,      0., 225185.,\n",
       "        117566.,      0., 242878.,      0.,      0.,      0.,      0.,\n",
       "        121765.,      0.,      0.,      0.,      0., 123464.,      0.,\n",
       "             0.,      0.,      0., 249478.]),\n",
       " array([1839.        , 1840.38333333, 1841.76666667, 1843.15      ,\n",
       "        1844.53333333, 1845.91666667, 1847.3       , 1848.68333333,\n",
       "        1850.06666667, 1851.45      , 1852.83333333, 1854.21666667,\n",
       "        1855.6       , 1856.98333333, 1858.36666667, 1859.75      ,\n",
       "        1861.13333333, 1862.51666667, 1863.9       , 1865.28333333,\n",
       "        1866.66666667, 1868.05      , 1869.43333333, 1870.81666667,\n",
       "        1872.2       , 1873.58333333, 1874.96666667, 1876.35      ,\n",
       "        1877.73333333, 1879.11666667, 1880.5       , 1881.88333333,\n",
       "        1883.26666667, 1884.65      , 1886.03333333, 1887.41666667,\n",
       "        1888.8       , 1890.18333333, 1891.56666667, 1892.95      ,\n",
       "        1894.33333333, 1895.71666667, 1897.1       , 1898.48333333,\n",
       "        1899.86666667, 1901.25      , 1902.63333333, 1904.01666667,\n",
       "        1905.4       , 1906.78333333, 1908.16666667, 1909.55      ,\n",
       "        1910.93333333, 1912.31666667, 1913.7       , 1915.08333333,\n",
       "        1916.46666667, 1917.85      , 1919.23333333, 1920.61666667,\n",
       "        1922.        ]),\n",
       " <BarContainer object of 60 artists>)"
      ]
     },
     "execution_count": 8,
     "metadata": {},
     "output_type": "execute_result"
    },
    {
     "data": {
      "image/png": "[encoded data removed]",
      "text/plain": [
       "<Figure size 432x288 with 1 Axes>"
      ]
     },
     "metadata": {
      "needs_background": "light"
     },
     "output_type": "display_data"
    }
   ],
   "source": [
    "plt.hist(years[\"annee\"], bins=60)"
   ]
  }
 ],
 "metadata": {
  "kernelspec": {
   "display_name": "Python 3.10.4 64-bit",
   "language": "python",
   "name": "python3"
  },
  "language_info": {
   "codemirror_mode": {
    "name": "ipython",
    "version": 3
   },
   "file_extension": ".py",
   "mimetype": "text/x-python",
   "name": "python",
   "nbconvert_exporter": "python",
   "pygments_lexer": "ipython3",
   "version": "3.10.4"
  },
  "orig_nbformat": 4,
  "vscode": {
   "interpreter": {
    "hash": "e192c477015e0c8e4427e2a21fcada2aaf43102079abc726728a52ed32b2764a"
   }
  }
 },
 "nbformat": 4,
 "nbformat_minor": 2
}
