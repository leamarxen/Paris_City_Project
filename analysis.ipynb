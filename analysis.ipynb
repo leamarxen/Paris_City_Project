{
 "cells": [
  {
   "attachments": {},
   "cell_type": "markdown",
   "metadata": {},
   "source": [
    "# Analysis of Data"
   ]
  },
  {
   "attachments": {},
   "cell_type": "markdown",
   "metadata": {},
   "source": [
    "## Import libraries and data"
   ]
  },
  {
   "cell_type": "code",
   "execution_count": null,
   "metadata": {},
   "outputs": [],
   "source": [
    "import pandas as pd\n",
    "import geopandas as gpd\n",
    "from collections import Counter\n",
    "import re"
   ]
  },
  {
   "cell_type": "code",
   "execution_count": null,
   "metadata": {},
   "outputs": [],
   "source": [
    "rich_data = pd.read_pickle(\"data/unique_aligned_tagged.pkl\")\n",
    "#convert to geopandas dataframe\n",
    "rich_data = gpd.GeoDataFrame(rich_data, geometry=rich_data.geometry)"
   ]
  },
  {
   "attachments": {},
   "cell_type": "markdown",
   "metadata": {},
   "source": [
    "## Add column with binned year data"
   ]
  },
  {
   "cell_type": "code",
   "execution_count": null,
   "metadata": {},
   "outputs": [],
   "source": [
    "#binning data: e.g. 1860-1869 -> 1860 (1860s, but in order to keep it an integer, the \"s\" is ommitted)\n",
    "rich_data[\"annee_bin\"] = pd.cut(rich_data[\"annee\"], right=False,\n",
    "                bins=[1830, 1840, 1850, 1860, 1870, 1880, 1890, 1900, 1910, 1920, 1930],\n",
    "                labels=[1839, 1840, 1850, 1860, 1870, 1880, 1890, 1900, 1910, 1920])"
   ]
  },
  {
   "cell_type": "code",
   "execution_count": null,
   "metadata": {},
   "outputs": [],
   "source": [
    "rich_data[\"annee_bin\"].hist(bins=[1838, 1840, 1850, 1860, 1870, 1880, 1890, 1900, 1910, 1920, 1922])"
   ]
  },
  {
   "attachments": {},
   "cell_type": "markdown",
   "metadata": {},
   "source": [
    "## First Analysis on Professions"
   ]
  },
  {
   "cell_type": "code",
   "execution_count": null,
   "metadata": {},
   "outputs": [],
   "source": [
    "# make profession tags usable\n",
    "\n",
    "def get_prof_list(entry):\n",
    "    entry = str(entry)\n",
    "    return re.findall(\"'([a-zA-ZÀ-ÿ]+)'\", entry)\n",
    "\n",
    "def get_prof_str(entry):\n",
    "    return \", \".join(get_prof_list(entry))\n",
    "\n",
    "rich_data[\"tags\"] = rich_data[\"tags\"].apply(get_prof_str)"
   ]
  },
  {
   "cell_type": "code",
   "execution_count": null,
   "metadata": {},
   "outputs": [],
   "source": [
    "rich_data[\"tags\"].head(1)"
   ]
  },
  {
   "cell_type": "code",
   "execution_count": null,
   "metadata": {},
   "outputs": [],
   "source": [
    "# first look into profession data\n",
    "print(Counter(rich_data[\"metier\"]).most_common(10))\n",
    "print(Counter(rich_data[\"tags\"]).most_common(10))"
   ]
  },
  {
   "cell_type": "code",
   "execution_count": null,
   "metadata": {},
   "outputs": [],
   "source": [
    "# get only jobs with frequency in dataset higher than 50\n",
    "freq_jobs = [metier for metier, count in Counter(rich_data[\"tags\"]).items() if count>50]\n",
    "print(\"number of frequent jobs:\", len(freq_jobs))"
   ]
  },
  {
   "cell_type": "code",
   "execution_count": null,
   "metadata": {},
   "outputs": [],
   "source": [
    "# see how many rows include frequent jobs\n",
    "print(\"all rows:\", len(rich_data))\n",
    "freq_job_data = rich_data[rich_data[\"tags\"].isin(freq_jobs)]\n",
    "print(\"only rows with frequent jobs:\", len(freq_job_data))"
   ]
  },
  {
   "cell_type": "code",
   "execution_count": null,
   "metadata": {},
   "outputs": [],
   "source": [
    "count_year = rich_data.groupby(by=\"annee\").count()[[\"tags\"]]\n",
    "count_year_freq = freq_job_data.groupby(by=\"annee\").count()[[\"tags\"]]\n",
    "both_freq = count_year.join(count_year_freq, lsuffix=\"_all\")\n",
    "\n",
    "# this plot shows that the omitting of jobs with frequency <50 is affecting all years evenly\n",
    "both_freq.plot.bar(y=[\"tags_all\", \"tags\"], figsize=(10,6))"
   ]
  },
  {
   "cell_type": "code",
   "execution_count": null,
   "metadata": {},
   "outputs": [],
   "source": [
    "def plot_ratio_over_time(df, top_names, col_name=\"tags\", title=\"\"):\n",
    "    '''\n",
    "    Computes the ratio top_names/all for each year in the dataframe and each name in top_names\n",
    "    and stores them in a new df.\n",
    "\n",
    "    Parameters:\n",
    "    ----------------\n",
    "    df: dataframe with relevant data\n",
    "    '''\n",
    "    #get list of all years in dataframe\n",
    "    all_years = sorted(df[\"annee\"].unique())\n",
    "    #instantiate empty dataframe\n",
    "    df_top_jobs = pd.DataFrame(columns=top_names, index=all_years)\n",
    "    for year in all_years:\n",
    "        year_data = df[df[\"annee\"]==year]\n",
    "        len_year = len(year_data)\n",
    "        # get ratio for all jobs\n",
    "        for top_job in top_names:\n",
    "            job_ratio = len(year_data[year_data[col_name]==top_job])/len_year\n",
    "            df_top_jobs.loc[year, top_job] = job_ratio   \n",
    "    ax = df_top_jobs.plot.line(figsize=(10,6), title=title)\n",
    "    ax.legend(bbox_to_anchor=(1.0, 1.0))\n",
    "    return ax.plot()  "
   ]
  },
  {
   "cell_type": "code",
   "execution_count": null,
   "metadata": {},
   "outputs": [],
   "source": [
    "#get ratio of top 10 jobs in dataset\n",
    "top_jobs10 = Counter(freq_job_data[\"tags\"]).most_common(10)\n",
    "top_jobnames10 = [name for name, count in top_jobs10]\n",
    "plot_ratio_over_time(rich_data, top_jobnames10, title=\"Development top 10 jobs in dataset\")"
   ]
  },
  {
   "cell_type": "code",
   "execution_count": null,
   "metadata": {},
   "outputs": [],
   "source": [
    "#get ratio of 20 top jobs in dataset\n",
    "top_jobs20 = Counter(freq_job_data[\"tags\"]).most_common(20)\n",
    "top_jobnames20 = [name for name, count in top_jobs20]\n",
    "plot_ratio_over_time(rich_data, top_jobnames20, title=\"Development top 20 jobs in dataset\")"
   ]
  },
  {
   "attachments": {},
   "cell_type": "markdown",
   "metadata": {},
   "source": [
    "## Street statistics"
   ]
  },
  {
   "cell_type": "code",
   "execution_count": null,
   "metadata": {},
   "outputs": [],
   "source": [
    "#can use the jobcode also to plot most frequent streets\n",
    "top_streets20 = Counter(rich_data[\"streetname\"]).most_common(20)\n",
    "top_streets20 = [name for name, count in top_streets20]\n",
    "\n",
    "plot_ratio_over_time(rich_data, top_streets20, col_name=\"streetname\",\n",
    "        title=\"Development of most frequent streets in dataset\")"
   ]
  },
  {
   "attachments": {},
   "cell_type": "markdown",
   "metadata": {},
   "source": [
    "### Looking at one street"
   ]
  },
  {
   "cell_type": "code",
   "execution_count": null,
   "metadata": {},
   "outputs": [],
   "source": [
    "def get_jobs_overtime(df, streetname, int_top_per_decade=10):\n",
    "    selected = rich_data[rich_data[\"streetname\"]==streetname]\n",
    "    selected_decades = sorted(selected[\"annee_bin\"].unique())\n",
    "\n",
    "    selected_jobs = []\n",
    "    for decade in selected_decades:\n",
    "        selected_dec_data = selected[selected[\"annee_bin\"]==decade]\n",
    "        top_dec_jobs = Counter(selected_dec_data[\"tags\"]).most_common(int_top_per_decade)\n",
    "        top_dec_jobs = [name for name, count in top_dec_jobs]\n",
    "        selected_jobs += top_dec_jobs\n",
    "    # delete duplicates\n",
    "    return list(set(selected_jobs))\n",
    "\n",
    "oberkampf_jobs = get_jobs_overtime(rich_data, \"Rue Oberkampf\")\n",
    "plot_ratio_over_time(rich_data, oberkampf_jobs, title=\"Top job development in street 'Rue Oberkampf'\")"
   ]
  },
  {
   "cell_type": "code",
   "execution_count": null,
   "metadata": {},
   "outputs": [],
   "source": [
    "stgermain_jobs = get_jobs_overtime(rich_data, \"Boulevard Saint-Germain\")\n",
    "plot_ratio_over_time(rich_data, stgermain_jobs, title=\"Top job development in street 'Boulevard Saint-Germain'\")"
   ]
  },
  {
   "attachments": {},
   "cell_type": "markdown",
   "metadata": {},
   "source": [
    "### Most changing jobs"
   ]
  },
  {
   "cell_type": "code",
   "execution_count": null,
   "metadata": {},
   "outputs": [],
   "source": [
    "#safe number of bottin entries per year in a dict {year: #entries}\n",
    "count_per_year = rich_data.groupby(\"annee\").count()\n",
    "count_per_year = dict(zip(count_per_year.index, count_per_year[\"row\"]))\n",
    "#count_per_year"
   ]
  },
  {
   "cell_type": "code",
   "execution_count": null,
   "metadata": {},
   "outputs": [],
   "source": [
    "df = rich_data.groupby([\"tags\", \"annee\"]).count()[[\"row\"]]\n",
    "df[\"job_ratio_by_year\"] = df.apply(lambda x: x.row/count_per_year[x.name[1]], axis=1)\n",
    "df\n"
   ]
  },
  {
   "cell_type": "code",
   "execution_count": null,
   "metadata": {},
   "outputs": [],
   "source": [
    "df_ratio = df[[\"job_ratio_by_year\"]].groupby(\"tags\").std().dropna().sort_values(by=\"job_ratio_by_year\", ascending=False)\n",
    "std_list = list(df_ratio.reset_index().head(20)[\"tags\"])"
   ]
  },
  {
   "cell_type": "code",
   "execution_count": null,
   "metadata": {},
   "outputs": [],
   "source": [
    "plot_ratio_over_time(rich_data, std_list, title=\"Most changing job ratios over time\")"
   ]
  },
  {
   "attachments": {},
   "cell_type": "markdown",
   "metadata": {},
   "source": [
    "### Looking at certain jobs"
   ]
  },
  {
   "cell_type": "code",
   "execution_count": null,
   "metadata": {},
   "outputs": [],
   "source": [
    "chaussures = rich_data[rich_data[\"tags\"]==\"chaussures\"]\n",
    "chaussures.groupby(\"annee\").count()[[\"row\"]].plot.line()"
   ]
  },
  {
   "cell_type": "code",
   "execution_count": null,
   "metadata": {},
   "outputs": [],
   "source": [
    "proprietaire = rich_data[rich_data[\"tags\"]==\"propriétaire\"]\n",
    "proprietaire.groupby(\"annee\").count()[[\"row\"]].plot.line()"
   ]
  },
  {
   "attachments": {},
   "cell_type": "markdown",
   "metadata": {},
   "source": [
    "# Professions which were born or died out"
   ]
  },
  {
   "cell_type": "code",
   "execution_count": null,
   "metadata": {},
   "outputs": [],
   "source": [
    "def jobs_not_before_after_specific_year(df, year, job_col=\"tags\"):\n",
    "    '''\n",
    "    Splits dataset in before and after given year, then checks for jobs which are only in one of the\n",
    "    two sets.\n",
    "    '''\n",
    "    df = freq_job_data.groupby([\"annee\", job_col]).count().reset_index()\n",
    "    df[\"afterYearX\"] = df.apply(lambda x: x.annee>year, axis=1)\n",
    "    grouped_df = df.groupby([\"afterYearX\", job_col]).count().reset_index()    \n",
    "    \n",
    "    after = grouped_df[grouped_df[\"afterYearX\"]]\n",
    "    before = grouped_df[~grouped_df[\"afterYearX\"]]\n",
    "\n",
    "    jobs_after = set(after[job_col])\n",
    "    jobs_before = set(before[job_col])\n",
    "\n",
    "    not_before_yearX = jobs_after.difference(jobs_before)\n",
    "    not_after_yearX = jobs_before.difference(jobs_after)\n",
    "\n",
    "    return not_after_yearX, not_before_yearX\n",
    "\n",
    "def sort_by_number_of_words(set_data):\n",
    "    '''\n",
    "    Takes profession strings, checks how many words are contained in them and returns them sorted by\n",
    "    the number of words (one, two or more words)\n",
    "    '''\n",
    "    list_data = list(set_data)\n",
    "    one_word = []\n",
    "    two_words = []\n",
    "    more_words = []\n",
    "    for entry in list_data:\n",
    "        entry_list = entry.split(\", \")\n",
    "        if len(entry_list) == 1:\n",
    "            one_word += entry_list\n",
    "        elif len(entry_list) == 2:\n",
    "            two_words.append(\", \".join(entry_list))\n",
    "        else:\n",
    "            more_words.append(\", \".join(entry_list))\n",
    "    \n",
    "    return one_word, two_words, more_words"
   ]
  },
  {
   "cell_type": "code",
   "execution_count": null,
   "metadata": {},
   "outputs": [],
   "source": [
    "not_after1880, not_before1880 = jobs_not_before_after_specific_year(freq_job_data, 1880)\n",
    "\n",
    "not_bef1880_one, _, _ = sort_by_number_of_words(not_before1880)\n",
    "not_aft1880_one, _, _ = sort_by_number_of_words(not_after1880)\n",
    "print(\"new profession entries - only after 1880 (one word entries):\\n\", not_bef1880_one, \n",
    "        \"\\n\\nold profession entries - only before 1880 (one word entries):\\n\", not_aft1880_one)\n"
   ]
  },
  {
   "cell_type": "code",
   "execution_count": null,
   "metadata": {},
   "outputs": [],
   "source": [
    "plot_ratio_over_time(rich_data, not_aft1880_one+not_bef1880_one, \n",
    "            title=\"Jobs which died out before or appeared after 1880\")"
   ]
  },
  {
   "cell_type": "code",
   "execution_count": null,
   "metadata": {},
   "outputs": [],
   "source": [
    "not_after1860, not_before1860 = jobs_not_before_after_specific_year(freq_job_data, 1860)\n",
    "\n",
    "not_bef1860_one, _, _ = sort_by_number_of_words(not_before1860)\n",
    "not_aft1860_one, _, _ = sort_by_number_of_words(not_after1860)\n",
    "print(\"new profession entries - only after 1860 (one word entries):\\n\", not_bef1860_one, \n",
    "        \"\\n\\nold profession entries - only before 1860 (one word entries):\\n\", not_aft1860_one)\n"
   ]
  },
  {
   "cell_type": "code",
   "execution_count": null,
   "metadata": {},
   "outputs": [],
   "source": [
    "not_after1900, not_before1900 = jobs_not_before_after_specific_year(freq_job_data, 1900)\n",
    "\n",
    "not_bef1900_one, _, _ = sort_by_number_of_words(not_before1900)\n",
    "not_aft1900_one, _, _ = sort_by_number_of_words(not_after1900)\n",
    "print(\"new profession entries - only after 1900 (one word entries):\\n\", not_bef1900_one, \n",
    "        \"\\n\\nold profession entries - only before 1900 (one word entries):\\n\", not_aft1900_one)\n"
   ]
  },
  {
   "attachments": {},
   "cell_type": "markdown",
   "metadata": {},
   "source": [
    "### Working with geodata"
   ]
  },
  {
   "cell_type": "code",
   "execution_count": null,
   "metadata": {},
   "outputs": [],
   "source": [
    "# alternative: rich_data.geometry.representative_point\n",
    "rich_data[\"centroid\"] = rich_data.geometry.centroid"
   ]
  },
  {
   "cell_type": "code",
   "execution_count": null,
   "metadata": {},
   "outputs": [],
   "source": [
    "from matplotlib import pyplot as plt\n",
    "import contextily as cx\n",
    "\n",
    "def plot_profession_selection_on_map(df, professions, year, geo_col=\"centroid\"):\n",
    "    if not geo_col==\"geometry\":\n",
    "        df = df.rename(columns={\"geometry\":\"polygons\", geo_col:\"geometry\"})\n",
    "    fig, ax = plt.subplots(1,1,figsize=(10, 8))\n",
    "    df_year = df[df[\"annee\"]==year]\n",
    "    df_year_prof = df_year[df_year[\"tags\"].isin(professions)]\n",
    "    title = f\"Professions in Year {year}\"\n",
    "    _ = df_year_prof.plot(column=\"tags\", legend=True, ax=ax)\n",
    "    _ = cx.add_basemap(ax, source=cx.providers.CartoDB.Positron)\n",
    "    _ = ax.set_title(title)\n",
    "    plt.savefig(f\"figures/{year}.jpg\")"
   ]
  },
  {
   "cell_type": "code",
   "execution_count": null,
   "metadata": {},
   "outputs": [],
   "source": [
    "for year in sorted(rich_data[\"annee\"].unique()):\n",
    "    plot_profession_selection_on_map(rich_data, professions=[\"horloger\", \"modes\"], year=year)"
   ]
  },
  {
   "cell_type": "code",
   "execution_count": null,
   "metadata": {},
   "outputs": [],
   "source": [
    "import glob\n",
    "from PIL import Image\n",
    "def make_gif(years):\n",
    "    frames = [Image.open(f\"figures/{year}.jpg\") for year in years]\n",
    "    frame_one = frames[0]\n",
    "    frame_one.save(f\"figures/my_awesome.gif\", format=\"GIF\", append_images=frames,\n",
    "               save_all=True, duration=200, loop=0)\n",
    "    "
   ]
  },
  {
   "cell_type": "code",
   "execution_count": null,
   "metadata": {},
   "outputs": [],
   "source": [
    "make_gif(sorted(rich_data[\"annee\"].unique()))"
   ]
  },
  {
   "cell_type": "code",
   "execution_count": null,
   "metadata": {},
   "outputs": [],
   "source": []
  }
 ],
 "metadata": {
  "kernelspec": {
   "display_name": "base",
   "language": "python",
   "name": "python3"
  },
  "language_info": {
   "codemirror_mode": {
    "name": "ipython",
    "version": 3
   },
   "file_extension": ".py",
   "mimetype": "text/x-python",
   "name": "python",
   "nbconvert_exporter": "python",
   "pygments_lexer": "ipython3",
   "version": "3.8.12"
  },
  "orig_nbformat": 4,
  "vscode": {
   "interpreter": {
    "hash": "098a0dd3104dda9245e32bc4140980e8acec008f0fd7b1a1afbd38055ea17b26"
   }
  }
 },
 "nbformat": 4,
 "nbformat_minor": 2
}
