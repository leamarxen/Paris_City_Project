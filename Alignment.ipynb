{
 "cells": [
  {
   "attachments": {},
   "cell_type": "markdown",
   "metadata": {},
   "source": [
    "# Alignment\n",
    "## Load libraries and data"
   ]
  },
  {
   "cell_type": "code",
   "execution_count": 1,
   "metadata": {},
   "outputs": [],
   "source": [
    "import pandas as pd\n",
    "import geopandas as gpd\n",
    "from collections import Counter\n",
    "import pickle\n",
    "from matplotlib import pyplot as plt\n",
    "\n",
    "from alignment import align_on_column, get_fuzzy_dict\n",
    "from preprocessing import substitute_col_by_dict"
   ]
  },
  {
   "cell_type": "code",
   "execution_count": 2,
   "metadata": {},
   "outputs": [],
   "source": [
    "# set variable to True if you want to use dataset with profession tags (preprocessed with parts of Ravis Code)\n",
    "USE_TAGGED_DATASET = False"
   ]
  },
  {
   "cell_type": "code",
   "execution_count": 3,
   "metadata": {},
   "outputs": [],
   "source": [
    "if USE_TAGGED_DATASET:\n",
    "    bottins = pd.read_pickle(\"data/bottins_tagged_prep.pkl\")\n",
    "else:\n",
    "    bottins = pd.read_pickle(\"data/bottins_prep.pkl\")\n",
    "    \n",
    "streets = pd.read_pickle(\"data/FinalUnique.pkl\")\n",
    "unique_short_s = pd.read_pickle(\"data/unique_short_streets.pkl\")\n",
    "non_unique_short_s = pd.read_pickle(\"data/not_unique_short_streets.pkl\")"
   ]
  },
  {
   "cell_type": "code",
   "execution_count": 4,
   "metadata": {},
   "outputs": [
    {
     "data": {
      "text/html": [
       "<div>\n",
       "<style scoped>\n",
       "    .dataframe tbody tr th:only-of-type {\n",
       "        vertical-align: middle;\n",
       "    }\n",
       "\n",
       "    .dataframe tbody tr th {\n",
       "        vertical-align: top;\n",
       "    }\n",
       "\n",
       "    .dataframe thead th {\n",
       "        text-align: right;\n",
       "    }\n",
       "</style>\n",
       "<table border=\"1\" class=\"dataframe\">\n",
       "  <thead>\n",
       "    <tr style=\"text-align: right;\">\n",
       "      <th></th>\n",
       "      <th>gallica_ark</th>\n",
       "      <th>page</th>\n",
       "      <th>row</th>\n",
       "      <th>nom</th>\n",
       "      <th>metier</th>\n",
       "      <th>rue</th>\n",
       "      <th>numero</th>\n",
       "      <th>annee</th>\n",
       "      <th>rue_processed</th>\n",
       "    </tr>\n",
       "  </thead>\n",
       "  <tbody>\n",
       "    <tr>\n",
       "      <th>0</th>\n",
       "      <td>bpt6k6282019m</td>\n",
       "      <td>144</td>\n",
       "      <td>0</td>\n",
       "      <td>Aaron</td>\n",
       "      <td>bronzes</td>\n",
       "      <td>passage Choiseal</td>\n",
       "      <td>72 et 74.</td>\n",
       "      <td>1855</td>\n",
       "      <td>passage choiseal</td>\n",
       "    </tr>\n",
       "    <tr>\n",
       "      <th>1</th>\n",
       "      <td>bpt6k6282019m</td>\n",
       "      <td>144</td>\n",
       "      <td>1</td>\n",
       "      <td>Aaron (Mic.)</td>\n",
       "      <td>manuf. de porcelaines</td>\n",
       "      <td>Bondy</td>\n",
       "      <td>30.</td>\n",
       "      <td>1855</td>\n",
       "      <td>bondy</td>\n",
       "    </tr>\n",
       "    <tr>\n",
       "      <th>2</th>\n",
       "      <td>bpt6k6282019m</td>\n",
       "      <td>144</td>\n",
       "      <td>3</td>\n",
       "      <td>Abadie</td>\n",
       "      <td>architecte</td>\n",
       "      <td>Provence</td>\n",
       "      <td>7.</td>\n",
       "      <td>1855</td>\n",
       "      <td>provence</td>\n",
       "    </tr>\n",
       "  </tbody>\n",
       "</table>\n",
       "</div>"
      ],
      "text/plain": [
       "     gallica_ark  page  row           nom                 metier  \\\n",
       "0  bpt6k6282019m   144    0         Aaron                bronzes   \n",
       "1  bpt6k6282019m   144    1  Aaron (Mic.)  manuf. de porcelaines   \n",
       "2  bpt6k6282019m   144    3        Abadie             architecte   \n",
       "\n",
       "                rue     numero  annee     rue_processed  \n",
       "0  passage Choiseal  72 et 74.   1855  passage choiseal  \n",
       "1             Bondy        30.   1855             bondy  \n",
       "2          Provence         7.   1855          provence  "
      ]
     },
     "execution_count": 4,
     "metadata": {},
     "output_type": "execute_result"
    }
   ],
   "source": [
    "bottins.head(3)"
   ]
  },
  {
   "cell_type": "markdown",
   "metadata": {},
   "source": [
    "## Align data"
   ]
  },
  {
   "cell_type": "code",
   "execution_count": 5,
   "metadata": {},
   "outputs": [
    {
     "name": "stderr",
     "output_type": "stream",
     "text": [
      "c:\\Users\\Lea\\Documents\\Uni Aachen\\4. Semester\\DH-405 Foundation Digital Humanities\\project\\Paris_City_Project\\alignment.py:22: SettingWithCopyWarning: \n",
      "A value is trying to be set on a copy of a slice from a DataFrame.\n",
      "Try using .loc[row_indexer,col_indexer] = value instead\n",
      "\n",
      "See the caveats in the documentation: https://pandas.pydata.org/pandas-docs/stable/user_guide/indexing.html#returning-a-view-versus-a-copy\n",
      "  newly_aligned[\"align_method\"] = align_method\n"
     ]
    },
    {
     "name": "stdout",
     "output_type": "stream",
     "text": [
      "Joining on rue_processed and streetname_prep, method:perfect\n",
      "#total aligned: 1200028, newly aligned: 1200028, not aligned: 3206136\n"
     ]
    },
    {
     "name": "stderr",
     "output_type": "stream",
     "text": [
      "c:\\Users\\Lea\\Documents\\Uni Aachen\\4. Semester\\DH-405 Foundation Digital Humanities\\project\\Paris_City_Project\\alignment.py:22: SettingWithCopyWarning: \n",
      "A value is trying to be set on a copy of a slice from a DataFrame.\n",
      "Try using .loc[row_indexer,col_indexer] = value instead\n",
      "\n",
      "See the caveats in the documentation: https://pandas.pydata.org/pandas-docs/stable/user_guide/indexing.html#returning-a-view-versus-a-copy\n",
      "  newly_aligned[\"align_method\"] = align_method\n"
     ]
    },
    {
     "name": "stdout",
     "output_type": "stream",
     "text": [
      "Joining on rue_processed and name_prep, method:perfect short\n",
      "#total aligned: 1559252, newly aligned: 1559252, not aligned: 1646884\n"
     ]
    },
    {
     "name": "stderr",
     "output_type": "stream",
     "text": [
      "c:\\Users\\Lea\\Documents\\Uni Aachen\\4. Semester\\DH-405 Foundation Digital Humanities\\project\\Paris_City_Project\\alignment.py:22: SettingWithCopyWarning: \n",
      "A value is trying to be set on a copy of a slice from a DataFrame.\n",
      "Try using .loc[row_indexer,col_indexer] = value instead\n",
      "\n",
      "See the caveats in the documentation: https://pandas.pydata.org/pandas-docs/stable/user_guide/indexing.html#returning-a-view-versus-a-copy\n",
      "  newly_aligned[\"align_method\"] = align_method\n"
     ]
    },
    {
     "name": "stdout",
     "output_type": "stream",
     "text": [
      "Joining on rue_processed and name_prep, method:perfect short\n",
      "#total aligned: 481773, newly aligned: 481773, not aligned: 1165111\n"
     ]
    }
   ],
   "source": [
    "long_aligned, not_aligned = align_on_column(df_not_aligned = bottins, df_streets = streets, \n",
    "                    mergeOnLeft=\"rue_processed\", mergeOnRight=\"streetname_prep\", align_method=\"perfect\")\n",
    "u_short_aligned, not_aligned = align_on_column(df_not_aligned = not_aligned, df_streets= unique_short_s, \n",
    "                    mergeOnLeft=\"rue_processed\", mergeOnRight=\"name_prep\", align_method=\"perfect short\")\n",
    "nu_short_aligned, not_aligned = align_on_column(df_not_aligned = not_aligned, df_streets= non_unique_short_s, \n",
    "                    mergeOnLeft=\"rue_processed\", mergeOnRight=\"name_prep\", align_method=\"perfect short\")                "
   ]
  },
  {
   "cell_type": "markdown",
   "metadata": {},
   "source": [
    "## Substitute words by dictionary"
   ]
  },
  {
   "cell_type": "code",
   "execution_count": 6,
   "metadata": {},
   "outputs": [],
   "source": [
    "word_dict = {\"boulevard\": \"boulevard de\",\n",
    "                \"boulevard de de \": \"boulevard de \",\n",
    "                \"boulevard de d'\": \"boulevard d'\",\n",
    "                \"boulevards\": \"boulevard des\",\n",
    "                \"damede\": \"dame de\",\n",
    "                \"damedes\": \"dame des\",\n",
    "                \"faubourgsaint\": \"faubourg saint\",\n",
    "                \"faubourgpoissonniere\": \"faubourg poissonniere\",\n",
    "                \"faubourgdu\": \"faubourg du\",\n",
    "                \"faubourgmontmartre\": \"faubourg montmartre\",\n",
    "                \"quai jemmapes\": \"quai de jemmapes\",\n",
    "                \"boulevards italiens\": \"boulevard des italiens\",\n",
    "                \"villeneuve\": \"ville neuve\",\n",
    "                \"quai valmy\": \"quai de valmy\",\n",
    "                \"avenue wagram\": \"avenue de wagram\",\n",
    "                \"boulevard de montparnasse\": \"boulevard du montparnasse\"\n",
    "                }\n",
    "\n",
    "# substitute abbreviations\n",
    "not_aligned[\"rue_processed\"] = substitute_col_by_dict(not_aligned[\"rue_processed\"], word_dict)"
   ]
  },
  {
   "cell_type": "code",
   "execution_count": 7,
   "metadata": {},
   "outputs": [
    {
     "name": "stderr",
     "output_type": "stream",
     "text": [
      "c:\\Users\\Lea\\Documents\\Uni Aachen\\4. Semester\\DH-405 Foundation Digital Humanities\\project\\Paris_City_Project\\alignment.py:22: SettingWithCopyWarning: \n",
      "A value is trying to be set on a copy of a slice from a DataFrame.\n",
      "Try using .loc[row_indexer,col_indexer] = value instead\n",
      "\n",
      "See the caveats in the documentation: https://pandas.pydata.org/pandas-docs/stable/user_guide/indexing.html#returning-a-view-versus-a-copy\n",
      "  newly_aligned[\"align_method\"] = align_method\n"
     ]
    },
    {
     "name": "stdout",
     "output_type": "stream",
     "text": [
      "Joining on rue_processed and streetname_prep, method:perfect\n",
      "#total aligned: 1237352, newly aligned: 37324, not aligned: 1127787\n"
     ]
    },
    {
     "name": "stderr",
     "output_type": "stream",
     "text": [
      "c:\\Users\\Lea\\Documents\\Uni Aachen\\4. Semester\\DH-405 Foundation Digital Humanities\\project\\Paris_City_Project\\alignment.py:22: SettingWithCopyWarning: \n",
      "A value is trying to be set on a copy of a slice from a DataFrame.\n",
      "Try using .loc[row_indexer,col_indexer] = value instead\n",
      "\n",
      "See the caveats in the documentation: https://pandas.pydata.org/pandas-docs/stable/user_guide/indexing.html#returning-a-view-versus-a-copy\n",
      "  newly_aligned[\"align_method\"] = align_method\n"
     ]
    },
    {
     "name": "stdout",
     "output_type": "stream",
     "text": [
      "Joining on rue_processed and name_prep, method:perfect short\n",
      "#total aligned: 1579961, newly aligned: 20709, not aligned: 1107078\n",
      "Joining on rue_processed and name_prep, method:perfect short\n",
      "#total aligned: 481773, newly aligned: 0, not aligned: 1107078\n"
     ]
    }
   ],
   "source": [
    "long_aligned, not_aligned = align_on_column(df_not_aligned = not_aligned, df_streets= streets, \n",
    "                    df_aligned = long_aligned, mergeOnLeft=\"rue_processed\", mergeOnRight=\"streetname_prep\", \n",
    "                    align_method=\"perfect\")\n",
    "u_short_aligned, not_aligned = align_on_column(df_not_aligned = not_aligned, df_streets= unique_short_s, \n",
    "                    df_aligned= u_short_aligned, mergeOnLeft=\"rue_processed\", mergeOnRight=\"name_prep\", \n",
    "                    align_method=\"perfect short\")\n",
    "nu_short_aligned, not_aligned = align_on_column(df_not_aligned = not_aligned, df_streets= non_unique_short_s, \n",
    "                    df_aligned= nu_short_aligned, mergeOnLeft=\"rue_processed\", mergeOnRight=\"name_prep\", \n",
    "                    align_method=\"perfect short\")                "
   ]
  },
  {
   "cell_type": "code",
   "execution_count": 8,
   "metadata": {},
   "outputs": [
    {
     "name": "stdout",
     "output_type": "stream",
     "text": [
      "boulevard de sebasaintopol 14300 [] \n",
      "\n",
      "vieille du temple 10913 ['boulevard du temple', 'rue des fontaines du temple', 'rue des fosses du temple', 'rue du faubourg du temple', 'rue du temple', 'rue vieille du temple'] \n",
      "\n",
      "grenelle saint germain 9656 ['boulevard saint germain', 'cite germain pilon', 'passage saint germain le vieux', 'place saint germain des pres', 'rue des fosses saint germain des pres', \"rue des fosses saint germain l'auxerrois\", \"rue des pretres saint germain l'auxerrois\", 'rue du docteur germain see', 'rue germain pilon', 'rue germaine de stael', 'rue germaine krull', 'rue germaine poinso chapuis', 'rue germaine richier', 'rue germaine tailleferre', 'rue saint germain des pres', \"rue saint germain l'auxerrois\", 'rue sophie germain'] \n",
      "\n",
      "boulevard de saintrasbourg 8483 [] \n",
      "\n",
      "allemagne 6748 [] \n",
      "\n",
      "neuve des petits champs 6086 ['arcades des champs elysees', 'avenue des champs elysees', 'cul de sac du bouquet des champs', 'passage ormeaux grands champs', 'port des champs elysees', 'rond point des champs elysees marcel dassault', 'rue croix des petits champs', 'rue de longchamps', 'rue des champs', 'rue des champs elisees', 'rue des grands champs', 'rue des perchamps', 'rue des petits champs', 'rue du bouquet des champs', 'rue neuve des petits champs', 'rue notre dame des champs'] \n",
      "\n",
      "rochechouart 5863 ['boulevard marguerite de rochechouart', 'rue marguerite de rochechouart'] \n",
      "\n",
      "avenue d'orleans 5775 [\"avenue de la porte d'orleans\", \"galerie d'orleans\", \"les portiques d'orleans\", \"quai d'orleans\", \"route d'orleans\", \"square d'orleans\", \"villa d'orleans\"] \n",
      "\n",
      "jean jaques rousseau 5726 ['avenue armand rousseau', 'avenue theodore rousseau', 'rue du douanier rousseau', 'rue jean jacques rousseau', 'rue trousseau', 'rue waldeck rousseau'] \n",
      "\n",
      "amsainterdam 5366 [] \n",
      "\n",
      "rue de flandre 5072 ['allee des orgues de flandre', 'avenue de flandre', 'passage de flandre'] \n",
      "\n",
      "paradis poissonniere 4692 ['boulevard poissonniere', 'rue du faubourg poissonniere', 'rue poissonniere', 'villa poissonniere'] \n",
      "\n",
      "rue de la chapelle 4385 ['avenue de la chapelle', 'avenue de la porte de la chapelle', 'boulevard de la chapelle', 'cite de la chapelle', 'impasse de la chapelle', 'place de la chapelle', 'rue hermann lachapelle', 'souterrain chapelle'] \n",
      "\n",
      "saint louis marais 4207 ['passage des marais', 'place jean marais'] \n",
      "\n",
      "neuve saint augusaintin 4006 [] \n",
      "\n",
      "four saint germain 3840 ['boulevard saint germain', 'cite germain pilon', 'passage saint germain le vieux', 'place saint germain des pres', 'rue des fosses saint germain des pres', \"rue des fosses saint germain l'auxerrois\", \"rue des pretres saint germain l'auxerrois\", 'rue du docteur germain see', 'rue germain pilon', 'rue germaine de stael', 'rue germaine krull', 'rue germaine poinso chapuis', 'rue germaine richier', 'rue germaine tailleferre', 'rue saint germain des pres', \"rue saint germain l'auxerrois\", 'rue sophie germain'] \n",
      "\n",
      "boulevard de la gare 3827 ['place de la garenne', 'port de la gare', 'quai de la gare', 'rue de la gare', 'rue de la gare de reuilly', 'rue des deux gares'] \n",
      "\n",
      "saint maur popincourt 3809 ['cite popincourt', 'impasse popincourt', 'passage sainte anne popincourt', \"rue de l'asile popincourt\", 'rue du marche popincourt', 'rue neuve popincourt', 'rue saint andre popincourt'] \n",
      "\n",
      "michodiere 3599 ['rue de la michodiere'] \n",
      "\n",
      "saint sebasaintien 3599 [] \n",
      "\n",
      "grenetat 3493 [] \n",
      "\n",
      "boulevard de rochechouart 3382 ['boulevard marguerite de rochechouart', 'rue marguerite de rochechouart'] \n",
      "\n",
      "faubourg saintmartin 3368 [] \n",
      "\n",
      "pasaintourelle 3254 [] \n",
      "\n",
      "rue d'angouleme 3072 [\"cite d'angouleme\"] \n",
      "\n",
      "angouleme du temple 2911 ['boulevard du temple', 'rue des fontaines du temple', 'rue des fosses du temple', 'rue du faubourg du temple', 'rue du temple', 'rue vieille du temple'] \n",
      "\n",
      "rue d'allemagne 2848 [] \n",
      "\n",
      "neuve des mathurins 2828 ['rue neuve des mathurins'] \n",
      "\n",
      "vaneuves 2796 [] \n",
      "\n",
      "vieux augusaintins 2790 [] \n",
      "\n",
      "faubourg saintdenis 2778 [] \n",
      "\n",
      "ouesaint 2665 [] \n",
      "\n",
      "grenelle saint honore 2650 [\"avenue saint honore d'eylau\", 'place du marche saint honore', 'rue du faubourg saint honore', 'rue du marche saint honore', 'rue honore chevalier', 'rue saint honore', 'villa honore gabriel riqueti', 'villa wagram saint honore'] \n",
      "\n",
      "phelippeaux 2552 [] \n",
      "\n",
      "la harpe 2513 ['rue alexandre charpentier', \"rue de l'echarpe\", 'rue de la harpe', 'rue gustave charpentier', 'rue marc antoine charpentier', 'rue tirecharpe'] \n",
      "\n",
      "fontaine saint georges 2480 ['allee georges besse', 'allee georges recipon', 'allee georges rouault', 'avenue georges bernanos', 'avenue georges lafenestre', 'avenue georges lafont', 'avenue georges mandel', 'avenue georges risler', \"place de l'abbe georges henocque\", 'place georges berry', 'place georges guillaumin', 'place georges moustaki', 'place georges mulot', 'place georges pompidou', 'place saint georges', 'promenade georges ulmer', 'rue georges auric', 'rue georges berger', 'rue georges bizet', 'rue georges braque', 'rue georges citerne', 'rue georges de porto riche', 'rue georges desplas', 'rue georges duhamel', 'rue georges dumezil', 'rue georges et maï politzer', 'rue georges lardennois', 'rue georges leclanche', 'rue georges leygues', 'rue georges perec', 'rue georges picquart', 'rue georges pitard', 'rue georges sache', 'rue georges thill', 'rue georges ville', 'rue saint georges', 'square georges contenot', 'square georges lesage', 'voie georges pompidou'] \n",
      "\n",
      "cite trevise 2459 ['cite de trevise', 'rue de trevise'] \n",
      "\n",
      "chaussee d’antin 2368 [] \n",
      "\n",
      "casaintiglione 2365 [] \n",
      "\n",
      "aux ours 2358 ['allee des quatre carrefours', \"cour de l'ours\", 'cours albert ier', 'cours de la reine', 'cours de vincennes', 'cours des avocats', 'cours des marechaux', 'cours du septieme art', 'cours la reine', 'cours paul ricard', 'galerie de nemours', 'impasse bon secours', 'impasse boursault', 'passage des fours a chaux', 'place aurelie nemours', 'place de la bourse', 'rue aux ours', 'rue boursault', 'rue bourseul', 'rue de la bourse', 'rue de nemours', 'rue gregoire de tours', 'rue pierre demours'] \n",
      "\n",
      "rue de vaneuves 2341 [] \n",
      "\n",
      "rue du rue du cherche midi 2262 ['cite du midi', 'cour du midi', 'rue du cherche midi', 'rue du midi'] \n",
      "\n",
      "marais saint martin 2227 ['avenue du general san martin', 'avenue henri martin', 'boulevard saint martin', 'cite saint martin', 'impasse du quarante neuf faubourg saint martin', 'impasse martini', 'impasse neuve saint martin', 'impasse saint martin', 'passage du commerce saint martin', 'place martin nadaud', 'place martine durlach', 'rue achille martinet', 'rue caumartin', 'rue de caumartin', 'rue de la martinique', 'rue des ecluses saint martin', 'rue des fosses saint martin', 'rue du canal saint martin', 'rue du faubourg saint martin', 'rue du vieux marche saint martin', 'rue lamartine', 'rue marietta martin', 'rue martin bernard', 'rue martin garat', 'rue neuve saint martin', 'rue royale saint martin', 'rue saint martin', 'square lamartine'] \n",
      "\n",
      "breda 2151 [] \n",
      "\n",
      "neuve saint eusaintache 2139 [] \n",
      "\n",
      "commerce grenelle 2100 ['boulevard de grenelle', 'cul de sac de grenelle', 'pont de grenelle cadets de saumur', 'port de grenelle', 'quai de grenelle', 'rue beaugrenelle', 'rue de grenelle', 'rue de la ferme de grenelle', 'rue grenelle', 'villa de grenelle'] \n",
      "\n",
      "saintdenis 2093 [] \n",
      "\n",
      "dames batignolles 2065 ['avenue du cimetiere des batignolles', 'boulevard des batignolles', 'rue des batignolles'] \n",
      "\n",
      "godot 2049 ['rue godot de mauroy'] \n",
      "\n",
      "avenue saint ouen 1994 ['avenue de la porte de saint ouen', 'avenue de saint ouen', 'impasse saint ouen', 'rue de rouen', 'souterrain saint ouen'] \n",
      "\n",
      "fontaine moliere 1989 ['passage moliere'] \n",
      "\n",
      "vanneau 1952 [] \n",
      "\n",
      "anjou saint honore 1899 [\"avenue saint honore d'eylau\", 'place du marche saint honore', 'rue du faubourg saint honore', 'rue du marche saint honore', 'rue honore chevalier', 'rue saint honore', 'villa honore gabriel riqueti', 'villa wagram saint honore'] \n",
      "\n",
      "rue d'amsainterdam 1890 [] \n",
      "\n",
      "faubourg saintantoine 1871 [] \n",
      "\n",
      "passage du saumon 1816 [] \n",
      "\n",
      "saintmartin 1803 [] \n",
      "\n",
      "royale saint honore 1784 [\"avenue saint honore d'eylau\", 'place du marche saint honore', 'rue du faubourg saint honore', 'rue du marche saint honore', 'rue honore chevalier', 'rue saint honore', 'villa honore gabriel riqueti', 'villa wagram saint honore'] \n",
      "\n",
      "berlin 1776 [] \n",
      "\n",
      "rue rochechouart 1698 ['boulevard marguerite de rochechouart', 'rue marguerite de rochechouart'] \n",
      "\n",
      "grands augusaintins 1675 [] \n",
      "\n",
      "rue de la pompe 1674 ['impasse de la pompe'] \n",
      "\n",
      "laval 1647 [] \n",
      "\n",
      "ferme des mathurins 1629 ['rue neuve des mathurins'] \n",
      "\n",
      "faubourg sainthonore 1619 [] \n",
      "\n",
      "la tour d'auvergne 1600 [\"impasse louise emilie de la tour d'auvergne\", \"rue de la tour d'auvergne\", \"rue louise emilie de la tour d'auvergne\"] \n",
      "\n",
      "rue jouffroy 1576 ['passage jouffroy', \"rue jouffroy d'abbans\"] \n",
      "\n",
      "rue saint augusaintin 1540 [] \n",
      "\n",
      "rue popincourt 1538 ['cite popincourt', 'impasse popincourt', 'passage sainte anne popincourt', \"rue de l'asile popincourt\", 'rue du marche popincourt', 'rue neuve popincourt', 'rue saint andre popincourt'] \n",
      "\n",
      "avenue malakoff 1538 ['avenue de malakoff', 'impasse de malakoff', 'villa malakoff'] \n",
      "\n",
      "casaintellane 1537 [] \n",
      "\n",
      "rue menilmontant 1534 ['avenue de la porte de menilmontant', 'boulevard de menilmontant', 'passage de la station de menilmontant', 'passage de menilmontant', 'passage du ruisseau de menilmontant', 'place de menilmontant', \"rue de l'elysee menilmontant\", 'rue neuve de menilmontant'] \n",
      "\n",
      "rue levis 1532 ['impasse de levis', 'place de levis', 'rue de levis'] \n",
      "\n",
      "rue pasaintourelle 1528 [] \n",
      "\n",
      "rue du commerce 1508 ['cour du commerce saint andre', 'impasse du commerce', 'passage du commerce saint martin', 'place du commerce'] \n",
      "\n",
      "saint nicolas d'antin 1480 [\"allee d'antin\", \"cite d'antin\", \"impasse d'antin\", \"rue d'antin\", \"rue de la chaussee d'antin\"] \n",
      "\n",
      "passage tivoli 1463 [] \n",
      "\n",
      "passage de l'indusaintrie 1460 [] \n",
      "\n",
      "rue de l'ouesaint 1446 [] \n",
      "\n",
      "rue montmorency 1437 ['avenue de montmorency', 'boulevard de montmorency', 'rue de montmorency', 'rue neuve de montmorency'] \n",
      "\n",
      "amandiers menilmontant 1429 ['avenue de la porte de menilmontant', 'boulevard de menilmontant', 'passage de la station de menilmontant', 'passage de menilmontant', 'passage du ruisseau de menilmontant', 'place de menilmontant', \"rue de l'elysee menilmontant\", 'rue neuve de menilmontant'] \n",
      "\n",
      "quai des grands augusaintins 1428 [] \n",
      "\n",
      "saint nicolas saint antoine 1426 ['cite antoine loubeyre', 'cour du marche saint antoine', 'passage antoine careme', 'passage du petit saint antoine', 'passage saint antoine', 'place antoine furetiere', 'place du docteur antoine beclere', 'place monique antoine', 'rue andre antoine', 'rue antoine arnauld', 'rue antoine bourdelle', 'rue antoine chantin', 'rue antoine dubois', 'rue antoine hajje', 'rue antoine julien henard', 'rue antoine roucher', 'rue antoine vollon', 'rue antoinette fouque', 'rue blanche antoinette', 'rue du faubourg saint antoine', 'rue jean antoine de baïf', 'rue marc antoine charpentier', 'rue saint antoine', 'square antoine arnauld'] \n",
      "\n",
      "rue jean jaques rousseau 1425 ['avenue armand rousseau', 'avenue theodore rousseau', 'rue du douanier rousseau', 'rue jean jacques rousseau', 'rue trousseau', 'rue waldeck rousseau'] \n",
      "\n",
      "place royale 1423 ['allee royale', 'route royale de beaute', 'rue de la forge royale', 'rue royale', 'rue royale saint martin'] \n",
      "\n",
      "quai des celesaintins 1418 [] \n",
      "\n",
      "grayilliers 1400 [] \n",
      "\n",
      "ecuries d'artois 1391 [\"rue comtesse d'artois\", \"rue de la comtesse d'artois\"] \n",
      "\n",
      "avenue de chatillon 1385 ['avenue de la porte de chatillon', 'place de la porte de chatillon', 'rue chatillon', 'rue de chatillon', 'square de chatillon'] \n",
      "\n",
      "asaintorg 1373 [] \n",
      "\n",
      "rue saint sebasaintien 1367 [] \n",
      "\n",
      "bercy saint antoine 1352 ['cite antoine loubeyre', 'cour du marche saint antoine', 'passage antoine careme', 'passage du petit saint antoine', 'passage saint antoine', 'place antoine furetiere', 'place du docteur antoine beclere', 'place monique antoine', 'rue andre antoine', 'rue antoine arnauld', 'rue antoine bourdelle', 'rue antoine chantin', 'rue antoine dubois', 'rue antoine hajje', 'rue antoine julien henard', 'rue antoine roucher', 'rue antoine vollon', 'rue antoinette fouque', 'rue blanche antoinette', 'rue du faubourg saint antoine', 'rue jean antoine de baïf', 'rue marc antoine charpentier', 'rue saint antoine', 'square antoine arnauld'] \n",
      "\n",
      "saint dominique saint germain 1339 ['boulevard saint germain', 'cite germain pilon', 'passage saint germain le vieux', 'place saint germain des pres', 'rue des fosses saint germain des pres', \"rue des fosses saint germain l'auxerrois\", \"rue des pretres saint germain l'auxerrois\", 'rue du docteur germain see', 'rue germain pilon', 'rue germaine de stael', 'rue germaine krull', 'rue germaine poinso chapuis', 'rue germaine richier', 'rue germaine tailleferre', 'rue saint germain des pres', \"rue saint germain l'auxerrois\", 'rue sophie germain'] \n",
      "\n",
      "rue laurisainton 1328 [] \n",
      "\n",
      "neuve saint merri 1310 ['place stuart merrill', 'rue du cloitre saint merri', 'rue saint merri'] \n",
      "\n",
      "anjou marais 1293 ['passage des marais', 'place jean marais'] \n",
      "\n",
      "poliveau 1284 [] \n",
      "\n",
      "nye des petits champs 1282 ['arcades des champs elysees', 'avenue des champs elysees', 'cul de sac du bouquet des champs', 'passage ormeaux grands champs', 'port des champs elysees', 'rond point des champs elysees marcel dassault', 'rue croix des petits champs', 'rue de longchamps', 'rue des champs', 'rue des champs elisees', 'rue des grands champs', 'rue des perchamps', 'rue des petits champs', 'rue du bouquet des champs', 'rue neuve des petits champs', 'rue notre dame des champs'] \n",
      "\n",
      "sainthonore 1263 [] \n",
      "\n",
      "pasaintourel 1262 [] \n",
      "\n"
     ]
    }
   ],
   "source": [
    "most_common = Counter(not_aligned[\"rue_processed\"]).most_common(100)\n",
    "for t in most_common:\n",
    "    rue, occur = t\n",
    "    last = rue.split()[-1]\n",
    "    print(rue, occur, [x for x in streets[\"streetname_prep\"] if last in x], \"\\n\")"
   ]
  },
  {
   "cell_type": "code",
   "execution_count": 9,
   "metadata": {},
   "outputs": [
    {
     "name": "stdout",
     "output_type": "stream",
     "text": [
      "[]\n"
     ]
    }
   ],
   "source": [
    "# to check if something exists in the streets dataset\n",
    "print([x for x in streets[\"streetname_prep\"] if \"boulevards\" in x])\n",
    "#print(streets[streets[\"name_prep\"]==\"la fayette\"])"
   ]
  },
  {
   "cell_type": "code",
   "execution_count": 10,
   "metadata": {},
   "outputs": [
    {
     "data": {
      "text/plain": [
       "[('gren. saint germain', 138),\n",
       " ('boulevard de saintras. bourg', 96),\n",
       " (\"fosses saint germain l'aux.\", 66),\n",
       " ('grenelle saint h.', 64),\n",
       " ('paradis. poissonniere', 58),\n",
       " ('n d. de nazareth', 53),\n",
       " (\"saint germain l'aux.\", 52),\n",
       " ('grenelle. saint germain', 48),\n",
       " ('ferme des math.', 46),\n",
       " ('angouleme du t.', 43),\n",
       " ('michel le. comte', 43),\n",
       " ('saint domin. saint germain', 41),\n",
       " ('gren. saint honore', 39),\n",
       " ('neuve. saint augusaintin', 39),\n",
       " ('bonl. du temple', 38),\n",
       " ('faubourg saint de. nis', 38),\n",
       " ('neuve. saint merri', 38),\n",
       " (\"pretres saint germain l'aux.\", 36),\n",
       " ('la. fayette', 35),\n",
       " ('simon le. franc', 34),\n",
       " ('gra. villiers', 33),\n",
       " ('saint hyacinthe saint m.', 33),\n",
       " ('notre dame. de nazareth', 33),\n",
       " ('neuve. popincourt', 33),\n",
       " ('boulevard de ri. chard lenoir', 33),\n",
       " ('bonl. poissonniere', 32),\n",
       " ('saint de. nis', 32),\n",
       " ('marais saint m.', 32),\n",
       " ('ro. quette', 32),\n",
       " ('boulevard de bonne. nouvelle', 31),\n",
       " ('vieille du. temple', 31),\n",
       " ('s. denis', 30),\n",
       " ('boulevard de des batignol. les', 30),\n",
       " ('boal. beaumarchais', 29),\n",
       " ('avenue des ch. elysees', 29),\n",
       " ('bonl. saint martin', 29),\n",
       " ('vieille. du temple', 29),\n",
       " ('neuve. des mathurins', 29),\n",
       " ('commerce gre. nelle', 29),\n",
       " ('boulevard de menilmon. tant', 29),\n",
       " ('bonl. beaumarchais', 28),\n",
       " ('blancs. manteaux', 28),\n",
       " ('f. poissonniere', 27),\n",
       " ('n d. des champs', 27),\n",
       " ('b. de saintrasbourg', 27),\n",
       " ('montmo. rency', 27),\n",
       " ('faubourg saint ho. nore', 27),\n",
       " ('boulevard de ma. lesherbes', 27),\n",
       " ('coquil. liere', 26),\n",
       " ('gren. saint lazare', 26),\n",
       " ('angouleme saint h.', 26),\n",
       " ('boulevard de sebasainto. pol', 26),\n",
       " ('avenue j. jaures', 26),\n",
       " ('paradis poisson.', 25),\n",
       " ('boucherie des inval.', 25),\n",
       " ('montagne sainte g.', 25),\n",
       " ('vieux. augusaintins', 25),\n",
       " ('travers. saint antoine', 25),\n",
       " ('b. des italiens', 25),\n",
       " ('boui. beaumarchais', 25),\n",
       " ('notre dame de. nazareth', 25),\n",
       " ('boulevard de richard. lenoir', 25),\n",
       " (\"avenue d'i. talie\", 25),\n",
       " ('avenue parmen. tier', 25),\n",
       " ('rue des gravil. liers', 25),\n",
       " ('b. saint martin', 24),\n",
       " ('font. moliere', 24),\n",
       " ('sainte. croix de la bretonnerie', 24),\n",
       " ('culture sainte cath.', 24),\n",
       " ('f. du roule', 24),\n",
       " ('cimet. saint nicolas', 24),\n",
       " ('filles du cal. vaire', 24),\n",
       " ('boulevard de beau. marchais', 24),\n",
       " ('boal. sebasaintopol', 24),\n",
       " ('saint sau. veur', 24),\n",
       " ('francs. bourgeois', 24),\n",
       " ('boui. voltaire', 24),\n",
       " ('b. saint denis', 23),\n",
       " ('valois pal. royal', 23),\n",
       " ('n d. de lorette', 23),\n",
       " ('francs bourg. marais', 23),\n",
       " (\"chaus. d'antin\", 23),\n",
       " ('angouleme. du temple', 23),\n",
       " ('theatre. grenelle', 23),\n",
       " ('boulevard de bonne nou. velle', 23),\n",
       " (\"rue d'a. boukir\", 23),\n",
       " ('n. d. des victoires', 22),\n",
       " ('neuve des petits ch.', 22),\n",
       " (\"bonl. de l'hopital\", 22),\n",
       " ('ri. chelieu', 22),\n",
       " ('pe. tites ecuries', 22),\n",
       " ('neuve.popincourt', 22),\n",
       " ('saint an. toine', 22),\n",
       " ('cha. renton', 22),\n",
       " ('avenue de vil. liers', 22),\n",
       " ('sainte. anne', 21),\n",
       " ('faubourg saint antoi. ne', 21),\n",
       " ('angoul. du temple', 21),\n",
       " ('faubourg s. antoine', 21),\n",
       " ('9. des orfevres', 21)]"
      ]
     },
     "execution_count": 10,
     "metadata": {},
     "output_type": "execute_result"
    }
   ],
   "source": [
    "# get most common in not aligned data\n",
    "Counter([x for x in not_aligned[\"rue_processed\"] if \".\" in x]).most_common(100)"
   ]
  },
  {
   "cell_type": "markdown",
   "metadata": {},
   "source": [
    "### Alignment without spaces"
   ]
  },
  {
   "cell_type": "code",
   "execution_count": 11,
   "metadata": {},
   "outputs": [],
   "source": [
    "replace_spaces = {\"\\ \":\"\", \"\\|\":\"\", \"\\.\":\"\", \"\\:\":\"\", \"\\'\":\"\"}\n",
    "not_aligned[\"no_spaces\"] = not_aligned[\"rue_processed\"].replace(replace_spaces, regex=True)\n",
    "streets[\"no_spaces_long\"] = streets[\"streetname_prep\"].replace(replace_spaces, regex=True)\n",
    "unique_short_s[\"no_spaces_short\"] = unique_short_s[\"name_prep\"].replace(replace_spaces, regex=True)\n",
    "non_unique_short_s[\"no_spaces_short\"] = non_unique_short_s[\"name_prep\"].replace(replace_spaces, regex=True)"
   ]
  },
  {
   "cell_type": "code",
   "execution_count": 12,
   "metadata": {},
   "outputs": [
    {
     "data": {
      "text/html": [
       "<div>\n",
       "<style scoped>\n",
       "    .dataframe tbody tr th:only-of-type {\n",
       "        vertical-align: middle;\n",
       "    }\n",
       "\n",
       "    .dataframe tbody tr th {\n",
       "        vertical-align: top;\n",
       "    }\n",
       "\n",
       "    .dataframe thead th {\n",
       "        text-align: right;\n",
       "    }\n",
       "</style>\n",
       "<table border=\"1\" class=\"dataframe\">\n",
       "  <thead>\n",
       "    <tr style=\"text-align: right;\">\n",
       "      <th></th>\n",
       "      <th>gallica_ark</th>\n",
       "      <th>page</th>\n",
       "      <th>row</th>\n",
       "      <th>nom</th>\n",
       "      <th>metier</th>\n",
       "      <th>rue</th>\n",
       "      <th>numero</th>\n",
       "      <th>annee</th>\n",
       "      <th>rue_processed</th>\n",
       "      <th>no_spaces</th>\n",
       "    </tr>\n",
       "  </thead>\n",
       "  <tbody>\n",
       "    <tr>\n",
       "      <th>0</th>\n",
       "      <td>bpt6k6282019m</td>\n",
       "      <td>144</td>\n",
       "      <td>0</td>\n",
       "      <td>Aaron</td>\n",
       "      <td>bronzes</td>\n",
       "      <td>passage Choiseal</td>\n",
       "      <td>72 et 74.</td>\n",
       "      <td>1855</td>\n",
       "      <td>passage choiseal</td>\n",
       "      <td>passagechoiseal</td>\n",
       "    </tr>\n",
       "    <tr>\n",
       "      <th>1</th>\n",
       "      <td>bpt6k6282019m</td>\n",
       "      <td>144</td>\n",
       "      <td>14</td>\n",
       "      <td>Abault (Paul)</td>\n",
       "      <td>libraire</td>\n",
       "      <td>quai des Angustins</td>\n",
       "      <td>9.</td>\n",
       "      <td>1855</td>\n",
       "      <td>quai des angusaintins</td>\n",
       "      <td>quaidesangusaintins</td>\n",
       "    </tr>\n",
       "    <tr>\n",
       "      <th>2</th>\n",
       "      <td>bpt6k6282019m</td>\n",
       "      <td>144</td>\n",
       "      <td>15</td>\n",
       "      <td>Abavid</td>\n",
       "      <td>vins</td>\n",
       "      <td>Beaujolais-da-Temple</td>\n",
       "      <td>7.</td>\n",
       "      <td>1855</td>\n",
       "      <td>beaujolais da temple</td>\n",
       "      <td>beaujolaisdatemple</td>\n",
       "    </tr>\n",
       "    <tr>\n",
       "      <th>3</th>\n",
       "      <td>bpt6k6282019m</td>\n",
       "      <td>144</td>\n",
       "      <td>16</td>\n",
       "      <td>Abazaer (Are)</td>\n",
       "      <td>cristaux et porcelaines</td>\n",
       "      <td>Pei.Ecuries</td>\n",
       "      <td>26.</td>\n",
       "      <td>1855</td>\n",
       "      <td>pei.ecuries</td>\n",
       "      <td>peiecuries</td>\n",
       "    </tr>\n",
       "    <tr>\n",
       "      <th>4</th>\n",
       "      <td>bpt6k6282019m</td>\n",
       "      <td>144</td>\n",
       "      <td>17</td>\n",
       "      <td>Abbadie (A.) et Montagnan</td>\n",
       "      <td>draps</td>\n",
       "      <td>Neuve-desBons-Enfants</td>\n",
       "      <td>1.</td>\n",
       "      <td>1855</td>\n",
       "      <td>neuve desbons enfants</td>\n",
       "      <td>neuvedesbonsenfants</td>\n",
       "    </tr>\n",
       "  </tbody>\n",
       "</table>\n",
       "</div>"
      ],
      "text/plain": [
       "     gallica_ark  page  row                        nom  \\\n",
       "0  bpt6k6282019m   144    0                      Aaron   \n",
       "1  bpt6k6282019m   144   14              Abault (Paul)   \n",
       "2  bpt6k6282019m   144   15                     Abavid   \n",
       "3  bpt6k6282019m   144   16              Abazaer (Are)   \n",
       "4  bpt6k6282019m   144   17  Abbadie (A.) et Montagnan   \n",
       "\n",
       "                    metier                    rue     numero  annee  \\\n",
       "0                  bronzes       passage Choiseal  72 et 74.   1855   \n",
       "1                 libraire     quai des Angustins         9.   1855   \n",
       "2                     vins   Beaujolais-da-Temple         7.   1855   \n",
       "3  cristaux et porcelaines            Pei.Ecuries        26.   1855   \n",
       "4                    draps  Neuve-desBons-Enfants         1.   1855   \n",
       "\n",
       "           rue_processed            no_spaces  \n",
       "0       passage choiseal      passagechoiseal  \n",
       "1  quai des angusaintins  quaidesangusaintins  \n",
       "2   beaujolais da temple   beaujolaisdatemple  \n",
       "3            pei.ecuries           peiecuries  \n",
       "4  neuve desbons enfants  neuvedesbonsenfants  "
      ]
     },
     "execution_count": 12,
     "metadata": {},
     "output_type": "execute_result"
    }
   ],
   "source": [
    "not_aligned.head(5)"
   ]
  },
  {
   "cell_type": "code",
   "execution_count": 13,
   "metadata": {},
   "outputs": [
    {
     "name": "stderr",
     "output_type": "stream",
     "text": [
      "c:\\Users\\Lea\\Documents\\Uni Aachen\\4. Semester\\DH-405 Foundation Digital Humanities\\project\\Paris_City_Project\\alignment.py:22: SettingWithCopyWarning: \n",
      "A value is trying to be set on a copy of a slice from a DataFrame.\n",
      "Try using .loc[row_indexer,col_indexer] = value instead\n",
      "\n",
      "See the caveats in the documentation: https://pandas.pydata.org/pandas-docs/stable/user_guide/indexing.html#returning-a-view-versus-a-copy\n",
      "  newly_aligned[\"align_method\"] = align_method\n"
     ]
    },
    {
     "name": "stdout",
     "output_type": "stream",
     "text": [
      "Joining on no_spaces and no_spaces_long, method:no spaces perfect\n",
      "#total aligned: 1293044, newly aligned: 55692, not aligned: 1051683\n"
     ]
    },
    {
     "name": "stderr",
     "output_type": "stream",
     "text": [
      "c:\\Users\\Lea\\Documents\\Uni Aachen\\4. Semester\\DH-405 Foundation Digital Humanities\\project\\Paris_City_Project\\alignment.py:22: SettingWithCopyWarning: \n",
      "A value is trying to be set on a copy of a slice from a DataFrame.\n",
      "Try using .loc[row_indexer,col_indexer] = value instead\n",
      "\n",
      "See the caveats in the documentation: https://pandas.pydata.org/pandas-docs/stable/user_guide/indexing.html#returning-a-view-versus-a-copy\n",
      "  newly_aligned[\"align_method\"] = align_method\n"
     ]
    },
    {
     "name": "stdout",
     "output_type": "stream",
     "text": [
      "Joining on no_spaces and no_spaces_short, method:no spaces perfect short\n",
      "#total aligned: 1655102, newly aligned: 75141, not aligned: 976951\n"
     ]
    },
    {
     "name": "stderr",
     "output_type": "stream",
     "text": [
      "c:\\Users\\Lea\\Documents\\Uni Aachen\\4. Semester\\DH-405 Foundation Digital Humanities\\project\\Paris_City_Project\\alignment.py:22: SettingWithCopyWarning: \n",
      "A value is trying to be set on a copy of a slice from a DataFrame.\n",
      "Try using .loc[row_indexer,col_indexer] = value instead\n",
      "\n",
      "See the caveats in the documentation: https://pandas.pydata.org/pandas-docs/stable/user_guide/indexing.html#returning-a-view-versus-a-copy\n",
      "  newly_aligned[\"align_method\"] = align_method\n"
     ]
    },
    {
     "name": "stdout",
     "output_type": "stream",
     "text": [
      "Joining on no_spaces and no_spaces_short, method:no spaces perfect short\n",
      "#total aligned: 495498, newly aligned: 13725, not aligned: 963226\n"
     ]
    }
   ],
   "source": [
    "long_aligned, not_aligned = align_on_column(df_not_aligned = not_aligned, df_streets= streets, \n",
    "                    df_aligned = long_aligned, mergeOnLeft=\"no_spaces\", mergeOnRight=\"no_spaces_long\", \n",
    "                    align_method=\"no spaces perfect\")\n",
    "u_short_aligned, not_aligned = align_on_column(df_not_aligned = not_aligned, df_streets= unique_short_s, \n",
    "                    df_aligned = u_short_aligned, mergeOnLeft=\"no_spaces\", mergeOnRight=\"no_spaces_short\",\n",
    "                    align_method=\"no spaces perfect short\")\n",
    "nu_short_aligned, not_aligned = align_on_column(df_not_aligned = not_aligned, df_streets= non_unique_short_s, \n",
    "                    df_aligned = nu_short_aligned, mergeOnLeft=\"no_spaces\", mergeOnRight=\"no_spaces_short\",\n",
    "                    align_method=\"no spaces perfect short\")"
   ]
  },
  {
   "cell_type": "code",
   "execution_count": 14,
   "metadata": {},
   "outputs": [
    {
     "name": "stderr",
     "output_type": "stream",
     "text": [
      "c:\\Users\\Lea\\anaconda3\\lib\\site-packages\\pandas\\core\\dtypes\\inference.py:387: ShapelyDeprecationWarning: Iteration over multi-part geometries is deprecated and will be removed in Shapely 2.0. Use the `geoms` property to access the constituent parts of a multi-part geometry.\n",
      "  iter(obj)  # Can iterate over it.\n",
      "c:\\Users\\Lea\\anaconda3\\lib\\site-packages\\pandas\\core\\dtypes\\inference.py:388: ShapelyDeprecationWarning: __len__ for multi-part geometries is deprecated and will be removed in Shapely 2.0. Check the length of the `geoms` property instead to get the  number of parts of a multi-part geometry.\n",
      "  len(obj)  # Has a length associated with it.\n",
      "c:\\Users\\Lea\\anaconda3\\lib\\site-packages\\pandas\\io\\formats\\printing.py:117: ShapelyDeprecationWarning: Iteration over multi-part geometries is deprecated and will be removed in Shapely 2.0. Use the `geoms` property to access the constituent parts of a multi-part geometry.\n",
      "  s = iter(seq)\n",
      "c:\\Users\\Lea\\anaconda3\\lib\\site-packages\\pandas\\io\\formats\\printing.py:121: ShapelyDeprecationWarning: __len__ for multi-part geometries is deprecated and will be removed in Shapely 2.0. Check the length of the `geoms` property instead to get the  number of parts of a multi-part geometry.\n",
      "  for i in range(min(nitems, len(seq)))\n",
      "c:\\Users\\Lea\\anaconda3\\lib\\site-packages\\pandas\\io\\formats\\printing.py:125: ShapelyDeprecationWarning: __len__ for multi-part geometries is deprecated and will be removed in Shapely 2.0. Check the length of the `geoms` property instead to get the  number of parts of a multi-part geometry.\n",
      "  if nitems < len(seq):\n",
      "c:\\Users\\Lea\\anaconda3\\lib\\site-packages\\pandas\\core\\dtypes\\inference.py:387: ShapelyDeprecationWarning: Iteration over multi-part geometries is deprecated and will be removed in Shapely 2.0. Use the `geoms` property to access the constituent parts of a multi-part geometry.\n",
      "  iter(obj)  # Can iterate over it.\n",
      "c:\\Users\\Lea\\anaconda3\\lib\\site-packages\\pandas\\core\\dtypes\\inference.py:388: ShapelyDeprecationWarning: __len__ for multi-part geometries is deprecated and will be removed in Shapely 2.0. Check the length of the `geoms` property instead to get the  number of parts of a multi-part geometry.\n",
      "  len(obj)  # Has a length associated with it.\n",
      "c:\\Users\\Lea\\anaconda3\\lib\\site-packages\\pandas\\io\\formats\\printing.py:117: ShapelyDeprecationWarning: Iteration over multi-part geometries is deprecated and will be removed in Shapely 2.0. Use the `geoms` property to access the constituent parts of a multi-part geometry.\n",
      "  s = iter(seq)\n",
      "c:\\Users\\Lea\\anaconda3\\lib\\site-packages\\pandas\\io\\formats\\printing.py:121: ShapelyDeprecationWarning: __len__ for multi-part geometries is deprecated and will be removed in Shapely 2.0. Check the length of the `geoms` property instead to get the  number of parts of a multi-part geometry.\n",
      "  for i in range(min(nitems, len(seq)))\n",
      "c:\\Users\\Lea\\anaconda3\\lib\\site-packages\\pandas\\io\\formats\\printing.py:125: ShapelyDeprecationWarning: __len__ for multi-part geometries is deprecated and will be removed in Shapely 2.0. Check the length of the `geoms` property instead to get the  number of parts of a multi-part geometry.\n",
      "  if nitems < len(seq):\n"
     ]
    },
    {
     "data": {
      "text/html": [
       "<div>\n",
       "<style scoped>\n",
       "    .dataframe tbody tr th:only-of-type {\n",
       "        vertical-align: middle;\n",
       "    }\n",
       "\n",
       "    .dataframe tbody tr th {\n",
       "        vertical-align: top;\n",
       "    }\n",
       "\n",
       "    .dataframe thead th {\n",
       "        text-align: right;\n",
       "    }\n",
       "</style>\n",
       "<table border=\"1\" class=\"dataframe\">\n",
       "  <thead>\n",
       "    <tr style=\"text-align: right;\">\n",
       "      <th></th>\n",
       "      <th>gallica_ark</th>\n",
       "      <th>page</th>\n",
       "      <th>row</th>\n",
       "      <th>nom</th>\n",
       "      <th>metier</th>\n",
       "      <th>rue</th>\n",
       "      <th>numero</th>\n",
       "      <th>annee</th>\n",
       "      <th>rue_processed</th>\n",
       "      <th>name_prep</th>\n",
       "      <th>streetname</th>\n",
       "      <th>geometry</th>\n",
       "      <th>year</th>\n",
       "      <th>rowid</th>\n",
       "      <th>name</th>\n",
       "      <th>buffer</th>\n",
       "      <th>all_overlap</th>\n",
       "      <th>align_method</th>\n",
       "      <th>no_spaces</th>\n",
       "      <th>no_spaces_short</th>\n",
       "    </tr>\n",
       "  </thead>\n",
       "  <tbody>\n",
       "    <tr>\n",
       "      <th>954542</th>\n",
       "      <td>bpt6k9780089g</td>\n",
       "      <td>761</td>\n",
       "      <td>13</td>\n",
       "      <td>Bezet &amp; fils</td>\n",
       "      <td>trap. pub.</td>\n",
       "      <td>. St-Charles</td>\n",
       "      <td>71 Bis (150). T. Saxe 56. 64.</td>\n",
       "      <td>1922</td>\n",
       "      <td>. saint charles</td>\n",
       "      <td>saint charles</td>\n",
       "      <td>Place Saint-Charles, Rond-point Saint-Charles,...</td>\n",
       "      <td>[LINESTRING (254623.6632535356 6249310.3507233...</td>\n",
       "      <td>[[2022], [2022], [2022], [2022], [2022]]</td>\n",
       "      <td>[181350, 67482, 21507, 63332, 15287]</td>\n",
       "      <td>SAINT-CHARLES</td>\n",
       "      <td>[POLYGON ((254707.1698738414 6249378.553179136...</td>\n",
       "      <td>False</td>\n",
       "      <td>no spaces perfect short</td>\n",
       "      <td>saintcharles</td>\n",
       "      <td>saintcharles</td>\n",
       "    </tr>\n",
       "    <tr>\n",
       "      <th>954578</th>\n",
       "      <td>bpt6k9780089g</td>\n",
       "      <td>761</td>\n",
       "      <td>315</td>\n",
       "      <td>Bieharel</td>\n",
       "      <td>restaurateur</td>\n",
       "      <td>. Beauregard</td>\n",
       "      <td>1.</td>\n",
       "      <td>1922</td>\n",
       "      <td>. beauregard</td>\n",
       "      <td>beauregard</td>\n",
       "      <td>Rue Beauregard, Ruelle Beauregard</td>\n",
       "      <td>[LINESTRING (261749.2596807813 6252754.2784917...</td>\n",
       "      <td>[[1836, 1836, 1836, 1836, 1836, 1836, 2022], [...</td>\n",
       "      <td>[2392, 3070]</td>\n",
       "      <td>Beauregard</td>\n",
       "      <td>[POLYGON ((261718.9246857775 6252850.016575488...</td>\n",
       "      <td>False</td>\n",
       "      <td>no spaces perfect short</td>\n",
       "      <td>beauregard</td>\n",
       "      <td>beauregard</td>\n",
       "    </tr>\n",
       "    <tr>\n",
       "      <th>967605</th>\n",
       "      <td>bpt6k9780089g</td>\n",
       "      <td>1258</td>\n",
       "      <td>42</td>\n",
       "      <td>Machas</td>\n",
       "      <td>serrurier</td>\n",
       "      <td>. St-Lazare</td>\n",
       "      <td>44.</td>\n",
       "      <td>1922</td>\n",
       "      <td>. saint lazare</td>\n",
       "      <td>saint lazare</td>\n",
       "      <td>Cul de Sac Saint Lazare, Rue Saint Lazare</td>\n",
       "      <td>[LINESTRING (262526.4919602031 6254445.8311065...</td>\n",
       "      <td>[[1836], [1836, 1836, 1836, 1836, 1836, 1836, ...</td>\n",
       "      <td>[2803, 2796]</td>\n",
       "      <td>Saint Lazare</td>\n",
       "      <td>[POLYGON ((262584.3683774255 6254531.878533564...</td>\n",
       "      <td>False</td>\n",
       "      <td>no spaces perfect short</td>\n",
       "      <td>saintlazare</td>\n",
       "      <td>saintlazare</td>\n",
       "    </tr>\n",
       "    <tr>\n",
       "      <th>975747</th>\n",
       "      <td>bpt6k9780089g</td>\n",
       "      <td>1564</td>\n",
       "      <td>79</td>\n",
       "      <td>Union immobilière des capitalistes</td>\n",
       "      <td>Faub</td>\n",
       "      <td>StDenis</td>\n",
       "      <td>195.</td>\n",
       "      <td>1922</td>\n",
       "      <td>saintdenis</td>\n",
       "      <td>saint denis</td>\n",
       "      <td>Allée Saint-Denis, Boulevard Saint Denis, Gale...</td>\n",
       "      <td>[(LINESTRING (249584.6134595297 6249265.357808...</td>\n",
       "      <td>[[2022], [1836, 1836, 2022], [2022], [2022], [...</td>\n",
       "      <td>[94418, 2526, 138209, 195585, 2323, 69190]</td>\n",
       "      <td>SAINT-DENIS</td>\n",
       "      <td>[POLYGON ((249539.1968287444 6249354.34806582,...</td>\n",
       "      <td>False</td>\n",
       "      <td>no spaces perfect short</td>\n",
       "      <td>saintdenis</td>\n",
       "      <td>saintdenis</td>\n",
       "    </tr>\n",
       "  </tbody>\n",
       "</table>\n",
       "</div>"
      ],
      "text/plain": [
       "          gallica_ark  page  row                                 nom  \\\n",
       "954542  bpt6k9780089g   761   13                        Bezet & fils   \n",
       "954578  bpt6k9780089g   761  315                            Bieharel   \n",
       "967605  bpt6k9780089g  1258   42                              Machas   \n",
       "975747  bpt6k9780089g  1564   79  Union immobilière des capitalistes   \n",
       "\n",
       "              metier           rue                         numero  annee  \\\n",
       "954542    trap. pub.  . St-Charles  71 Bis (150). T. Saxe 56. 64.   1922   \n",
       "954578  restaurateur  . Beauregard                             1.   1922   \n",
       "967605     serrurier   . St-Lazare                            44.   1922   \n",
       "975747          Faub       StDenis                           195.   1922   \n",
       "\n",
       "          rue_processed      name_prep  \\\n",
       "954542  . saint charles  saint charles   \n",
       "954578     . beauregard     beauregard   \n",
       "967605   . saint lazare   saint lazare   \n",
       "975747       saintdenis    saint denis   \n",
       "\n",
       "                                               streetname  \\\n",
       "954542  Place Saint-Charles, Rond-point Saint-Charles,...   \n",
       "954578                  Rue Beauregard, Ruelle Beauregard   \n",
       "967605          Cul de Sac Saint Lazare, Rue Saint Lazare   \n",
       "975747  Allée Saint-Denis, Boulevard Saint Denis, Gale...   \n",
       "\n",
       "                                                 geometry  \\\n",
       "954542  [LINESTRING (254623.6632535356 6249310.3507233...   \n",
       "954578  [LINESTRING (261749.2596807813 6252754.2784917...   \n",
       "967605  [LINESTRING (262526.4919602031 6254445.8311065...   \n",
       "975747  [(LINESTRING (249584.6134595297 6249265.357808...   \n",
       "\n",
       "                                                     year  \\\n",
       "954542           [[2022], [2022], [2022], [2022], [2022]]   \n",
       "954578  [[1836, 1836, 1836, 1836, 1836, 1836, 2022], [...   \n",
       "967605  [[1836], [1836, 1836, 1836, 1836, 1836, 1836, ...   \n",
       "975747  [[2022], [1836, 1836, 2022], [2022], [2022], [...   \n",
       "\n",
       "                                             rowid           name  \\\n",
       "954542        [181350, 67482, 21507, 63332, 15287]  SAINT-CHARLES   \n",
       "954578                                [2392, 3070]     Beauregard   \n",
       "967605                                [2803, 2796]   Saint Lazare   \n",
       "975747  [94418, 2526, 138209, 195585, 2323, 69190]    SAINT-DENIS   \n",
       "\n",
       "                                                   buffer all_overlap  \\\n",
       "954542  [POLYGON ((254707.1698738414 6249378.553179136...       False   \n",
       "954578  [POLYGON ((261718.9246857775 6252850.016575488...       False   \n",
       "967605  [POLYGON ((262584.3683774255 6254531.878533564...       False   \n",
       "975747  [POLYGON ((249539.1968287444 6249354.34806582,...       False   \n",
       "\n",
       "                   align_method     no_spaces no_spaces_short  \n",
       "954542  no spaces perfect short  saintcharles    saintcharles  \n",
       "954578  no spaces perfect short    beauregard      beauregard  \n",
       "967605  no spaces perfect short   saintlazare     saintlazare  \n",
       "975747  no spaces perfect short    saintdenis      saintdenis  "
      ]
     },
     "execution_count": 14,
     "metadata": {},
     "output_type": "execute_result"
    }
   ],
   "source": [
    "nu_short_aligned.tail(4)"
   ]
  },
  {
   "cell_type": "code",
   "execution_count": 15,
   "metadata": {},
   "outputs": [
    {
     "name": "stdout",
     "output_type": "stream",
     "text": [
      "Aligned data so far: 0.781551481061531\n"
     ]
    }
   ],
   "source": [
    "print(\"Aligned data so far:\", (len(long_aligned)+len(u_short_aligned)+len(nu_short_aligned))/len(bottins))"
   ]
  },
  {
   "cell_type": "code",
   "execution_count": 16,
   "metadata": {},
   "outputs": [
    {
     "data": {
      "text/html": [
       "<div>\n",
       "<style scoped>\n",
       "    .dataframe tbody tr th:only-of-type {\n",
       "        vertical-align: middle;\n",
       "    }\n",
       "\n",
       "    .dataframe tbody tr th {\n",
       "        vertical-align: top;\n",
       "    }\n",
       "\n",
       "    .dataframe thead th {\n",
       "        text-align: right;\n",
       "    }\n",
       "</style>\n",
       "<table border=\"1\" class=\"dataframe\">\n",
       "  <thead>\n",
       "    <tr style=\"text-align: right;\">\n",
       "      <th></th>\n",
       "      <th>nom</th>\n",
       "      <th>metier</th>\n",
       "      <th>rue</th>\n",
       "      <th>numero</th>\n",
       "      <th>year</th>\n",
       "      <th>streetname</th>\n",
       "    </tr>\n",
       "  </thead>\n",
       "  <tbody>\n",
       "    <tr>\n",
       "      <th>12</th>\n",
       "      <td>Abbatucci (Séverin)</td>\n",
       "      <td>député de la Corse</td>\n",
       "      <td>place Vendôme</td>\n",
       "      <td>11-13.</td>\n",
       "      <td>[2022]</td>\n",
       "      <td>Place Vendôme</td>\n",
       "    </tr>\n",
       "    <tr>\n",
       "      <th>13</th>\n",
       "      <td>Abbatucci # (Th.)</td>\n",
       "      <td>maître des requêtes au conseil d'Etat</td>\n",
       "      <td>pl. Vendôme</td>\n",
       "      <td>ll et 13.</td>\n",
       "      <td>[2022]</td>\n",
       "      <td>Place Vendôme</td>\n",
       "    </tr>\n",
       "  </tbody>\n",
       "</table>\n",
       "</div>"
      ],
      "text/plain": [
       "                    nom                                 metier            rue  \\\n",
       "12  Abbatucci (Séverin)                     député de la Corse  place Vendôme   \n",
       "13    Abbatucci # (Th.)  maître des requêtes au conseil d'Etat    pl. Vendôme   \n",
       "\n",
       "       numero    year     streetname  \n",
       "12     11-13.  [2022]  Place Vendôme  \n",
       "13  ll et 13.  [2022]  Place Vendôme  "
      ]
     },
     "execution_count": 16,
     "metadata": {},
     "output_type": "execute_result"
    }
   ],
   "source": [
    "long_aligned[[\"nom\", \"metier\", \"rue\", \"numero\", \"year\", \"streetname\"]].head(2)"
   ]
  },
  {
   "cell_type": "code",
   "execution_count": 17,
   "metadata": {},
   "outputs": [
    {
     "data": {
      "text/html": [
       "<div>\n",
       "<style scoped>\n",
       "    .dataframe tbody tr th:only-of-type {\n",
       "        vertical-align: middle;\n",
       "    }\n",
       "\n",
       "    .dataframe tbody tr th {\n",
       "        vertical-align: top;\n",
       "    }\n",
       "\n",
       "    .dataframe thead th {\n",
       "        text-align: right;\n",
       "    }\n",
       "</style>\n",
       "<table border=\"1\" class=\"dataframe\">\n",
       "  <thead>\n",
       "    <tr style=\"text-align: right;\">\n",
       "      <th></th>\n",
       "      <th>nom</th>\n",
       "      <th>metier</th>\n",
       "      <th>rue</th>\n",
       "      <th>numero</th>\n",
       "      <th>year</th>\n",
       "      <th>streetname</th>\n",
       "      <th>no_spaces</th>\n",
       "    </tr>\n",
       "  </thead>\n",
       "  <tbody>\n",
       "    <tr>\n",
       "      <th>1107367</th>\n",
       "      <td>Zurconi (P.)</td>\n",
       "      <td>fourreur</td>\n",
       "      <td>quai de l'Hôtel-deVille</td>\n",
       "      <td>46.</td>\n",
       "      <td>[2022]</td>\n",
       "      <td>Quai de l'Hôtel de Ville</td>\n",
       "      <td>quaidelhoteldeville</td>\n",
       "    </tr>\n",
       "    <tr>\n",
       "      <th>1107369</th>\n",
       "      <td>Zurfluh (A.)</td>\n",
       "      <td>éditeur de musique</td>\n",
       "      <td>r. des StsPères</td>\n",
       "      <td>14.</td>\n",
       "      <td>[1836, 1836, 1836, 1836, 1836, 1836, 1836, 2022]</td>\n",
       "      <td>Rue des Saints Pères</td>\n",
       "      <td>ruedessaintsperes</td>\n",
       "    </tr>\n",
       "  </tbody>\n",
       "</table>\n",
       "</div>"
      ],
      "text/plain": [
       "                  nom              metier                      rue numero  \\\n",
       "1107367  Zurconi (P.)            fourreur  quai de l'Hôtel-deVille    46.   \n",
       "1107369  Zurfluh (A.)  éditeur de musique          r. des StsPères    14.   \n",
       "\n",
       "                                                     year  \\\n",
       "1107367                                            [2022]   \n",
       "1107369  [1836, 1836, 1836, 1836, 1836, 1836, 1836, 2022]   \n",
       "\n",
       "                       streetname            no_spaces  \n",
       "1107367  Quai de l'Hôtel de Ville  quaidelhoteldeville  \n",
       "1107369      Rue des Saints Pères    ruedessaintsperes  "
      ]
     },
     "execution_count": 17,
     "metadata": {},
     "output_type": "execute_result"
    }
   ],
   "source": [
    "long_aligned[[\"nom\", \"metier\", \"rue\", \"numero\", \"year\", \"streetname\", \"no_spaces\"]].tail(2)"
   ]
  },
  {
   "cell_type": "code",
   "execution_count": 18,
   "metadata": {},
   "outputs": [
    {
     "data": {
      "text/html": [
       "<div>\n",
       "<style scoped>\n",
       "    .dataframe tbody tr th:only-of-type {\n",
       "        vertical-align: middle;\n",
       "    }\n",
       "\n",
       "    .dataframe tbody tr th {\n",
       "        vertical-align: top;\n",
       "    }\n",
       "\n",
       "    .dataframe thead th {\n",
       "        text-align: right;\n",
       "    }\n",
       "</style>\n",
       "<table border=\"1\" class=\"dataframe\">\n",
       "  <thead>\n",
       "    <tr style=\"text-align: right;\">\n",
       "      <th></th>\n",
       "      <th>name_prep</th>\n",
       "      <th>streetname</th>\n",
       "    </tr>\n",
       "  </thead>\n",
       "  <tbody>\n",
       "    <tr>\n",
       "      <th>18</th>\n",
       "      <td>abbaye</td>\n",
       "      <td>Chemin de l'Abbaye, Rue de l'Abbaye</td>\n",
       "    </tr>\n",
       "    <tr>\n",
       "      <th>35</th>\n",
       "      <td>abbesses</td>\n",
       "      <td>Passage des Abbesses, Place des Abbesses, Rue ...</td>\n",
       "    </tr>\n",
       "    <tr>\n",
       "      <th>50</th>\n",
       "      <td>acacias</td>\n",
       "      <td>Passage des Acacias, Petite Rue des Acacias</td>\n",
       "    </tr>\n",
       "    <tr>\n",
       "      <th>73</th>\n",
       "      <td>adrienne</td>\n",
       "      <td>Cité Adrienne, Villa Adrienne</td>\n",
       "    </tr>\n",
       "    <tr>\n",
       "      <th>110</th>\n",
       "      <td>albert bartholome</td>\n",
       "      <td>Avenue Albert Bartholomé, Square Albert Bartho...</td>\n",
       "    </tr>\n",
       "  </tbody>\n",
       "</table>\n",
       "</div>"
      ],
      "text/plain": [
       "             name_prep                                         streetname\n",
       "18              abbaye                Chemin de l'Abbaye, Rue de l'Abbaye\n",
       "35            abbesses  Passage des Abbesses, Place des Abbesses, Rue ...\n",
       "50             acacias        Passage des Acacias, Petite Rue des Acacias\n",
       "73            adrienne                      Cité Adrienne, Villa Adrienne\n",
       "110  albert bartholome  Avenue Albert Bartholomé, Square Albert Bartho..."
      ]
     },
     "execution_count": 18,
     "metadata": {},
     "output_type": "execute_result"
    }
   ],
   "source": [
    "non_unique_short_s[[\"name_prep\", \"streetname\"]].head(5)"
   ]
  },
  {
   "cell_type": "code",
   "execution_count": 19,
   "metadata": {},
   "outputs": [
    {
     "data": {
      "text/plain": [
       "['52. Lauriston (Marquis de)',\n",
       " '54. Petiet',\n",
       " '5. Saint-Projet(chev. de)',\n",
       " '15',\n",
       " '15',\n",
       " '56 et q. des Augustins',\n",
       " '57. Baudon de Mony',\n",
       " '65. Chasteigner (Cte)',\n",
       " 'Popincourt 5. Genie',\n",
       " '105. Lagrange (Cte C. de)']"
      ]
     },
     "execution_count": 19,
     "metadata": {},
     "output_type": "execute_result"
    }
   ],
   "source": [
    "[x for x in not_aligned[\"rue\"] if (\"5\" in x)][10:20]"
   ]
  },
  {
   "cell_type": "markdown",
   "metadata": {},
   "source": [
    "## fuzzy matching"
   ]
  },
  {
   "cell_type": "code",
   "execution_count": 20,
   "metadata": {},
   "outputs": [],
   "source": [
    "from fuzzywuzzy import process, fuzz\n",
    "\n",
    "def simple_processor(token: str) -> str:\n",
    "    \"\"\"A string processor to return the same string as input.\n",
    "        This dummy processor is used to avoid the default processor of the Rapidfuzz module to calculate string similarity.\n",
    "\n",
    "    Parameters\n",
    "    ----------\n",
    "    token : str\n",
    "        The input string to process.\n",
    "\n",
    "    \n",
    "    Returns\n",
    "    -------\n",
    "    str\n",
    "        The output string same as the input string.\n",
    "    \"\"\"\n",
    "    return token"
   ]
  },
  {
   "cell_type": "code",
   "execution_count": 21,
   "metadata": {},
   "outputs": [],
   "source": [
    "#get a subset of all non-aligned rows, because otherwise computation is too heavy\n",
    "not_aligned_rues = not_aligned[\"rue_processed\"].unique().tolist()\n",
    "not_aligned_selected = [street for street, _ in Counter(not_aligned[\"rue_processed\"].tolist()).most_common(10000)]\n",
    "#first 100 streets for first analysis\n",
    "not_aligned_selected100 = not_aligned_rues[:100]"
   ]
  },
  {
   "cell_type": "code",
   "execution_count": 22,
   "metadata": {},
   "outputs": [
    {
     "data": {
      "text/plain": [
       "['quai morland',\n",
       " 'rue andre antoine',\n",
       " 'avenue octave greard',\n",
       " 'rue de sofia',\n",
       " 'rue mathurin regnier',\n",
       " 'square massena',\n",
       " 'voie as/13',\n",
       " 'rue du tibre',\n",
       " 'rue coquillere',\n",
       " 'rue marie pape carpantier']"
      ]
     },
     "execution_count": 22,
     "metadata": {},
     "output_type": "execute_result"
    }
   ],
   "source": [
    "streets_all_vars = streets[\"streetname_prep\"]\n",
    "#streets_all_vars.append(streets[\"streetname_short\"])\n",
    "#streets_all_vars.append(streets[\"streetname_short_prep\"])\n",
    "streets_all_vars = list(set(streets_all_vars))\n",
    "streets_all_vars[:10]"
   ]
  },
  {
   "cell_type": "code",
   "execution_count": 23,
   "metadata": {},
   "outputs": [
    {
     "name": "stdout",
     "output_type": "stream",
     "text": [
      "passage choiseal ('passage choiseul', 94)\n",
      "neuve desbons enfants ('rue neuve des bons enfants', 89)\n",
      "place de l'hotel de ville (\"rue de l'hotel de ville\", 88)\n",
      "neuve des petits champs ('rue neuve des petits champs', 92)\n",
      "place saint germain l'auxerrois (\"rue saint germain l'auxerrois\", 90)\n",
      "royale saint honore ('rue saint honore', 86)\n",
      "boulevard de saintrasbourg ('boulevard de strasbourg', 94)\n",
      "passage de venise ('passage venise', 90)\n",
      "neuve sainte cathe.rine ('rue neuve sainte catherine', 90)\n",
      "nre sainte catherine ('rue sainte catherine', 95)\n",
      "val sainte catherine ('rue sainte catherine', 85)\n",
      "neuve saint medard ('rue neuve saint medard', 90)\n",
      "vieille du temple ('rue vieille du temple', 89)\n",
      "place du vieuxmarche saint martin ('rue du vieux marche saint martin', 89)\n",
      "neuve bourg l'abbe (\"rue neuve bourg l'abbe\", 90)\n",
      "chemin de ronde de la barriere montreuil ('chemin de ronde de la barriere saint denis', 85)\n",
      "neuve saint augusaintin ('rue neuve saint augustin', 85)\n",
      "passage delorme ('passage de rome', 87)\n",
      "et boulevard de saint martin ('boulevard saint martin', 88)\n",
      "neuve saint denis ('rue neuve saint denis', 89)\n",
      "boulevard de capucines ('boulevard des capucines', 98)\n"
     ]
    }
   ],
   "source": [
    "#trying a fuzzy matching for similarity value 85%\n",
    "for x in not_aligned_selected100:\n",
    "    best_one = process.extractOne(x, streets_all_vars, processor=simple_processor, scorer=fuzz.ratio,\n",
    "    score_cutoff=85)\n",
    "    #if there is a matching street with similarity > 85 %, print it\n",
    "    if best_one:\n",
    "        print(x, best_one)"
   ]
  },
  {
   "cell_type": "code",
   "execution_count": 24,
   "metadata": {},
   "outputs": [
    {
     "name": "stdout",
     "output_type": "stream",
     "text": [
      "neuve desbons enfants ('rue neuve des bons enfants', 89)\n",
      "saint maar popincourt ('rue saint andre popincourt', 81)\n",
      "neuvesaint eusaintache ('rue neuve saint eustache', 83)\n",
      "place de l'hotel de ville (\"rue de l'hotel de ville\", 88)\n",
      "orleans saint marcel ('rue saint marcel', 83)\n",
      "saint maur popincourt ('rue saint andre popincourt', 81)\n",
      "neave saint denis ('rue neuve saint denis', 84)\n",
      "aux ours ('rue aux ours', 80)\n",
      "boulevoie mont parnasse ('boulevard du mont parnasse', 82)\n",
      "royale saint honore ('rue saint honore', 86)\n",
      "bonlevoie poissonniere ('boulevard poissonniere', 82)\n",
      "anjou saint honore ('rue saint honore', 82)\n",
      "cháteau landon ('rue chateau landon', 81)\n",
      "val sainte catherine ('rue sainte catherine', 85)\n",
      "vieille du temple ('rue vieille du temple', 89)\n",
      "place du vieuxmarche saint martin ('rue du vieux marche saint martin', 89)\n",
      "neuve sainteusaintache ('rue neuve saint eustache', 83)\n",
      "chemin de ronde de la barriere montreuil ('chemin de ronde de la barriere saint denis', 85)\n",
      "neuve saint augusaintin ('rue neuve saint augustin', 85)\n",
      "grenelle saint honore ('rue saint honore', 81)\n",
      "passage delorme ('passage de rome', 87)\n",
      "et boulevard de saint martin ('boulevard saint martin', 88)\n",
      "neuve saint denis ('rue neuve saint denis', 89)\n",
      "la tour d'auvergne (\"rue de la tour d'auvergne\", 84)\n"
     ]
    }
   ],
   "source": [
    "#trying matching with similarity value of 80%\n",
    "for x in not_aligned_selected100:\n",
    "    best_one = process.extractOne(x, streets_all_vars, processor=simple_processor, scorer=fuzz.ratio,\n",
    "    score_cutoff=80)\n",
    "    # look at those matches between 80 and 90%\n",
    "    if best_one:\n",
    "        if best_one[1]<90:\n",
    "            print(x, best_one)"
   ]
  },
  {
   "cell_type": "code",
   "execution_count": 25,
   "metadata": {},
   "outputs": [
    {
     "data": {
      "text/plain": [
       "{'chemin de ronde de la barriere montreuil': 'chemin de ronde de la barriere saint denis',\n",
       " \"place saint germain l'auxerrois\": \"rue saint germain l'auxerrois\",\n",
       " 'boulevard de saintrasbourg': 'boulevard de strasbourg',\n",
       " 'passage delorme': 'passage de rome',\n",
       " 'passage choiseal': 'passage choiseul',\n",
       " 'neuve saint medard': 'rue neuve saint medard',\n",
       " 'neuve saint augusaintin': 'rue neuve saint augustin',\n",
       " 'neuve desbons enfants': 'rue neuve des bons enfants',\n",
       " 'et boulevard de saint martin': 'boulevard saint martin',\n",
       " 'neuve des petits champs': 'rue neuve des petits champs',\n",
       " 'neuve sainte cathe.rine': 'rue neuve sainte catherine',\n",
       " 'vieille du temple': 'rue vieille du temple',\n",
       " 'place du vieuxmarche saint martin': 'rue du vieux marche saint martin',\n",
       " 'royale saint honore': 'rue saint honore',\n",
       " \"place de l'hotel de ville\": \"rue de l'hotel de ville\",\n",
       " 'boulevard de capucines': 'boulevard des capucines',\n",
       " 'neuve saint denis': 'rue neuve saint denis',\n",
       " 'val sainte catherine': 'rue sainte catherine',\n",
       " \"neuve bourg l'abbe\": \"rue neuve bourg l'abbe\",\n",
       " 'nre sainte catherine': 'rue sainte catherine',\n",
       " 'passage de venise': 'passage venise'}"
      ]
     },
     "execution_count": 25,
     "metadata": {},
     "output_type": "execute_result"
    }
   ],
   "source": [
    "get_fuzzy_dict(streets_all_vars, not_aligned_selected100, score_cutoff=85)"
   ]
  },
  {
   "cell_type": "code",
   "execution_count": 26,
   "metadata": {},
   "outputs": [],
   "source": [
    "#make two seperate dictionaries, one with score cutoff value 85 and one with 80\n",
    "\n",
    "# if dictionary with cutoff 85 is already there, load it. If not, compute it\n",
    "try:\n",
    "    with open('data/fuzzy_dict10000with85.pkl', 'rb') as f:\n",
    "        fuzzy_dict85 = pickle.load(f)\n",
    "except:\n",
    "    fuzzy_dict85 = get_fuzzy_dict(streets_all_vars, not_aligned_selected, score_cutoff=85)\n",
    "    with open(\"data/fuzzy_dict10000with85.pkl\",\"wb\") as f:\n",
    "        pickle.dump(fuzzy_dict85,f)\n",
    "\n",
    "# same for dictionary with cutoff 80\n",
    "try:\n",
    "    with open('data/fuzzy_dict10000with80.pkl', 'rb') as f:\n",
    "        fuzzy_dict80 = pickle.load(f)\n",
    "except:\n",
    "    fuzzy_dict80 = get_fuzzy_dict(streets_all_vars, not_aligned_selected, score_cutoff=80)\n",
    "    with open(\"data/fuzzy_dict10000with80.pkl\",\"wb\") as f:\n",
    "        pickle.dump(fuzzy_dict80,f)"
   ]
  },
  {
   "cell_type": "code",
   "execution_count": 27,
   "metadata": {},
   "outputs": [
    {
     "name": "stdout",
     "output_type": "stream",
     "text": [
      "# entries for cutoff 80: 4596 cutoff 85: 3046\n"
     ]
    }
   ],
   "source": [
    "print(\"# entries for cutoff 80:\", len(fuzzy_dict80), \"cutoff 85:\", len(fuzzy_dict85))"
   ]
  },
  {
   "cell_type": "code",
   "execution_count": 28,
   "metadata": {},
   "outputs": [
    {
     "name": "stdout",
     "output_type": "stream",
     "text": [
      "('pet. rue verte', 'petite rue verte')\n",
      "('passage des petit. ecuries', 'passage des petites ecuries')\n",
      "('boulevard de saintras. bourg', 'boulevard de strasbourg')\n",
      "('rue des immeubles. indusaintriels', 'rue des immeubles industriels')\n",
      "('boulevard de ed. gar quinet', 'boulevard edgar quinet')\n",
      "('vieil. le du temple', 'rue vieille du temple')\n",
      "('boulevard de des ita. liens', 'boulevard des italiens')\n",
      "('f. saint antoine', 'rue saint antoine')\n",
      "('t. saint charles', 'rue saint charles')\n",
      "('boulevard de bonn. nouvelle', 'boulevard de bonne nouvelle')\n",
      "('boulevard de des filles du cal. vaire', 'boulevard des filles du calvaire')\n",
      "('1. du rue du cherche midi', 'rue du cherche midi')\n",
      "('boulevard de b. nouvelle', 'boulevard de bonne nouvelle')\n",
      "('quai des grands. augusaintins', 'quai des grands augustins')\n",
      "('vieille du. temple', 'rue vieille du temple')\n",
      "('boulevard de des filles du. calvaire', 'boulevard des filles du calvaire')\n",
      "('t. saint antoine', 'rue saint antoine')\n",
      "('boulevard de des capuci. nes', 'boulevard des capucines')\n",
      "('nre. saint merri', 'rue saint merri')\n",
      "('boulevard de richard. lenoir', 'boulevard richard lenoir')\n",
      "('neuve. saint merri', 'rue saint merri')\n",
      "('rue montmo. rency', 'rue de montmorency')\n",
      "('t. saint martin', 'cite saint martin')\n",
      "('b. des capucines', 'rue des capucines')\n",
      "('rue neuve. saint augusaintin', 'rue neuve saint augustin')\n",
      "(\"neuve. bourg l'abbe\", \"rue neuve bourg l'abbe\")\n",
      "('boulevard de ma. lesherbes', 'boulevard malesherbes')\n",
      "('boulevard de sebasainto. pol', 'boulevard de sebastopol')\n",
      "('boulevard de des. italiens', 'boulevard des italiens')\n",
      "('nre. saint augusaintin', 'rue saint augustin')\n",
      "('not. dame de nazareth', 'rue notre dame de nazareth')\n",
      "('neuve. des mathurins', 'rue neuve des mathurins')\n",
      "('boulevard de des batignol. les', 'boulevard des batignolles')\n",
      "('n. des petits champs', 'rue des petits champs')\n",
      "('boulevard de pe. reire', 'boulevard pereire')\n",
      "('boulevard de des ca. pucines', 'boulevard des capucines')\n",
      "('boulevard de voltai. re', 'boulevard voltaire')\n",
      "('vieille. du temple', 'rue vieille du temple')\n",
      "('neuve saint augus. tin', 'rue neuve saint augustin')\n",
      "('esplan. des invalides', 'place des invalides')\n",
      "('cult. sainte catherine', 'rue sainte catherine')\n",
      "('9. de la tournelle', 'rue de la tournelle')\n",
      "('bonl. des invalides', 'pont des invalides')\n",
      "('raub. saint antoine', 'rue saint antoine')\n",
      "('nre. des petits champs', 'rue des petits champs')\n",
      "('boulevard de mont. parnasse', 'boulevard du mont parnasse')\n",
      "('nre.coquenard', 'rue coquenard')\n",
      "('ave. nue malakoff', 'avenue de malakoff')\n",
      "('croix d. petits champs', 'rue croix des petits champs')\n",
      "('neuve.des petits champs', 'rue neuve des petits champs')\n",
      "('neuve saint roch.', 'rue neuve saint roch')\n",
      "('not. dame de s victoires', 'rue notre dame des victoires')\n",
      "('pont l. philippe', 'pont louis philippe')\n",
      "('nre.des petits champs', 'rue des petits champs')\n",
      "('avenue des ch. elysees', 'avenue des champs elysees')\n",
      "('boulevard de des bati. gnolles', 'boulevard des batignolles')\n",
      "('boulevard de richard le. noir', 'boulevard richard lenoir')\n",
      "('nre.saint merri', 'rue saint merri')\n",
      "('passage saint se. basaintien', 'passage saint sebastien')\n",
      "('gren. saint lazare', 'rue saint lazare')\n",
      "('nre. des capucines', 'rue des capucines')\n",
      "('1. des amandiers', 'rue des amandiers')\n",
      "('neuve des. mathurins', 'rue neuve des mathurins')\n",
      "('boulevard de beau. marchais', 'boulevard beaumarchais')\n",
      "('pet. rue de reuilly', 'petite rue de reuilly')\n",
      "('b. de la madeleine', 'rue de la madeleine')\n",
      "(\"nre. bourg l'abbe\", \"rue bourg l'abbe\")\n",
      "('passag. choiseul', 'passage choiseul')\n",
      "('place du pal. bourbon', 'place du palais bourbon')\n",
      "('neuvedes. petits champs', 'rue neuve des petits champs')\n",
      "('gren. saint honore', 'rue saint honore')\n",
      "('neuve. des capucines', 'rue des capucines')\n",
      "('boulevard de ri. chard lenoir', 'boulevard richard lenoir')\n",
      "('avenue de la gde. armee', 'avenue de la grande armee')\n",
      "('boulevard de saint mi. chel', 'boulevard saint michel')\n",
      "('pet. rue mademoiselle', 'rue mademoiselle')\n",
      "('boulevard de montparnas. se', 'boulevard du montparnasse')\n",
      "('boulevard de des filles. du calvaire', 'boulevard des filles du calvaire')\n",
      "('roy. saint martin', 'rue saint martin')\n",
      "('passage feuil. let', 'passage feuillette')\n",
      "('avenue j. jaures', 'avenue jean jaures')\n",
      "('boulevard de ras. pail', 'boulevard raspail')\n",
      "('rue n d. de nazareth', 'rue de nazareth')\n",
      "('neuve d. petits champs', 'rue neuve des petits champs')\n"
     ]
    }
   ],
   "source": [
    "for item in fuzzy_dict85.items():\n",
    "    if \".\" in item[0]:\n",
    "        print(item)"
   ]
  },
  {
   "cell_type": "code",
   "execution_count": 29,
   "metadata": {},
   "outputs": [],
   "source": [
    "#create a new column in not_aligned dataset and map the fuzzy matched streetnames to the entries\n",
    "not_aligned[\"street_fuzzy80\"] = not_aligned[\"rue_processed\"].map(fuzzy_dict80)\n",
    "not_aligned[\"street_fuzzy85\"] = not_aligned[\"rue_processed\"].map(fuzzy_dict85)"
   ]
  },
  {
   "cell_type": "code",
   "execution_count": 30,
   "metadata": {},
   "outputs": [
    {
     "name": "stderr",
     "output_type": "stream",
     "text": [
      "c:\\Users\\Lea\\Documents\\Uni Aachen\\4. Semester\\DH-405 Foundation Digital Humanities\\project\\Paris_City_Project\\alignment.py:22: SettingWithCopyWarning: \n",
      "A value is trying to be set on a copy of a slice from a DataFrame.\n",
      "Try using .loc[row_indexer,col_indexer] = value instead\n",
      "\n",
      "See the caveats in the documentation: https://pandas.pydata.org/pandas-docs/stable/user_guide/indexing.html#returning-a-view-versus-a-copy\n",
      "  newly_aligned[\"align_method\"] = align_method\n"
     ]
    },
    {
     "name": "stdout",
     "output_type": "stream",
     "text": [
      "Joining on street_fuzzy85 and streetname_prep, method:fuzzy 85\n",
      "#total aligned: 1569786, newly aligned: 276742, not aligned: 686484\n"
     ]
    },
    {
     "name": "stderr",
     "output_type": "stream",
     "text": [
      "c:\\Users\\Lea\\Documents\\Uni Aachen\\4. Semester\\DH-405 Foundation Digital Humanities\\project\\Paris_City_Project\\alignment.py:22: SettingWithCopyWarning: \n",
      "A value is trying to be set on a copy of a slice from a DataFrame.\n",
      "Try using .loc[row_indexer,col_indexer] = value instead\n",
      "\n",
      "See the caveats in the documentation: https://pandas.pydata.org/pandas-docs/stable/user_guide/indexing.html#returning-a-view-versus-a-copy\n",
      "  newly_aligned[\"align_method\"] = align_method\n"
     ]
    },
    {
     "name": "stdout",
     "output_type": "stream",
     "text": [
      "Joining on street_fuzzy80 and streetname_prep, method:fuzzy 80\n",
      "#total aligned: 1709026, newly aligned: 139240, not aligned: 547244\n"
     ]
    }
   ],
   "source": [
    "#align on the newly created columns\n",
    "long_aligned, not_aligned = align_on_column(df_not_aligned = not_aligned, df_streets= streets, \n",
    "                    df_aligned = long_aligned, mergeOnLeft=\"street_fuzzy85\", mergeOnRight=\"streetname_prep\", \n",
    "                    align_method=\"fuzzy 85\")\n",
    "\n",
    "long_aligned, not_aligned = align_on_column(df_not_aligned = not_aligned, df_streets= streets, \n",
    "                    df_aligned = long_aligned, mergeOnLeft=\"street_fuzzy80\", mergeOnRight=\"streetname_prep\", \n",
    "                    align_method=\"fuzzy 80\")"
   ]
  },
  {
   "cell_type": "code",
   "execution_count": 31,
   "metadata": {},
   "outputs": [
    {
     "name": "stdout",
     "output_type": "stream",
     "text": [
      "Aligned data: 0.8759605861243476\n"
     ]
    }
   ],
   "source": [
    "print(\"Aligned data:\", (len(long_aligned)+len(u_short_aligned)+len(nu_short_aligned))/len(bottins))"
   ]
  },
  {
   "cell_type": "code",
   "execution_count": 32,
   "metadata": {},
   "outputs": [],
   "source": [
    "unique_aligned = pd.concat([long_aligned, u_short_aligned])"
   ]
  },
  {
   "cell_type": "code",
   "execution_count": 33,
   "metadata": {},
   "outputs": [],
   "source": [
    "if USE_TAGGED_DATASET:\n",
    "        unique_aligned_selection = unique_aligned[[\"row\", \"nom\", \"metier\", \"rue\", \"numero\", \n",
    "                \"annee\", \"streetname\", \"geometry\", \"name\", \"year\", \"align_method\", \"tags\"]]\n",
    "        unique_aligned_selection.to_pickle(\"data/unique_aligned_tagged.pkl\")\n",
    "else:\n",
    "        unique_aligned_selection = unique_aligned[[\"page\", \"row\", \"nom\", \"metier\", \"rue\", \"numero\", \n",
    "                \"annee\", \"streetname\", \"geometry\", \"name\", \"year\", \"align_method\"]]\n",
    "        unique_aligned_selection.to_pickle(\"data/unique_aligned.pkl\")"
   ]
  },
  {
   "attachments": {},
   "cell_type": "markdown",
   "metadata": {},
   "source": [
    "# Alignment Quality Assessment"
   ]
  },
  {
   "attachments": {},
   "cell_type": "markdown",
   "metadata": {},
   "source": [
    "### Get relevant data"
   ]
  },
  {
   "cell_type": "code",
   "execution_count": 34,
   "metadata": {},
   "outputs": [
    {
     "name": "stderr",
     "output_type": "stream",
     "text": [
      "C:\\Users\\Lea\\AppData\\Local\\Temp/ipykernel_3960/1939840763.py:1: FutureWarning: In a future version, object-dtype columns with all-bool values will not be included in reductions with bool_only=True. Explicitly cast to bool dtype instead.\n",
      "  all_aligned = pd.concat([long_aligned, u_short_aligned, nu_short_aligned])\n"
     ]
    }
   ],
   "source": [
    "all_aligned = pd.concat([long_aligned, u_short_aligned, nu_short_aligned])\n",
    "all_aligned = all_aligned[[\"page\", \"row\", \"nom\", \"metier\", \"rue\", \"numero\", \n",
    "                \"annee\", \"streetname\", \"geometry\", \"name\", \"year\", \"align_method\"]]\n",
    "all_streets = pd.concat([streets, unique_short_s, non_unique_short_s])"
   ]
  },
  {
   "attachments": {},
   "cell_type": "markdown",
   "metadata": {},
   "source": [
    "## Overview over alignment"
   ]
  },
  {
   "cell_type": "code",
   "execution_count": 35,
   "metadata": {},
   "outputs": [],
   "source": [
    "methods = [\"perfect\", \"perfect short\", \"no spaces perfect\", \"no spaces perfect short\", \"fuzzy 85\", \"fuzzy 80\"]\n",
    "dev_aligned = {}\n",
    "for method in methods:\n",
    "    dev_aligned[method] = len(all_aligned[all_aligned[\"align_method\"]==method])"
   ]
  },
  {
   "cell_type": "code",
   "execution_count": 45,
   "metadata": {},
   "outputs": [
    {
     "data": {
      "text/plain": [
       "Text(0.5, 1.0, 'Number of alignment entries per method\\n(alignment in order from left to right)')"
      ]
     },
     "execution_count": 45,
     "metadata": {},
     "output_type": "execute_result"
    },
    {
     "data": {
      "image/png": "[encoded data removed]",
      "text/plain": [
       "<Figure size 432x288 with 1 Axes>"
      ]
     },
     "metadata": {
      "needs_background": "light"
     },
     "output_type": "display_data"
    }
   ],
   "source": [
    "plt.bar(dev_aligned.keys(), dev_aligned.values())\n",
    "plt.xticks(rotation = 90)\n",
    "plt.title(\"Number of alignment entries per method\\n(alignment in order from left to right)\")"
   ]
  },
  {
   "attachments": {},
   "cell_type": "markdown",
   "metadata": {},
   "source": [
    "## Quality of Alignment"
   ]
  },
  {
   "cell_type": "code",
   "execution_count": 37,
   "metadata": {},
   "outputs": [],
   "source": [
    "def print_sample(df, align_methods, sample_size, random_state=42):\n",
    "    '''\n",
    "    This function takes a certain amount of samples from the given (aligned) data with specified alignment\n",
    "    methods and prints the street (Bottin Data), the matched street and the specific alignment method for \n",
    "    each sample.\n",
    "\n",
    "    Parameters:\n",
    "    :df: dataframe with aligned data\n",
    "    :align_methods: all alignment methods that samples should be chosen from\n",
    "    :sample_size: the number of samples to print\n",
    "    :random_state: random state to make result reproducible\n",
    "    '''\n",
    "    df = df[df[\"align_method\"].isin(align_methods)].sample(n=sample_size, random_state=random_state)\n",
    "    data = zip(df[\"rue\"], df[\"streetname\"], df[\"align_method\"])\n",
    "    for i, entry in enumerate(data):\n",
    "        print(f\"{i+1}. bottin: {entry[0]}  -  matched: {entry[1]}   ({entry[2]})\") "
   ]
  },
  {
   "attachments": {},
   "cell_type": "markdown",
   "metadata": {},
   "source": [
    "### Perfect Alignment\n",
    "Checking the code below, the alignment is correct in **100%** of the cases.\n",
    "\n",
    "However, the alignment on the short streetnames is by nature sometimes ambiguous, because the short name was used in the Bottin Data."
   ]
  },
  {
   "cell_type": "code",
   "execution_count": 38,
   "metadata": {},
   "outputs": [
    {
     "name": "stdout",
     "output_type": "stream",
     "text": [
      "1. bottin: Viala  -  matched: Rue Viala   (perfect short)\n",
      "2. bottin: Duméril  -  matched: Rue Duméril   (perfect short)\n",
      "3. bottin: Dames  -  matched: Allée des Dames, Route des Dames, Rue des Dames   (perfect short)\n",
      "4. bottin: Laffitte  -  matched: Rue Laffitte   (perfect short)\n",
      "5. bottin: Buffault  -  matched: Rue Buffault, Rue de Buffault   (perfect short)\n",
      "6. bottin: Mazagran  -  matched: Avenue de Mazagran, Rue de Mazagran   (perfect short)\n",
      "7. bottin: boul. Voltaire  -  matched: Boulevard Voltaire   (perfect)\n",
      "8. bottin: Daumesnil  -  matched: Avenue Daumesnil, Villa Daumesnil   (perfect short)\n",
      "9. bottin: Lamartine  -  matched: Rue Lamartine, Square Lamartine   (perfect short)\n",
      "10. bottin: Petit-Carreau  -  matched: Rue du Petit Carreau   (perfect short)\n",
      "11. bottin: Vannerie  -  matched: Rue de la Vannerie   (perfect short)\n",
      "12. bottin: Crimée  -  matched: Avenue de Crimée, Passage de Crimée, Rue de Crimée   (perfect short)\n",
      "13. bottin: Louis-Blanc  -  matched: Rue Louis Blanc   (perfect short)\n",
      "14. bottin: avenue d'Italie  -  matched: Avenue d'Italie   (perfect)\n",
      "15. bottin: rue des Fontaines-du-Temple  -  matched: Rue des Fontaines du Temple   (perfect)\n",
      "16. bottin: boul. Pereire  -  matched: Boulevard Pereire   (perfect)\n",
      "17. bottin: Mouffetard  -  matched: Rue Mouffetard   (perfect short)\n",
      "18. bottin: boul. Ornano  -  matched: Boulevard Ornano   (perfect)\n",
      "19. bottin: Sentier  -  matched: Rue du Sentier   (perfect short)\n",
      "20. bottin: St-Honoré  -  matched: Rue Saint Honoré   (perfect short)\n",
      "21. bottin: Rivoli  -  matched: Rue de Rivoli   (perfect short)\n",
      "22. bottin: pass. des Panoramas  -  matched: Passage des Panoramas   (perfect)\n",
      "23. bottin: av. de Choisy  -  matched: Avenue de Choisy   (perfect)\n",
      "24. bottin: Basfroi  -  matched: Passage Basfroi, Rue Basfroi   (perfect short)\n",
      "25. bottin: Lecourbe  -  matched: Rue Lecourbe, Villa Lecourbe   (perfect short)\n",
      "26. bottin: Rivoli  -  matched: Rue de Rivoli   (perfect short)\n",
      "27. bottin: boul. St-Martin  -  matched: Boulevard Saint Martin   (perfect)\n",
      "28. bottin: boul. Ménilmontant  -  matched: Boulevard de Ménilmontant   (perfect)\n",
      "29. bottin: Temple  -  matched: Boulevard du Temple, Rue du Temple, Rue Vieille du Temple   (perfect short)\n",
      "30. bottin: St-Marc  -  matched: Galerie Saint-Marc, Rue Neuve Saint Marc, Rue Saint Marc   (perfect short)\n",
      "31. bottin: passage Choiseul  -  matched: Passage Choiseul   (perfect)\n",
      "32. bottin: Faub.-St-Honoré  -  matched: Rue du Faubourg Saint-Honoré   (perfect short)\n",
      "33. bottin: r. de la Croix-Nivert  -  matched: Rue de la Croix Nivert   (perfect)\n",
      "34. bottin: Mont-Thabor  -  matched: Rue du Mont-Thabor   (perfect short)\n",
      "35. bottin: Tronchet  -  matched: Rue Tronchet   (perfect short)\n",
      "36. bottin: r. d'Anjou  -  matched: Rue d'Anjou   (perfect)\n",
      "37. bottin: r. Ballu  -  matched: Rue Ballu   (perfect)\n",
      "38. bottin: Quincampoix  -  matched: Rue Quincampoix   (perfect short)\n",
      "39. bottin: St-Antoine  -  matched: Passage Saint-Antoine, Rue Saint Antoine   (perfect short)\n",
      "40. bottin: Joubert  -  matched: Rue Joubert   (perfect short)\n",
      "41. bottin: boul. Voltaire  -  matched: Boulevard Voltaire   (perfect)\n",
      "42. bottin: Sèvres  -  matched: Rue de Sèvres   (perfect short)\n",
      "43. bottin: Saint-Victor  -  matched: Rue Saint Victor   (perfect short)\n",
      "44. bottin: Bourtibourg  -  matched: Rue Bourtibourg   (perfect short)\n",
      "45. bottin: r. Blanche  -  matched: Rue Blanche   (perfect)\n",
      "46. bottin: Sentier  -  matched: Rue du Sentier   (perfect short)\n",
      "47. bottin: St-Lazare  -  matched: Cul de Sac Saint Lazare, Rue Saint Lazare   (perfect short)\n",
      "48. bottin: Perrée  -  matched: Rue Perrée   (perfect short)\n",
      "49. bottin: place de la Madeleine  -  matched: Place de la Madeleine   (perfect)\n",
      "50. bottin: galerie Vivienne  -  matched: Galerie Vivienne   (perfect)\n",
      "51. bottin: Bondy  -  matched: Rue de Bondy   (perfect short)\n",
      "52. bottin: Croix-des-PetitsChamps  -  matched: Rue Croix des Petits Champs   (perfect short)\n",
      "53. bottin: Ste-Foy  -  matched: Galerie Sainte-Foy, Passage Sainte-Foy, Rue Sainte Foy   (perfect short)\n",
      "54. bottin: r. de Meaux  -  matched: Rue de Meaux   (perfect)\n",
      "55. bottin: r. des Tournelles  -  matched: Rue des Tournelles   (perfect)\n",
      "56. bottin: Bellechasse  -  matched: Rue de Bellechasse   (perfect short)\n",
      "57. bottin: Popincourt  -  matched: Cité Popincourt, Impasse Popincourt   (perfect short)\n",
      "58. bottin: r. de Sèvres  -  matched: Rue de Sèvres   (perfect)\n",
      "59. bottin: Rigoles  -  matched: Rue des Rigoles   (perfect short)\n",
      "60. bottin: r. de Rome  -  matched: Rue de Rome   (perfect)\n",
      "61. bottin: St-Germain-l'Auxerrois  -  matched: Rue Saint Germain l'Auxerrois   (perfect short)\n",
      "62. bottin: Croix-Nivert  -  matched: Rue de la Croix Nivert, Villa Croix Nivert   (perfect short)\n",
      "63. bottin: r. Michel-le-Comte  -  matched: Rue Michel le Comte   (perfect)\n",
      "64. bottin: r. de Vaugirard  -  matched: Rue de Vaugirard   (perfect)\n",
      "65. bottin: Londres  -  matched: Cité de Londres, Rue de Londres   (perfect short)\n",
      "66. bottin: Bretagne  -  matched: Rue de Bretagne, Rue Neuve de Bretagne   (perfect short)\n",
      "67. bottin: Thibautodé  -  matched: Rue Thibautodé   (perfect short)\n",
      "68. bottin: Noyers  -  matched: Rue des Noyers   (perfect short)\n",
      "69. bottin: rue Nollet  -  matched: Rue Nollet   (perfect)\n",
      "70. bottin: Cygne  -  matched: Rue du Cygne   (perfect short)\n",
      "71. bottin: boul. Magenta  -  matched: Boulevard de Magenta   (perfect)\n",
      "72. bottin: Mazagran  -  matched: Avenue de Mazagran, Rue de Mazagran   (perfect short)\n",
      "73. bottin: pl. Dauphine  -  matched: Place Dauphine   (perfect)\n",
      "74. bottin: Faub.St Martin  -  matched: Rue du Faubourg Saint Martin   (perfect short)\n",
      "75. bottin: Taillandiers  -  matched: Passage des Taillandiers, Rue des Taillandiers   (perfect short)\n",
      "76. bottin: Echiquier  -  matched: Rue de l'Echiquier   (perfect short)\n",
      "77. bottin: r. Vivienne  -  matched: Rue Vivienne   (perfect)\n",
      "78. bottin: av. Ledru-Rollin  -  matched: Avenue Ledru-Rollin   (perfect)\n",
      "79. bottin: St-Séverin  -  matched: Rue Saint Severin   (perfect short)\n",
      "80. bottin: Orsel  -  matched: Rue d'Orsel   (perfect short)\n",
      "81. bottin: Cherche-Midi  -  matched: Rue du Cherche Midi   (perfect)\n",
      "82. bottin: Lafayette  -  matched: Rue la Fayette   (perfect short)\n",
      "83. bottin: r. des Poissonniers  -  matched: Rue des Poissonniers   (perfect)\n",
      "84. bottin: Moulins  -  matched: Route des Moulins, Rue des Moulins   (perfect short)\n",
      "85. bottin: boul. de l'Hôpital  -  matched: Boulevard de l'Hôpital   (perfect)\n",
      "86. bottin: Chemin-Vert  -  matched: Passage du Chemin Vert, Rue du Chemin Vert   (perfect short)\n",
      "87. bottin: avenue du Maine  -  matched: Avenue du Maine   (perfect)\n",
      "88. bottin: N.-D.de-Nazareth  -  matched: Rue Notre Dame de Nazareth   (perfect short)\n",
      "89. bottin: Aubry-le-Boucher  -  matched: Rue Aubry le Boucher   (perfect short)\n",
      "90. bottin: Commines  -  matched: Rue Commines   (perfect short)\n",
      "91. bottin: Lancry  -  matched: Rue de Lancry   (perfect short)\n",
      "92. bottin: Richelieu  -  matched: Passage de Richelieu, Rue de Richelieu, Rue Neuve de Richelieu   (perfect short)\n",
      "93. bottin: Lancry  -  matched: Rue de Lancry   (perfect short)\n",
      "94. bottin: Marché-St-Honoré  -  matched: Place du Marché Saint-Honoré, Rue du Marché Saint Honoré   (perfect short)\n",
      "95. bottin: r. de Turin  -  matched: Rue de Turin   (perfect)\n",
      "96. bottin: St-Sabin  -  matched: Impasse Saint Sabin, Passage Saint-Sabin, Rue Saint Sabin, Ruelle Saint Sabin   (perfect short)\n",
      "97. bottin: r. St-Dominique  -  matched: Rue Saint-Dominique   (perfect)\n",
      "98. bottin: Sentier  -  matched: Rue du Sentier   (perfect short)\n",
      "99. bottin: Maubeuge  -  matched: Rue de Maubeuge, Square de Maubeuge   (perfect short)\n",
      "100. bottin: Chapelle  -  matched: Avenue de la Chapelle, Boulevard de la Chapelle, Cité de la Chapelle, Impasse de la Chapelle, Place de la Chapelle, Souterrain Chapelle   (perfect short)\n"
     ]
    }
   ],
   "source": [
    "print_sample(all_aligned, [\"perfect\", \"perfect short\"], 100)"
   ]
  },
  {
   "attachments": {},
   "cell_type": "markdown",
   "metadata": {},
   "source": [
    "### Alignment without spaces\n",
    "The alignment of the samples below is correct in **100%** of the cases."
   ]
  },
  {
   "cell_type": "code",
   "execution_count": 39,
   "metadata": {},
   "outputs": [
    {
     "name": "stdout",
     "output_type": "stream",
     "text": [
      "1. bottin: r. ChateauLandon  -  matched: Rue Chateau Landon   (no spaces perfect)\n",
      "2. bottin: r. Boissyd'Anglas  -  matched: Rue Boissy d'Anglas   (no spaces perfect)\n",
      "3. bottin: rue Perro net  -  matched: Rue Perronet   (no spaces perfect)\n",
      "4. bottin: Faub. - SaintHonoré  -  matched: Rue du Faubourg Saint-Honoré   (no spaces perfect short)\n",
      "5. bottin: Fauh.-StDenis  -  matched: Rue du Faubourg Saint Denis   (no spaces perfect short)\n",
      "6. bottin: passage SteCroix-de-la-Bretonnerie  -  matched: Passage Sainte Croix de la Bretonnerie   (no spaces perfect)\n",
      "7. bottin: quai de la Mégis serie  -  matched: Quai de la Mégisserie   (no spaces perfect)\n",
      "8. bottin: r. de la TombeIssoire  -  matched: Rue de la Tombe Issoire   (no spaces perfect)\n",
      "9. bottin: PetitMusc  -  matched: Rue du Petit Musc   (no spaces perfect short)\n",
      "10. bottin: Page vin  -  matched: Rue Pagevin   (no spaces perfect short)\n",
      "11. bottin: Moulindes-Prés  -  matched: Passage du Moulin des Prés, Rue du Moulin des Prés   (no spaces perfect short)\n",
      "12. bottin: rue de la Cos. sonnerie  -  matched: Rue de la Cossonnerie   (no spaces perfect)\n",
      "13. bottin: StLouis-en-l'Ile  -  matched: Rue Saint-Louis en l'Ile   (no spaces perfect short)\n",
      "14. bottin: r. du Faub. StHonoré  -  matched: Rue du Faubourg Saint-Honoré   (no spaces perfect)\n",
      "15. bottin: Faub.-StAntoine  -  matched: Rue du Faubourg Saint Antoine   (no spaces perfect short)\n",
      "16. bottin: Marché-StHonoré  -  matched: Place du Marché Saint-Honoré, Rue du Marché Saint Honoré   (no spaces perfect short)\n",
      "17. bottin: cité DupetitThouars  -  matched: Cité Dupetit-Thouars   (no spaces perfect)\n",
      "18. bottin: quai StMichel  -  matched: Quai Saint Michel   (no spaces perfect)\n",
      "19. bottin: avenue de Low endal  -  matched: Avenue de Lowendal   (no spaces perfect)\n",
      "20. bottin: Faub. - Poissonnière  -  matched: Rue du Faubourg Poissonnière   (no spaces perfect short)\n",
      "21. bottin: r. PierrePicard  -  matched: Rue Pierre Picard   (no spaces perfect)\n",
      "22. bottin: GrandChantier  -  matched: Rue du Grand Chantier   (no spaces perfect short)\n",
      "23. bottin: Faub. StDenis  -  matched: Rue du Faubourg Saint Denis   (no spaces perfect short)\n",
      "24. bottin: Ste-A polline  -  matched: Rue Sainte Apolline   (no spaces perfect short)\n",
      "25. bottin: Mau. beuge  -  matched: Rue de Maubeuge, Square de Maubeuge   (no spaces perfect short)\n",
      "26. bottin: Faub.-SaintMartin  -  matched: Rue du Faubourg Saint Martin   (no spaces perfect short)\n",
      "27. bottin: r. du GrandPrieuré  -  matched: Rue du Grand Prieuré   (no spaces perfect)\n",
      "28. bottin: Faub.-StMartin  -  matched: Rue du Faubourg Saint Martin   (no spaces perfect short)\n",
      "29. bottin: r. du ChercheMidi  -  matched: Rue du Cherche Midi   (no spaces perfect)\n",
      "30. bottin: Ste-Croix-de-laBretonnerie  -  matched: Passage Sainte Croix de la Bretonnerie, Rue Sainte Croix de la Bretonnerie, Square Sainte-croix de la Bretonnerie   (no spaces perfect short)\n",
      "31. bottin: r.Gay-Lussac  -  matched: Rue Gay-Lussac   (no spaces perfect)\n",
      "32. bottin: av. LedruRollin  -  matched: Avenue Ledru-Rollin   (no spaces perfect)\n",
      "33. bottin: StPaul  -  matched: Impasse Saint-Paul, Passage Saint-Paul, Quai Saint Paul, Rue Neuve Saint Paul, Rue Saint Paul   (no spaces perfect short)\n",
      "34. bottin: Goutted'Or  -  matched: Rue de la Goutte d'Or   (no spaces perfect short)\n",
      "35. bottin: St-Thomas-duLouvre  -  matched: Rue Saint-Thomas-du-Louvre   (no spaces perfect short)\n",
      "36. bottin: r. AlexandreDumas  -  matched: Rue Alexandre Dumas   (no spaces perfect)\n",
      "37. bottin: r. Monsieurle-Prince  -  matched: Rue Monsieur le Prince   (no spaces perfect)\n",
      "38. bottin: Jeanned'Arc  -  matched: Place Jeanne d'Arc, Rue Jeanne d'Arc   (no spaces perfect short)\n",
      "39. bottin: N.-Damedes. Victoires  -  matched: Rue Notre Dame des Victoires   (no spaces perfect short)\n",
      "40. bottin: r. Lesueur  -  matched: Rue Le Sueur   (no spaces perfect)\n",
      "41. bottin: Faub.-St-Antoi. ne  -  matched: Rue du Faubourg Saint Antoine   (no spaces perfect short)\n",
      "42. bottin: StMartin  -  matched: Boulevard Saint Martin, Cité Saint-Martin, Impasse Neuve Saint Martin, Impasse Saint Martin, Rue Neuve Saint Martin, Rue Saint Martin   (no spaces perfect short)\n",
      "43. bottin: boul. Latour-Maubourg  -  matched: Boulevard de la Tour-Maubourg   (no spaces perfect)\n",
      "44. bottin: r. Tait bout  -  matched: Rue Taitbout   (no spaces perfect)\n",
      "45. bottin: Faub.-Mont- martre  -  matched: Rue du Faubourg Montmartre   (no spaces perfect short)\n",
      "46. bottin: MontThabor  -  matched: Rue du Mont-Thabor   (no spaces perfect short)\n",
      "47. bottin: r. du Champ-deMars  -  matched: Rue du Champ de Mars   (no spaces perfect)\n",
      "48. bottin: Basse-duRempart  -  matched: Rue Basse du Rempart   (no spaces perfect short)\n",
      "49. bottin: -r. St-Charles  -  matched: Rue Saint-Charles   (no spaces perfect)\n",
      "50. bottin: rue Poin sot  -  matched: Rue Poinsot   (no spaces perfect)\n",
      "51. bottin: StDenis  -  matched: Allée Saint-Denis, Boulevard Saint Denis, Galerie Saint-Denis, Impasse Saint-Denis, Rue Neuve Saint Denis, Rue Saint-Denis   (no spaces perfect short)\n",
      "52. bottin: Grenier-StLazare  -  matched: Rue du Grenier Saint-Lazare, Rue Grenier Saint Lazare   (no spaces perfect short)\n",
      "53. bottin: passage SteCroix-de-la-Bretonnerie  -  matched: Passage Sainte Croix de la Bretonnerie   (no spaces perfect)\n",
      "54. bottin: av. de LaMotte-Picquet  -  matched: Avenue de la Motte-Picquet   (no spaces perfect)\n",
      "55. bottin: 'Hazard  -  matched: Rue du Hazard   (no spaces perfect short)\n",
      "56. bottin: r. DupetitThouars  -  matched: Rue Dupetit-Thouars   (no spaces perfect)\n",
      "57. bottin: SainteÉlisabeth  -  matched: Passage Sainte-Elisabeth, Rue Sainte-Elisabeth   (no spaces perfect short)\n",
      "58. bottin: Faub. -StAntoine  -  matched: Rue du Faubourg Saint Antoine   (no spaces perfect short)\n",
      "59. bottin: Cimetière-St-Nicolas  -  matched: Rue du CimetièreSaint Nicolas   (no spaces perfect short)\n",
      "60. bottin: BeauxArts  -  matched: Rue des Beaux-Arts   (no spaces perfect short)\n",
      "61. bottin: r. PierreNicole  -  matched: Rue Pierre Nicole   (no spaces perfect)\n",
      "62. bottin: r. PaulBert  -  matched: Rue Paul Bert   (no spaces perfect)\n",
      "63. bottin: Michel-leComte  -  matched: Rue Michel le Comte   (no spaces perfect short)\n",
      "64. bottin: Bourgl'Abbé  -  matched: Passage Bourg-l'Abbé, Passage du Bourg l'Abbé, Rue Bourg-l'Abbé, Rue du Bourg l'Abbé, Rue Neuve Bourg-l'Abbé   (no spaces perfect short)\n",
      "65. bottin: r. StDenis  -  matched: Rue Saint-Denis   (no spaces perfect)\n",
      "66. bottin: pass. StBernard  -  matched: Passage Saint-Bernard   (no spaces perfect)\n",
      "67. bottin: r. de l'AncienneComédie  -  matched: Rue de l'Ancienne Comédie   (no spaces perfect)\n",
      "68. bottin: r. du Val-deGrâce  -  matched: Rue du Val de Grace   (no spaces perfect)\n",
      "69. bottin: DupetitThouars  -  matched: Cité Dupetit-Thouars, Rue Dupetit-Thouars   (no spaces perfect short)\n",
      "70. bottin: r. Clau. de-Bernard  -  matched: Rue Claude Bernard   (no spaces perfect)\n",
      "71. bottin: rue du Re. gard  -  matched: Rue du Regard   (no spaces perfect)\n",
      "72. bottin: Basse-duRempart  -  matched: Rue Basse du Rempart   (no spaces perfect short)\n",
      "73. bottin: Marchéaux Chevaux  -  matched: Impasse du Marché aux Chevaux, Rue du Marché aux Chevaux   (no spaces perfect short)\n",
      "74. bottin: r. LouisBraille  -  matched: Rue Louis Braille   (no spaces perfect)\n",
      "75. bottin: Ste-Croix-de-laBretonnerie  -  matched: Passage Sainte Croix de la Bretonnerie, Rue Sainte Croix de la Bretonnerie, Square Sainte-croix de la Bretonnerie   (no spaces perfect short)\n",
      "76. bottin: GrenierSt-Lazare  -  matched: Rue du Grenier Saint-Lazare, Rue Grenier Saint Lazare   (no spaces perfect short)\n",
      "77. bottin: r. Geoffroyl'Angevin  -  matched: Rue Geoffroy l'Angevin   (no spaces perfect)\n",
      "78. bottin: Legen: dre  -  matched: Passage Legendre, Rue Legendre   (no spaces perfect short)\n",
      "79. bottin: Ste-Croix-de-laBretonnerie  -  matched: Passage Sainte Croix de la Bretonnerie, Rue Sainte Croix de la Bretonnerie, Square Sainte-croix de la Bretonnerie   (no spaces perfect short)\n",
      "80. bottin: Basse-duRempart  -  matched: Rue Basse du Rempart   (no spaces perfect short)\n",
      "81. bottin: r. PaulLelong  -  matched: Rue Paul Lelong   (no spaces perfect)\n",
      "82. bottin: StHonoré  -  matched: Rue Saint Honoré   (no spaces perfect short)\n",
      "83. bottin: r. du Faub.-StDenis  -  matched: Rue du Faubourg Saint Denis   (no spaces perfect)\n",
      "84. bottin: Cimetière-St-Nicolas  -  matched: Rue du CimetièreSaint Nicolas   (no spaces perfect short)\n",
      "85. bottin: q. del'École  -  matched: Quai de l'Ecole   (no spaces perfect)\n",
      "86. bottin: Pont-auxChoux  -  matched: Boulevard du Pont aux Choux, Rue du Pont aux Choux   (no spaces perfect short)\n",
      "87. bottin: St-André-desArts  -  matched: Place Saint-andre des Arts, Rue Saint André des Arts   (no spaces perfect short)\n",
      "88. bottin: r. 'Quincampoix  -  matched: Rue Quincampoix   (no spaces perfect)\n",
      "89. bottin: GrandChantier  -  matched: Rue du Grand Chantier   (no spaces perfect short)\n",
      "90. bottin: place de la Répu. blique  -  matched: Place de la République   (no spaces perfect)\n",
      "91. bottin: MarchéSt-Honoré  -  matched: Place du Marché Saint-Honoré, Rue du Marché Saint Honoré   (no spaces perfect short)\n",
      "92. bottin: StMartin  -  matched: Boulevard Saint Martin, Cité Saint-Martin, Impasse Neuve Saint Martin, Impasse Saint Martin, Rue Neuve Saint Martin, Rue Saint Martin   (no spaces perfect short)\n",
      "93. bottin: Culture-SainteCatherine  -  matched: Rue Culture Sainte Catherine   (no spaces perfect short)\n",
      "94. bottin: Faub.- | Poissonnière  -  matched: Rue du Faubourg Poissonnière   (no spaces perfect short)\n",
      "95. bottin: r.de Belleville  -  matched: Rue de Belleville   (no spaces perfect)\n",
      "96. bottin: boul. LatourMaubourg  -  matched: Boulevard de la Tour-Maubourg   (no spaces perfect)\n",
      "97. bottin: cour du CommerceSt-André  -  matched: Cour du Commerce Saint-André   (no spaces perfect)\n",
      "98. bottin: Faub. StAntoine  -  matched: Rue du Faubourg Saint Antoine   (no spaces perfect short)\n",
      "99. bottin: Faub. StMartin  -  matched: Rue du Faubourg Saint Martin   (no spaces perfect short)\n",
      "100. bottin: Fontaineau-Roi  -  matched: Rue de la Fontaine au Roi, Rue Fontaine au Roi   (no spaces perfect short)\n"
     ]
    }
   ],
   "source": [
    "print_sample(all_aligned, [\"no spaces perfect\", \"no spaces perfect short\"], 100)"
   ]
  },
  {
   "attachments": {},
   "cell_type": "markdown",
   "metadata": {},
   "source": [
    "### Fuzzy alignment\n",
    "#### Alignment with threshold 85 (85% of the two strings matched)\n",
    "\n",
    "Correct: **80%**\n",
    "\n",
    "Unclear if correct: **5%**\n",
    "- 6 (two possibilities), \n",
    "- 11 (\"avenue\" matched with \"rue\" -> no avenue in data),\n",
    "- 15 (\"royale\" matched with \"rue\" -> no royale in data),\n",
    "- 21 (\"cité\" matched with \"route\" -> no cité in data),\n",
    "- 26 (\"route\" matched with \"rue\" -> no route in data)\n",
    "\n",
    "Incorrect matches: **15%**\n",
    "- 3, 14, 22, 23, 24, 25, 30, 42, 47, 60, 65, 70, 78, 80, 82\n",
    "\n",
    "(most of incorrect matches because there was not the correct streettype (e.g. \"avenue\" instead of \"rue\") and thus matched to different street entirely)\n",
    "\n",
    "\n",
    "\n",
    "idea for improvement: write custom ratio which punishes non-alignments in last part of string more"
   ]
  },
  {
   "cell_type": "code",
   "execution_count": 40,
   "metadata": {},
   "outputs": [
    {
     "name": "stdout",
     "output_type": "stream",
     "text": [
      "1. bottin: r. d'Astorg  -  matched: Rue d'Astorg   (fuzzy 85)\n",
      "2. bottin: r. Tanger  -  matched: Rue de Tanger   (fuzzy 85)\n",
      "3. bottin: boul. de la Gare  -  matched: Boulevard de la Guyane   (fuzzy 85)\n",
      "4. bottin: r. Augustin-Thierry  -  matched: Rue Augustin Thierry   (fuzzy 85)\n",
      "5. bottin: r. Stephenson  -  matched: Rue Stephenson   (fuzzy 85)\n",
      "6. bottin: Nve-St-Martin  -  matched: Rue Neuve Saint Martin   (fuzzy 85)\n",
      "7. bottin: Nve-Coquenard  -  matched: Rue Coquenard   (fuzzy 85)\n",
      "8. bottin: boul. Sébastopol  -  matched: Boulevard de Sébastopol   (fuzzy 85)\n",
      "9. bottin: imp. d'Amsterdam  -  matched: Impasse d'Amsterdam   (fuzzy 85)\n",
      "10. bottin: Nve-des-Martyrs  -  matched: Rue des Martyrs   (fuzzy 85)\n",
      "11. bottin: avenue Chateaubriand  -  matched: Rue Chateaubriand   (fuzzy 85)\n",
      "12. bottin: avenue Lamothe-Piquet  -  matched: Avenue de la Motte Piquet   (fuzzy 85)\n",
      "13. bottin: quai des Célestins  -  matched: Quai des Célestins   (fuzzy 85)\n",
      "14. bottin: imp. Laugier  -  matched: Impasse Lamier   (fuzzy 85)\n",
      "15. bottin: Royale-St-Honoré  -  matched: Rue Saint Honoré   (fuzzy 85)\n",
      "16. bottin: cité Trévise  -  matched: Cité de Trévise   (fuzzy 85)\n",
      "17. bottin: pass. de l'Industrie  -  matched: Passage de l'Industrie   (fuzzy 85)\n",
      "18. bottin: r. Pastourelle  -  matched: Rue Pastourelle   (fuzzy 85)\n",
      "19. bottin: boul. Strasbourg  -  matched: Boulevard de Strasbourg   (fuzzy 85)\n",
      "20. bottin: St-André-Popinc.  -  matched: Rue Saint André Popincourt   (fuzzy 85)\n",
      "21. bottin: cité de l'Etoile  -  matched: Route de l'Etoile   (fuzzy 85)\n",
      "22. bottin: passage de l'Isly  -  matched: Passage de l'Asile   (fuzzy 85)\n",
      "23. bottin: r. Ste-Marthe  -  matched: Rue Saint-Mathieu   (fuzzy 85)\n",
      "24. bottin: r. de la Nation  -  matched: Rue de la Réunion   (fuzzy 85)\n",
      "25. bottin: avenue de la Roquette  -  matched: Avenue de la Grotte   (fuzzy 85)\n",
      "26. bottin: route de Versailles  -  matched: Rue de Versailles   (fuzzy 85)\n",
      "27. bottin: Ste-Croix-la-Bretonnerie  -  matched: Rue Sainte Croix de la Bretonnerie   (fuzzy 85)\n",
      "28. bottin: r. des Immeubles-Industriels  -  matched: Rue des Immeubles Industriels   (fuzzy 85)\n",
      "29. bottin: boul. Sébastopol  -  matched: Boulevard de Sébastopol   (fuzzy 85)\n",
      "30. bottin: boul. d'Italie  -  matched: Boulevard d'Algérie   (fuzzy 85)\n",
      "31. bottin: rue Christine  -  matched: Rue Christine   (fuzzy 85)\n",
      "32. bottin: gal. Montpensier  -  matched: Galerie de Montpensier   (fuzzy 85)\n",
      "33. bottin: boul. Sébastopoi  -  matched: Boulevard de Sébastopol   (fuzzy 85)\n",
      "34. bottin: avenue des Ter. nes  -  matched: Avenue des Ternes   (fuzzy 85)\n",
      "35. bottin: boul. Sébastopol  -  matched: Boulevard de Sébastopol   (fuzzy 85)\n",
      "36. bottin: pass. de l'industrie  -  matched: Passage de l'Industrie   (fuzzy 85)\n",
      "37. bottin: Nve-St-Augustin  -  matched: Rue Neuve Saint Augustin   (fuzzy 85)\n",
      "38. bottin: Vieille-du-Temple  -  matched: Rue Vieille du Temple   (fuzzy 85)\n",
      "39. bottin: Nve-St-Augustin  -  matched: Rue Neuve Saint Augustin   (fuzzy 85)\n",
      "40. bottin: Nve-des-Capucines  -  matched: Rue des Capucines   (fuzzy 85)\n",
      "41. bottin: rue Belzunce  -  matched: Rue de Belzunce   (fuzzy 85)\n",
      "42. bottin: pass. Violet  -  matched: Passage Viallet   (fuzzy 85)\n",
      "43. bottin: r. Ramponneau  -  matched: Rue Ramponeau   (fuzzy 85)\n",
      "44. bottin: r. La Boëtie  -  matched: Rue la Boétie   (fuzzy 85)\n",
      "45. bottin: Nve-St-Gilles  -  matched: Rue Neuve Saint Gilles   (fuzzy 85)\n",
      "46. bottin: r. François 1er  -  matched: Rue François Ier   (fuzzy 85)\n",
      "47. bottin: r. Champlain  -  matched: Rue Champollion   (fuzzy 85)\n",
      "48. bottin: boul. Sébastopol  -  matched: Boulevard de Sébastopol   (fuzzy 85)\n",
      "49. bottin: avenue St-Ouen  -  matched: Avenue de Saint-Ouen   (fuzzy 85)\n",
      "50. bottin: Neuve-des-PetitsChamps  -  matched: Rue Neuve des Petits Champs   (fuzzy 85)\n",
      "51. bottin: boul. Sébastopol  -  matched: Boulevard de Sébastopol   (fuzzy 85)\n",
      "52. bottin: J.-J.-Rousseau  -  matched: Rue Jean-Jacques Rousseau   (fuzzy 85)\n",
      "53. bottin: r. de Chaligny  -  matched: Rue Chaligny   (fuzzy 85)\n",
      "54. bottin: Vieille-du-Temple  -  matched: Rue Vieille du Temple   (fuzzy 85)\n",
      "55. bottin: av. de La Motte-Picquel  -  matched: Avenue de la Motte-Picquet   (fuzzy 85)\n",
      "56. bottin: Galerie Montpensier  -  matched: Galerie de Montpensier   (fuzzy 85)\n",
      "57. bottin: St-Lonis-en-l'Ile  -  matched: Rue Saint-Louis en l'Ile   (fuzzy 85)\n",
      "58. bottin: Nve-St-Augustin  -  matched: Rue Neuve Saint Augustin   (fuzzy 85)\n",
      "59. bottin: et St-Honoré  -  matched: Rue Saint Honoré   (fuzzy 85)\n",
      "60. bottin: r. Guilhem  -  matched: Rue Wilhem   (fuzzy 85)\n",
      "61. bottin: r. Richelieu  -  matched: Rue de Richelieu   (fuzzy 85)\n",
      "62. bottin: Nve-Guillemin  -  matched: Rue Neuve Guillemin   (fuzzy 85)\n",
      "63. bottin: Vieille-du-'Temple  -  matched: Rue Vieille du Temple   (fuzzy 85)\n",
      "64. bottin: Nve-St-Paul  -  matched: Rue Neuve Saint Paul   (fuzzy 85)\n",
      "65. bottin: quai du Marché-Neuf  -  matched: Rue du Marché Neuf   (fuzzy 85)\n",
      "66. bottin: pl. St-Antoine  -  matched: Passage Saint-Antoine   (fuzzy 85)\n",
      "67. bottin: St-Jacq.-la-Boucherie  -  matched: Rue Saint Jacques la Boucherie   (fuzzy 85)\n",
      "68. bottin: rue St-Sébastien  -  matched: Rue Saint Sébastien   (fuzzy 85)\n",
      "69. bottin: r. Lesdiguières  -  matched: Rue de Lesdiguières   (fuzzy 85)\n",
      "70. bottin: boul. d'Italie  -  matched: Boulevard d'Algérie   (fuzzy 85)\n",
      "71. bottin: pass des Petites-Ecuries  -  matched: Passage des Petites Ecuries   (fuzzy 85)\n",
      "72. bottin: r. des Mathurins  -  matched: Rue Neuve des Mathurins   (fuzzy 85)\n",
      "73. bottin: rue de la Bastille  -  matched: Rue de la Bastille   (fuzzy 85)\n",
      "74. bottin: Nve-Ste-Geneviève  -  matched: Rue Neuve Sainte Geneviève   (fuzzy 85)\n",
      "75. bottin: Vieille-du-Temple  -  matched: Rue Vieille du Temple   (fuzzy 85)\n",
      "76. bottin: Vieille-du-Temple  -  matched: Rue Vieille du Temple   (fuzzy 85)\n",
      "77. bottin: Nre-St-Augustin  -  matched: Rue Saint-Augustin   (fuzzy 85)\n",
      "78. bottin: r. des Marais  -  matched: Rue des Marchais   (fuzzy 85)\n",
      "79. bottin: Port-Bercy  -  matched: Port de Bercy   (fuzzy 85)\n",
      "80. bottin: r. de Flandre  -  matched: Rue de Londres   (fuzzy 85)\n",
      "81. bottin: place Valois  -  matched: Place de Valois   (fuzzy 85)\n",
      "82. bottin: rue Fourcy  -  matched: Rue Fourcroy   (fuzzy 85)\n",
      "83. bottin: avenue Lamothe-Piquet  -  matched: Avenue de la Motte Piquet   (fuzzy 85)\n",
      "84. bottin: r. La Boëtie  -  matched: Rue la Boétie   (fuzzy 85)\n",
      "85. bottin: r. Crozalier  -  matched: Rue Crozatier   (fuzzy 85)\n",
      "86. bottin: r. du CheminVert  -  matched: Rue du Chemin Vert   (fuzzy 85)\n",
      "87. bottin: boul. Sébastopol  -  matched: Boulevard de Sébastopol   (fuzzy 85)\n",
      "88. bottin: r. d'Amsterdam  -  matched: Rue d'Amsterdam   (fuzzy 85)\n",
      "89. bottin: r. Montenotte  -  matched: Rue de Montenotte   (fuzzy 85)\n",
      "90. bottin: r. Guilhem  -  matched: Rue Wilhem   (fuzzy 85)\n",
      "91. bottin: boul Beaumarchais  -  matched: Boulevard Beaumarchais   (fuzzy 85)\n",
      "92. bottin: boul. Sébastopol  -  matched: Boulevard de Sébastopol   (fuzzy 85)\n",
      "93. bottin: r. Faub.St-Martin  -  matched: Rue du Faubourg Saint Martin   (fuzzy 85)\n",
      "94. bottin: boul. de Strasbourg  -  matched: Boulevard de Strasbourg   (fuzzy 85)\n",
      "95. bottin: cité Industrielle  -  matched: Cité Industrielle   (fuzzy 85)\n",
      "96. bottin: J.-J.-Rousseau  -  matched: Rue Jean-Jacques Rousseau   (fuzzy 85)\n",
      "97. bottin: Nve-St-Denis  -  matched: Rue Neuve Saint Denis   (fuzzy 85)\n",
      "98. bottin: aven. St-Ouen  -  matched: Avenue de Saint-Ouen   (fuzzy 85)\n",
      "99. bottin: J.-J.Rousseau  -  matched: Rue Jean-Jacques Rousseau   (fuzzy 85)\n",
      "100. bottin: r. Truffault  -  matched: Rue Truffaut   (fuzzy 85)\n"
     ]
    }
   ],
   "source": [
    "print_sample(all_aligned, [\"fuzzy 85\"], 100)"
   ]
  },
  {
   "attachments": {},
   "cell_type": "markdown",
   "metadata": {},
   "source": [
    "#### Alignment of threshold between 80 and 85\n",
    "\n",
    "correct: **46%**\n",
    "\n",
    "incorrect: **39%**\n",
    "- 2, 6, 8, 11, 12, 14, 17, 18, 24, 25, 26, 29, 31, 34, 38, 39, 42, 43, 44, 46, 51, 56, 59, 62, 66, 67, 69, 70, 78, 85, 86, 87, 88, 92, 95, 96, 97, 98, 100\n",
    "- from this incorrect street type: **7%** (26, 29, 34, 42, 78, 87, 100)\n",
    "\n",
    "unclear: **15%**\n",
    "- 3 (\"rue\" instead of \"chaussée\")\n",
    "- 4 (\"rue\" instead of \"plâtre\")\n",
    "- 10 (\"rue\" instead of \"grenelle\")\n",
    "- 37 (\"cite\" instead of \"rue\")\n",
    "- 40 (\"rue\" instead of \"cloître\")\n",
    "- 41 (\"rue alphonse karr\" instead of \"rue alphonse\")\n",
    "- 48 (\"rue\" instead of \"boulevard\")\n",
    "- 53 (\"rue\" instead of \"rotonde\")\n",
    "- 54 (\"rue\" instead of \"place\")\n",
    "- 57 (\"rue\" instead of \"cloître\")\n",
    "- 73 (\"rue\" instead of \"grénelle\")\n",
    "- 77 (\"rue alphonse karr\" instead of \"rue alphonse\")\n",
    "- 91 (\"rue\" instead of \"impasse\")\n",
    "- 93 (\"rue\" instead of \"cité\")\n",
    "- 99 (\"rue\" instead of \"cité\")\n",
    "\n",
    "-> many wrongly matched because \"correct\" street was not in dataset"
   ]
  },
  {
   "cell_type": "code",
   "execution_count": 41,
   "metadata": {},
   "outputs": [],
   "source": [
    "#check for names in street dataset\n",
    "#print([x for x in streets[\"streetname_prep\"] if \"honore\" in x])"
   ]
  },
  {
   "cell_type": "code",
   "execution_count": 42,
   "metadata": {},
   "outputs": [
    {
     "name": "stdout",
     "output_type": "stream",
     "text": [
      "1. bottin: Vercingétoris  -  matched: Rue Vercingétorix   (fuzzy 80)\n",
      "2. bottin: pass. Corbeau  -  matched: Passage Dareau   (fuzzy 80)\n",
      "3. bottin: Chaussée-des-Martyrs  -  matched: Rue des Martyrs   (fuzzy 80)\n",
      "4. bottin: Plâtre-du-Temple  -  matched: Rue du Temple   (fuzzy 80)\n",
      "5. bottin: La Tour-d'Auvergne  -  matched: Rue de la Tour d'Auvergne   (fuzzy 80)\n",
      "6. bottin: pass. Théruin  -  matched: Passage Thiéré   (fuzzy 80)\n",
      "7. bottin: Four-St-Germain  -  matched: Boulevard Saint-Germain   (fuzzy 80)\n",
      "8. bottin: r. du Moulin-de-Beurre  -  matched: Rue du Moulin des Prés   (fuzzy 80)\n",
      "9. bottin: Faub.-St-Honorė  -  matched: Rue du Faubourg Saint-Honoré   (fuzzy 80)\n",
      "10. bottin: Grenelle-St-Honoré  -  matched: Rue Saint Honoré   (fuzzy 80)\n",
      "11. bottin: cité Jarry  -  matched: Cité Aubry   (fuzzy 80)\n",
      "12. bottin: pass. du Saumon  -  matched: Passage du Sud   (fuzzy 80)\n",
      "13. bottin: r. de la Chaussée-d'Antin  -  matched: Rue de la Chaussée d'Antin   (fuzzy 80)\n",
      "14. bottin: r. Jouffroy  -  matched: Rue Sauffroy   (fuzzy 80)\n",
      "15. bottin: Lenoir-St-Antoine  -  matched: Rue Saint Antoine   (fuzzy 80)\n",
      "16. bottin: Coq-St-Honoré  -  matched: Rue Saint Honoré   (fuzzy 80)\n",
      "17. bottin: avenue d'Orléans  -  matched: Avenue Dorian   (fuzzy 80)\n",
      "18. bottin: boul. Mazas  -  matched: Boulevard de Magenta   (fuzzy 80)\n",
      "19. bottin: r. Poliveau  -  matched: Rue Polonceau   (fuzzy 80)\n",
      "20. bottin: Lenoir-St-Antoine  -  matched: Rue Saint Antoine   (fuzzy 80)\n",
      "21. bottin: péristyle Valois  -  matched: Péristyle de Valois   (fuzzy 80)\n",
      "22. bottin: Biron-Montmartre  -  matched: Rue Montmartre   (fuzzy 80)\n",
      "23. bottin: Etienne-Dollet  -  matched: Rue Etienne Dolet   (fuzzy 80)\n",
      "24. bottin: r. Maurice-Mayer  -  matched: Rue Maurice Maignen   (fuzzy 80)\n",
      "25. bottin: pass. Vivienne  -  matched: Passage Venise   (fuzzy 80)\n",
      "26. bottin: Fbg-Poissonnière  -  matched: Rue Poissonnière   (fuzzy 80)\n",
      "27. bottin: Lenoir-St-Antoine  -  matched: Rue Saint Antoine   (fuzzy 80)\n",
      "28. bottin: NeuveSt-Eustache  -  matched: Rue Neuve Saint Eustache   (fuzzy 80)\n",
      "29. bottin: Fg-St-Denis  -  matched: Rue Saint-Denis   (fuzzy 80)\n",
      "30. bottin: r. St-Vincent-dePaul  -  matched: Rue Saint-Vincent   (fuzzy 80)\n",
      "31. bottin: chemin de ronde de la barrière des Trois-Couronnes  -  matched: Chemin de Ronde de la Barrière de Pantin   (fuzzy 80)\n",
      "32. bottin: Four-St-Germain  -  matched: Boulevard Saint-Germain   (fuzzy 80)\n",
      "33. bottin: Anjou-St-Honoré  -  matched: Rue Saint Honoré   (fuzzy 80)\n",
      "34. bottin: Violet-Grenelle  -  matched: Villa de Grenelle   (fuzzy 80)\n",
      "35. bottin: Coq-Saint-Honoré  -  matched: Rue Saint Honoré   (fuzzy 80)\n",
      "36. bottin: Orléans-St-Marcel  -  matched: Rue Saint Marcel   (fuzzy 80)\n",
      "37. bottin: rue d'Angouleme  -  matched: Cité d'Angoulême   (fuzzy 80)\n",
      "38. bottin: av. d'Orléans  -  matched: Avenue Dorian   (fuzzy 80)\n",
      "39. bottin: avenue d'Orléans  -  matched: Avenue Dorian   (fuzzy 80)\n",
      "40. bottin: Cloître-St-Honoré  -  matched: Rue Saint Honoré   (fuzzy 80)\n",
      "41. bottin: r. Alphonse  -  matched: Rue Alphonse Karr   (fuzzy 80)\n",
      "42. bottin: N.Dame-des-Victoires  -  matched: Place des Victoires   (fuzzy 80)\n",
      "43. bottin: r. Astorg  -  matched: Rue Saint Georges   (fuzzy 80)\n",
      "44. bottin: passage d'Allemagne  -  matched: Passage Charlemagne   (fuzzy 80)\n",
      "45. bottin: Poterie-des-Arcis  -  matched: Rue des Arcis   (fuzzy 80)\n",
      "46. bottin: r. Julie  -  matched: Rue Juge   (fuzzy 80)\n",
      "47. bottin: Orléans-St-Honoré  -  matched: Rue Saint Honoré   (fuzzy 80)\n",
      "48. bottin: boul. Contres- carpe  -  matched: Rue de Contrescarpe   (fuzzy 80)\n",
      "49. bottin: Jean-Baptiste-Say  -  matched: Rue Jean-Baptiste Say   (fuzzy 80)\n",
      "50. bottin: Four-St-Germain  -  matched: Boulevard Saint-Germain   (fuzzy 80)\n",
      "51. bottin: impasse de Saxe  -  matched: Impasse de la Santé   (fuzzy 80)\n",
      "52. bottin: passage Entrepôt-des-Marais  -  matched: Passage des Marais   (fuzzy 80)\n",
      "53. bottin: rotonde du Temple  -  matched: Rue du Temple   (fuzzy 80)\n",
      "54. bottin: pl. St-Victor  -  matched: Rue Saint Victor   (fuzzy 80)\n",
      "55. bottin: La Tour-d'Auvergne  -  matched: Rue de la Tour d'Auvergne   (fuzzy 80)\n",
      "56. bottin: r. Mozart  -  matched: Rue Moret   (fuzzy 80)\n",
      "57. bottin: Cloître-St-Honoré  -  matched: Rue Saint Honoré   (fuzzy 80)\n",
      "58. bottin: St-Gille  -  matched: Rue Saint-Gilles   (fuzzy 80)\n",
      "59. bottin: r. Pierre-Lescot  -  matched: Rue Pierre Bullet   (fuzzy 80)\n",
      "60. bottin: Doudauville  -  matched: Rue Doudeauville   (fuzzy 80)\n",
      "61. bottin: boul. Rochechouart  -  matched: Boulevard Marguerite de Rochechouart   (fuzzy 80)\n",
      "62. bottin: passage Tivoli  -  matched: Passage National   (fuzzy 80)\n",
      "63. bottin: St-Marcoul  -  matched: Rue Saint Marcou   (fuzzy 80)\n",
      "64. bottin: Faub.-St-Hoporé  -  matched: Rue du Faubourg Saint-Honoré   (fuzzy 80)\n",
      "65. bottin: av. Seur-Rosalie  -  matched: Avenue de la Soeur Rosalie   (fuzzy 80)\n",
      "66. bottin: passage d'Allemagne  -  matched: Passage Charlemagne   (fuzzy 80)\n",
      "67. bottin: r. de l'Ouest  -  matched: Rue de l'Essai   (fuzzy 80)\n",
      "68. bottin: Anjou-St-Honoré  -  matched: Rue Saint Honoré   (fuzzy 80)\n",
      "69. bottin: r. Bolivar  -  matched: Rue Boulard   (fuzzy 80)\n",
      "70. bottin: avenue d'Orléans  -  matched: Avenue Dorian   (fuzzy 80)\n",
      "71. bottin: Dé Laborde  -  matched: Rue de Laborde   (fuzzy 80)\n",
      "72. bottin: Jacques-de-Brosse  -  matched: Rue de Brosse   (fuzzy 80)\n",
      "73. bottin: Grenelle-St-Honore  -  matched: Rue Saint Honoré   (fuzzy 80)\n",
      "74. bottin: Four-St-Germain  -  matched: Boulevard Saint-Germain   (fuzzy 80)\n",
      "75. bottin: r. Steinkerque  -  matched: Rue de Steinkerque   (fuzzy 80)\n",
      "76. bottin: Four-St-Germain  -  matched: Boulevard Saint-Germain   (fuzzy 80)\n",
      "77. bottin: r. Alphonse  -  matched: Rue Alphonse Karr   (fuzzy 80)\n",
      "78. bottin: ſaub. St-Antoine  -  matched: Rue Saint Antoine   (fuzzy 80)\n",
      "79. bottin: r. Pauquet  -  matched: Rue Gauguet   (fuzzy 80)\n",
      "80. bottin: Ste-Anastase  -  matched: Rue Sainte-Anastase   (fuzzy 80)\n",
      "81. bottin: St-Louisen-l'lle  -  matched: Rue Saint-Louis en l'Ile   (fuzzy 80)\n",
      "82. bottin: St Anne  -  matched: Rue Sainte-Anne   (fuzzy 80)\n",
      "83. bottin: r. Croix-Nivert  -  matched: Rue de la Croix Nivert   (fuzzy 80)\n",
      "84. bottin: St-Sébastien  -  matched: Rue Saint Sébastien   (fuzzy 80)\n",
      "85. bottin: av. d'Orléans  -  matched: Avenue Dorian   (fuzzy 80)\n",
      "86. bottin: St-Maur-Popincourt  -  matched: Rue Saint André Popincourt   (fuzzy 80)\n",
      "87. bottin: r. Popincourt  -  matched: Cité Popincourt   (fuzzy 80)\n",
      "88. bottin: r. d'Allemagne  -  matched: Rue Charlemagne   (fuzzy 80)\n",
      "89. bottin: Orléans-St-Marcel  -  matched: Rue Saint Marcel   (fuzzy 80)\n",
      "90. bottin: Payée-St-Sauveur  -  matched: Rue Saint Sauveur   (fuzzy 80)\n",
      "91. bottin: impasse des Feuillantines  -  matched: Rue des Feuillantines   (fuzzy 80)\n",
      "92. bottin: r. Popincourt  -  matched: Cité Popincourt   (fuzzy 80)\n",
      "93. bottin: r. d'Angoulême  -  matched: Cité d'Angoulême   (fuzzy 80)\n",
      "94. bottin: Fontaine-duTemple  -  matched: Rue des Fontaines du Temple   (fuzzy 80)\n",
      "95. bottin: r. de Milan  -  matched: Rue de Macon   (fuzzy 80)\n",
      "96. bottin: passage Tivoli  -  matched: Passage National   (fuzzy 80)\n",
      "97. bottin: rue de Milan  -  matched: Rue de Macon   (fuzzy 80)\n",
      "98. bottin: pass. St-Joseph  -  matched: Passage Saint Roch   (fuzzy 80)\n",
      "99. bottin: r. Popincourt  -  matched: Cité Popincourt   (fuzzy 80)\n",
      "100. bottin: Fg-St-Honoré  -  matched: Rue Saint Honoré   (fuzzy 80)\n"
     ]
    }
   ],
   "source": [
    "print_sample(all_aligned, [\"fuzzy 80\"], 100)"
   ]
  },
  {
   "cell_type": "code",
   "execution_count": 81,
   "metadata": {},
   "outputs": [
    {
     "data": {
      "text/plain": [
       "Text(0.5, 1.0, 'Number of alignment entries (bars)\\nand quality of alignment (line) per method\\n[alignment in order from left to right]')"
      ]
     },
     "execution_count": 81,
     "metadata": {},
     "output_type": "execute_result"
    },
    {
     "data": {
      "image/png": "[encoded data removed]",
      "text/plain": [
       "<Figure size 432x288 with 2 Axes>"
      ]
     },
     "metadata": {
      "needs_background": "light"
     },
     "output_type": "display_data"
    }
   ],
   "source": [
    "alignment_ratios = [1, 1, 1, 1, 0.8, 0.46]\n",
    "df_aligned = {}\n",
    "i=0\n",
    "for key, value in dev_aligned.items():\n",
    "    df_aligned[key] = [value, alignment_ratios[i]]\n",
    "    i+=1\n",
    "statistics = pd.DataFrame.from_dict(df_aligned)\n",
    "statistics.iloc[0].plot(kind='bar')\n",
    "statistics.iloc[1].plot(secondary_y=True, ylim=(0,1.02), rot=90, color=\"red\")\n",
    "plt.title(\"Number of alignment entries (bars)\\nand quality of alignment (line) per method\\n[alignment in order from left to right]\")"
   ]
  },
  {
   "attachments": {},
   "cell_type": "markdown",
   "metadata": {},
   "source": [
    "## Not Aligned Data"
   ]
  },
  {
   "cell_type": "code",
   "execution_count": 43,
   "metadata": {},
   "outputs": [
    {
     "data": {
      "text/plain": [
       "[('Grenelle-St-Germain', 7945),\n",
       " ('Allemagne', 6733),\n",
       " ('Rochechouart', 5863),\n",
       " ('Amsterdam', 5361),\n",
       " ('Paradis-Poissonnière', 4334),\n",
       " ('St-Louis-Marais', 3883),\n",
       " ('Michodière', 3491),\n",
       " ('Pastourelle', 3253),\n",
       " ('Grenétat', 3010),\n",
       " ('Vanves', 2789),\n",
       " ('Vieux-Augustins', 2765),\n",
       " ('Ouest', 2665),\n",
       " ('Castiglione', 2363),\n",
       " ('Fontaine-St-Georges', 2331),\n",
       " ('Chaussée-d’Antin', 2236)]"
      ]
     },
     "execution_count": 43,
     "metadata": {},
     "output_type": "execute_result"
    }
   ],
   "source": [
    "Counter(not_aligned[\"rue\"]).most_common(15)"
   ]
  },
  {
   "cell_type": "code",
   "execution_count": null,
   "metadata": {},
   "outputs": [],
   "source": []
  }
 ],
 "metadata": {
  "kernelspec": {
   "display_name": "base",
   "language": "python",
   "name": "python3"
  },
  "language_info": {
   "codemirror_mode": {
    "name": "ipython",
    "version": 3
   },
   "file_extension": ".py",
   "mimetype": "text/x-python",
   "name": "python",
   "nbconvert_exporter": "python",
   "pygments_lexer": "ipython3",
   "version": "3.8.12"
  },
  "orig_nbformat": 4,
  "vscode": {
   "interpreter": {
    "hash": "098a0dd3104dda9245e32bc4140980e8acec008f0fd7b1a1afbd38055ea17b26"
   }
  }
 },
 "nbformat": 4,
 "nbformat_minor": 2
}
