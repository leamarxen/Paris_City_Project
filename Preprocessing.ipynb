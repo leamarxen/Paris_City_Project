{
 "cells": [
  {
   "cell_type": "markdown",
   "id": "b2247239",
   "metadata": {},
   "source": [
    "# Libraries"
   ]
  },
  {
   "cell_type": "code",
   "execution_count": 76,
   "id": "ebeee2d3",
   "metadata": {},
   "outputs": [
    {
     "name": "stdout",
     "output_type": "stream",
     "text": [
      "Couldn't import ShapelyDeprecationWarning\n"
     ]
    }
   ],
   "source": [
    "import pandas as pd\n",
    "import numpy as np\n",
    "import geopandas as gpd\n",
    "from collections import Counter\n",
    "\n",
    "from preprocessing import preprocess, substitute_col_by_dict\n",
    "\n",
    "import warnings\n",
    "try:\n",
    "    from shapely.errors import ShapelyDeprecationWarning\n",
    "    warnings.filterwarnings(\"ignore\", category=ShapelyDeprecationWarning) \n",
    "except:\n",
    "    print(\"Couldn't import ShapelyDeprecationWarning\")"
   ]
  },
  {
   "cell_type": "markdown",
   "id": "ccd3d2b0",
   "metadata": {},
   "source": [
    "(with help of Paris Opendata dataset)"
   ]
  },
  {
   "cell_type": "markdown",
   "id": "ef176742",
   "metadata": {},
   "source": [
    "# Bottin Data"
   ]
  },
  {
   "cell_type": "code",
   "execution_count": 77,
   "id": "f023ed64",
   "metadata": {},
   "outputs": [],
   "source": [
    "Bottins = pd.read_csv(\"data/strict_addressing.csv\")\n",
    "Bottins[\"Rue\"] = Bottins[\"Rue\"].fillna(\"\")\n",
    "Bottins = preprocess(Bottins, \"Rue\", \"street\")\n",
    "\n",
    "Bottins = Bottins.rename(columns={\"Rue\":\"rue\",\"street\":\"rue_processed\",\"Nom\":\"nom\",\"Métier\":\"metier\",\"Numéro\": \"numero\"})"
   ]
  },
  {
   "cell_type": "code",
   "execution_count": 78,
   "id": "1fc55119",
   "metadata": {},
   "outputs": [
    {
     "data": {
      "text/html": [
       "<div>\n",
       "<style scoped>\n",
       "    .dataframe tbody tr th:only-of-type {\n",
       "        vertical-align: middle;\n",
       "    }\n",
       "\n",
       "    .dataframe tbody tr th {\n",
       "        vertical-align: top;\n",
       "    }\n",
       "\n",
       "    .dataframe thead th {\n",
       "        text-align: right;\n",
       "    }\n",
       "</style>\n",
       "<table border=\"1\" class=\"dataframe\">\n",
       "  <thead>\n",
       "    <tr style=\"text-align: right;\">\n",
       "      <th></th>\n",
       "      <th>Unnamed: 0</th>\n",
       "      <th>page</th>\n",
       "      <th>row</th>\n",
       "      <th>nom</th>\n",
       "      <th>metier</th>\n",
       "      <th>rue</th>\n",
       "      <th>numero</th>\n",
       "      <th>annee</th>\n",
       "      <th>rue_processed</th>\n",
       "    </tr>\n",
       "  </thead>\n",
       "  <tbody>\n",
       "    <tr>\n",
       "      <th>0</th>\n",
       "      <td>bpt6k6282019m</td>\n",
       "      <td>144</td>\n",
       "      <td>0</td>\n",
       "      <td>Aaron</td>\n",
       "      <td>bronzes</td>\n",
       "      <td>passage Choiseal</td>\n",
       "      <td>72 et 74.</td>\n",
       "      <td>1855</td>\n",
       "      <td>passage choiseal</td>\n",
       "    </tr>\n",
       "    <tr>\n",
       "      <th>1</th>\n",
       "      <td>bpt6k6282019m</td>\n",
       "      <td>144</td>\n",
       "      <td>1</td>\n",
       "      <td>Aaron (Mic.)</td>\n",
       "      <td>manuf. de porcelaines</td>\n",
       "      <td>Bondy</td>\n",
       "      <td>30.</td>\n",
       "      <td>1855</td>\n",
       "      <td>bondy</td>\n",
       "    </tr>\n",
       "    <tr>\n",
       "      <th>2</th>\n",
       "      <td>bpt6k6282019m</td>\n",
       "      <td>144</td>\n",
       "      <td>3</td>\n",
       "      <td>Abadie</td>\n",
       "      <td>architecte</td>\n",
       "      <td>Provence</td>\n",
       "      <td>7.</td>\n",
       "      <td>1855</td>\n",
       "      <td>provence</td>\n",
       "    </tr>\n",
       "    <tr>\n",
       "      <th>3</th>\n",
       "      <td>bpt6k6282019m</td>\n",
       "      <td>144</td>\n",
       "      <td>5</td>\n",
       "      <td>Abadie</td>\n",
       "      <td>tabac et estamin.</td>\n",
       "      <td>Ménilmontant</td>\n",
       "      <td>158.</td>\n",
       "      <td>1855</td>\n",
       "      <td>menilmontant</td>\n",
       "    </tr>\n",
       "    <tr>\n",
       "      <th>4</th>\n",
       "      <td>bpt6k6282019m</td>\n",
       "      <td>144</td>\n",
       "      <td>6</td>\n",
       "      <td>Abanse</td>\n",
       "      <td>instituteur</td>\n",
       "      <td>Sts-Pères</td>\n",
       "      <td>30.</td>\n",
       "      <td>1855</td>\n",
       "      <td>sts peres</td>\n",
       "    </tr>\n",
       "    <tr>\n",
       "      <th>5</th>\n",
       "      <td>bpt6k6282019m</td>\n",
       "      <td>144</td>\n",
       "      <td>7</td>\n",
       "      <td>Abat</td>\n",
       "      <td>rentier</td>\n",
       "      <td>Isly</td>\n",
       "      <td>10.</td>\n",
       "      <td>1855</td>\n",
       "      <td>isly</td>\n",
       "    </tr>\n",
       "    <tr>\n",
       "      <th>6</th>\n",
       "      <td>bpt6k6282019m</td>\n",
       "      <td>144</td>\n",
       "      <td>13</td>\n",
       "      <td>Abault et Coudray</td>\n",
       "      <td>charpentiers</td>\n",
       "      <td>Corbeau</td>\n",
       "      <td>23.</td>\n",
       "      <td>1855</td>\n",
       "      <td>corbeau</td>\n",
       "    </tr>\n",
       "    <tr>\n",
       "      <th>7</th>\n",
       "      <td>bpt6k6282019m</td>\n",
       "      <td>144</td>\n",
       "      <td>14</td>\n",
       "      <td>Abault (Paul)</td>\n",
       "      <td>libraire</td>\n",
       "      <td>quai des Angustins</td>\n",
       "      <td>9.</td>\n",
       "      <td>1855</td>\n",
       "      <td>quai des angustins</td>\n",
       "    </tr>\n",
       "    <tr>\n",
       "      <th>8</th>\n",
       "      <td>bpt6k6282019m</td>\n",
       "      <td>144</td>\n",
       "      <td>15</td>\n",
       "      <td>Abavid</td>\n",
       "      <td>vins</td>\n",
       "      <td>Beaujolais-da-Temple</td>\n",
       "      <td>7.</td>\n",
       "      <td>1855</td>\n",
       "      <td>beaujolais da temple</td>\n",
       "    </tr>\n",
       "    <tr>\n",
       "      <th>9</th>\n",
       "      <td>bpt6k6282019m</td>\n",
       "      <td>144</td>\n",
       "      <td>16</td>\n",
       "      <td>Abazaer (Are)</td>\n",
       "      <td>cristaux et porcelaines</td>\n",
       "      <td>Pei.Ecuries</td>\n",
       "      <td>26.</td>\n",
       "      <td>1855</td>\n",
       "      <td>pei.ecuries</td>\n",
       "    </tr>\n",
       "  </tbody>\n",
       "</table>\n",
       "</div>"
      ],
      "text/plain": [
       "      Unnamed: 0  page  row                nom                   metier  \\\n",
       "0  bpt6k6282019m   144    0              Aaron                  bronzes   \n",
       "1  bpt6k6282019m   144    1       Aaron (Mic.)    manuf. de porcelaines   \n",
       "2  bpt6k6282019m   144    3             Abadie               architecte   \n",
       "3  bpt6k6282019m   144    5             Abadie        tabac et estamin.   \n",
       "4  bpt6k6282019m   144    6             Abanse              instituteur   \n",
       "5  bpt6k6282019m   144    7               Abat                  rentier   \n",
       "6  bpt6k6282019m   144   13  Abault et Coudray             charpentiers   \n",
       "7  bpt6k6282019m   144   14      Abault (Paul)                 libraire   \n",
       "8  bpt6k6282019m   144   15             Abavid                     vins   \n",
       "9  bpt6k6282019m   144   16      Abazaer (Are)  cristaux et porcelaines   \n",
       "\n",
       "                    rue     numero  annee         rue_processed  \n",
       "0      passage Choiseal  72 et 74.   1855      passage choiseal  \n",
       "1                 Bondy        30.   1855                 bondy  \n",
       "2              Provence         7.   1855              provence  \n",
       "3          Ménilmontant       158.   1855          menilmontant  \n",
       "4             Sts-Pères        30.   1855             sts peres  \n",
       "5                  Isly        10.   1855                  isly  \n",
       "6               Corbeau        23.   1855               corbeau  \n",
       "7    quai des Angustins         9.   1855    quai des angustins  \n",
       "8  Beaujolais-da-Temple         7.   1855  beaujolais da temple  \n",
       "9           Pei.Ecuries        26.   1855           pei.ecuries  "
      ]
     },
     "execution_count": 78,
     "metadata": {},
     "output_type": "execute_result"
    }
   ],
   "source": [
    "Bottins.head(10)"
   ]
  },
  {
   "cell_type": "markdown",
   "id": "ff370b0d",
   "metadata": {},
   "source": [
    "## prefix substitution"
   ]
  },
  {
   "cell_type": "markdown",
   "id": "c3fe9e04",
   "metadata": {},
   "source": [
    "#### create a prefix dictionary \n"
   ]
  },
  {
   "cell_type": "code",
   "execution_count": 79,
   "id": "57bbb55f",
   "metadata": {},
   "outputs": [],
   "source": [
    "#import the paris opendata dataset\n",
    "voies_raw = pd.read_csv(\"data/opendata_voie_paris.csv\", sep=\";\")\n",
    "#keep only columns that might be useful further on\n",
    "voies = voies_raw.copy()[[\"N_SQ_VO\", \"L_VOIE\", \"L_COURTMIN\", \"L_LONGMIN\", \"Geometry\"]]\n",
    "voies.rename(columns = {'N_SQ_VO':'id2022'}, inplace = True)\n",
    "\n",
    "#apply preprocessing to voies\n",
    "#three different names for the streetnames\n",
    "#example: L_VOIE: Malmaisons; L_COURTMIN: R. des Malmaisons; L_LONGMIN: Rue des Malmaisons\n",
    "voies = preprocess(voies, \"L_VOIE\", new_colname=\"street_short\")\n",
    "voies = preprocess(voies, \"L_COURTMIN\", new_colname=\"street_abbr\")\n",
    "voies = preprocess(voies, \"L_LONGMIN\", new_colname=\"street_long\")"
   ]
  },
  {
   "cell_type": "code",
   "execution_count": 80,
   "id": "76219d30",
   "metadata": {},
   "outputs": [],
   "source": [
    "#compute prefix dictionary with help of voies data\n",
    "def get_prefix(row, court, long):\n",
    "    '''\n",
    "    Takes a row of a dataframe and returns the difference between the entries of the columns\n",
    "    \"long\" and \"court\".\n",
    "\n",
    "    Parameters:\n",
    "    ----------------\n",
    "    :row: row (with column names) of a dataframe\n",
    "    :court: string\n",
    "        name of column with shorter entry (has to coincide with end of string of column \"long\")\n",
    "    :long: string\n",
    "        name of column with longer entry\n",
    "\n",
    "    Returns:\n",
    "    -----------------\n",
    "    string of difference between court and long entry of row\n",
    "    '''\n",
    "    return row[long].split(row[court])[0]\n",
    "\n",
    "# get prefixes, both abbreviated and long versions\n",
    "voies[\"prefix_court\"] = voies.apply(get_prefix, args=(\"street_short\", \"street_abbr\"), axis=1)\n",
    "voies[\"prefix_long\"] = voies.apply(get_prefix, args=(\"street_short\", \"street_long\"), axis=1)\n",
    "# candidate dictionary of all the prefixes\n",
    "prefix_candidates = dict(zip(voies[\"prefix_court\"], voies[\"prefix_long\"]))\n",
    "# only get prefixes with . in it (otherwise would risk to get part of a name, not type of street)\n",
    "prefix_dict = {key.split(\" \")[0]:value.split(\" \")[0] for key,value in prefix_candidates.items() if \".\" in key}\n",
    "\n",
    "# add prefixes by hand (after look into data)\n",
    "prefix_dict[\"boul.\"] = \"boulevard\"\n",
    "prefix_dict[\"boulev.\"] = \"boulevard\"\n",
    "prefix_dict[\"boulv.\"] = \"boulevard\"\n",
    "prefix_dict[\"q.\"] = \"quai\"\n",
    "prefix_dict[\"aven.\"] = \"avenue\"\n",
    "prefix_dict[\"faub.\"] = \"faubourg\"\n",
    "prefix_dict[\"fau.\"] = \"faubourg\"\n",
    "prefix_dict[\"st.\"] =  \"saint\"\n",
    "prefix_dict[\"impas.\"] = \"impasse\"\n",
    "prefix_dict[\"l'aub.\"] = \"l'auberge\"\n",
    "prefix_dict[\"laub\"] = \"l'auberge\"\n",
    "prefix_dict[\"st\"] = \"saint\"\n",
    "prefix_dict[\"ste\"] = \"sainte\"\n",
    "prefix_dict[\"sts\"] = \"saints\"\n",
    "prefix_dict[\"nve\"] = \"neuve\""
   ]
  },
  {
   "cell_type": "code",
   "execution_count": 81,
   "id": "95371152",
   "metadata": {},
   "outputs": [
    {
     "name": "stdout",
     "output_type": "stream",
     "text": [
      "('r.', 'rue')\n",
      "('sq.', 'square')\n",
      "('pl.', 'place')\n",
      "('av.', 'avenue')\n",
      "('imp.', 'impasse')\n",
      "('all.', 'allee')\n",
      "('pas.', 'passage')\n",
      "('ham.', 'hameau')\n",
      "('vla.', 'villa')\n",
      "('terr.', 'terrasse')\n",
      "('rte.', 'route')\n"
     ]
    }
   ],
   "source": [
    "#take a look at the first entries of the dictionary\n",
    "for i, item in enumerate(prefix_dict.items()):\n",
    "    print(item)\n",
    "    if i>9:\n",
    "        break"
   ]
  },
  {
   "cell_type": "markdown",
   "id": "eab6888a",
   "metadata": {},
   "source": [
    "#### substitute prefixes"
   ]
  },
  {
   "cell_type": "code",
   "execution_count": 82,
   "id": "ba628a94",
   "metadata": {},
   "outputs": [
    {
     "name": "stdout",
     "output_type": "stream",
     "text": [
      "#abbr. in data before dict substitution: 1544991\n",
      "#abbr. in data after dict substitution: 106824\n"
     ]
    }
   ],
   "source": [
    "# get number of abbreviations before substitution\n",
    "print(\"#abbr. in data before dict substitution:\", len([street for street in list(Bottins[\"rue_processed\"]) if \".\" in street]))\n",
    "# substitute abbreviations in bottin data\n",
    "Bottins[\"rue_processed\"] = substitute_col_by_dict(Bottins[\"rue_processed\"], prefix_dict)\n",
    "# see how many abbreviations are left\n",
    "print(\"#abbr. in data after dict substitution:\", len([street for street in list(Bottins[\"rue_processed\"]) if \".\" in street]))"
   ]
  },
  {
   "cell_type": "markdown",
   "id": "ff370b0d",
   "metadata": {},
   "source": [
    "## manual substitution"
   ]
  },
  {
   "cell_type": "markdown",
   "id": "c5c62d24",
   "metadata": {},
   "source": [
    "#### create manual dictionary"
   ]
  },
  {
   "cell_type": "code",
   "execution_count": 83,
   "id": "5b8fb763",
   "metadata": {},
   "outputs": [],
   "source": [
    "#closer look into data -> substitute more abbreviations\n",
    "manual_substitution = { \n",
    "\n",
    "\n",
    "                \"alle. magne\": \"allemagne\",\n",
    "                \"ams. terdam\": \"amsterdam\",\n",
    "                \"av.\": \"avenue \",\n",
    "                \"av.de\": \"avenue de \",\n",
    "                \"ay.\": \"avenue\",\n",
    "                \"b. beaumarchais\": \"boulevard beaumarchais\",\n",
    "                \"b. bonne nouv.\": \"boulevard bonne nouvelle\",\n",
    "                \"b. bonne nouvelle\": \"boulevard bonne nouvelle\",\n",
    "                \"b. bonne. nouvelle\": \"boulevard bonne nouvelle\",\n",
    "                \"b. du temple\": \"boulevard du temple\",\n",
    "                \"b. poissonniere\": \"boulevard poissonniere\",\n",
    "                \"boul. \": \"boulevard \",\n",
    "                \"boul.\": \"boulevard \",\n",
    "                \"boul.\": \"boulevard \",\n",
    "                \"boul.de \": \"boulevard de \",\n",
    "                \"bouley. \": \"boulevard\",\n",
    "                \"bouly.\": \"boulevard\",\n",
    "                \"bourb. villeneuve\": \"rue bourbon villeneuve\",\n",
    "                \"bourbon villen.\": \"rue bourbon villeneuve\",\n",
    "                \"bretonn.\": \"bretonnerie\",\n",
    "                \"carref. \": \"carrefour \",\n",
    "                \"ch. d'antin\": \"rue de la chaussee d'antin\",\n",
    "                \"chauss.\": \"chaussee \",\n",
    "                \"chaussee d'antin\": \"rue de la chaussee d'antin\",\n",
    "                \"chaussee.\": \"chaussee\",\n",
    "                \"che. min\": \"chemin\",\n",
    "                \"cherche midi\": \"rue du cherche midi\",\n",
    "                \"cherche. midi\": \"rue du cherche midi\",\n",
    "                \"dame de\": \"damede \",\n",
    "                \"dame.\": \"dame\",\n",
    "                \"denazareth\": \"de nazareth\",\n",
    "                \"dutemple\": \"du temple\",\n",
    "                \"echi. quier\": \"rue de l'echiquier\",\n",
    "                \"ecole de med.\": \"rue de l'ecole de medecine\",\n",
    "                \"eglise.\": \"eglise\",\n",
    "                \"f. du temple\": \"faubourg du temple\",\n",
    "                \"f. montmartre\": \"faubourg montmartre\",\n",
    "                \"f. poissoniere\": \"faubourg poissoniere\",\n",
    "                \"f. poissonniere\": \"faubourg poissonniere\",\n",
    "                \"f. saint \": \"faubourg saint\",\n",
    "                \"faab. \" : \"faubourg\",\n",
    "                \"fanb. \": \"faubourg\",\n",
    "                \"faub \": \"faubourg\",\n",
    "                \"faub.. \": \"faubourg\",\n",
    "                \"faub..\": \"faubourg \",\n",
    "                \"faub..du\": \"faubourg du \",\n",
    "                \"faub.\": \"faubourg \",\n",
    "                \"faub.\": \"faubourg \",\n",
    "                \"faub.du \": \"faubourg du \",\n",
    "                \"faub.montmartre\": \"faubourg montmartre\",\n",
    "                \"faub.poissonniere\": \"faubourg poissonniere\",\n",
    "                \"faub.st.\": \"faubourg saint\",\n",
    "                \"faub.st\": \"faubourg saint\",\n",
    "                \"faub).\": \"faubourg\",\n",
    "                \"faubourg du. temple\": \"rue du faubourg du temple\",\n",
    "                \"faubourg saint an. toine\": \"rue du faubourg saint antoine\",\n",
    "                \"faubourg saint ant.\": \"rue du faubourg saint antoine\",\n",
    "                \"faubourg. \": \"faubourg\",\n",
    "                \"faubourg..\": \"faubourg\",\n",
    "                \"faubourg.\": \"faubourg\",\n",
    "                \"faubourg.du\": \"faubourg du\",\n",
    "                \"faubourgdu.\": \"faubourg du \",\n",
    "                \"fauh. \": \"faubourg\",\n",
    "                \"fauh.. \": \"faubourg \",\n",
    "                \"fauh.\": \"faubourg \",\n",
    "                \"faul.\": \"faubourg \",\n",
    "                \"faul).\": \"faubourg\",\n",
    "                \"fb. \": \"faubourg\",\n",
    "                \"fd. poissonniere\": \"faubourg poissoniere\",\n",
    "                \"germain l'aux.\": \"germain l\\'auxerrois\",\n",
    "                \"grande.\": \"grande\",\n",
    "                \"haub. \": \"faubourg\",\n",
    "                \"hauss. mann\": \"haussmann\",\n",
    "                \"houl. \": \"boulevard \",\n",
    "                \"impass. \": \"impasse\",\n",
    "                \"j j. rousseau\": \"jean jaques rousseau\",\n",
    "                \"j. j rousseau\": \"jean jaques rousseau\",\n",
    "                \"j. j.   rousseau\": \"jean jaques rousseau\",\n",
    "                \"j. j.  rousseau\": \"jean jaques rousseau\",\n",
    "                \"j. j. pousseau\": \"jean jaques rousseau\",\n",
    "                \"j. j. r\": \"jean jaques rousseau\", \n",
    "                \"j. j. rousseau\": \"jean jaques rousseau\",\n",
    "                \"j. j.. rousseau\": \"jean jaques rousseau\",\n",
    "                \"j. j.rousseau\": \"jean jaques rousseau\",\n",
    "                \"j.j. rousseau\": \"jean jaques rousseau\",\n",
    "                \"lafayette\": \"la fayette\",\n",
    "                \"laub. \": \"faubourg \",\n",
    "                \"le. compte\": \"le compte\",\n",
    "                \"m. le prince\": \"rue monsieur le prince\",\n",
    "                \"ma. genta\": \"magenta\",\n",
    "                \"mar| tin\": \"martin\",\n",
    "                \"meri. court\": \"mericourt\",\n",
    "                \"mons. le prince\": \"rue monsieur le prince\",\n",
    "                \"mont. martre\": \"montmartre\",\n",
    "                \"montagne sainte gen.\": \"rue de la montagne sainte genevieve\",\n",
    "                \"montm.\": \"montmartre\",\n",
    "                \"montmar. tre\": \"montmartre\",\n",
    "                \"montmart.\": \"montmartre\",\n",
    "                \"n. d \": \"notre dame\",\n",
    "                \"n. d.\":\"notre dame\",\n",
    "                \"n. da\": \"notre da\",\n",
    "                \"n. de nazareth\": \"notre dame de nazareth\",\n",
    "                \"n.d.\": \"notre dame\",\n",
    "                \"naza. reth\": \"nazareth\",\n",
    "                \"neuve. des petits champs\": \"rue neuve des petits champs\",\n",
    "                \"notre d. de\": \"notre dame de\",\n",
    "                \"notre damede naza. reth\": \"rue notre dame de nazareth\",\n",
    "                \"pass.du\": \"passage du\",\n",
    "                \"pe. tits\": \"petits\",\n",
    "                \"pet. champs\": \"petits champs\",\n",
    "                \"pet. ecuries\":\"petites ecuries\",\n",
    "                \"petites.\": \"petites \",\n",
    "                \"petitesecuries\": \"petites ecuries\",\n",
    "                \"petits.\": \"petits\",\n",
    "                \"petitschamps\": \"petits champs\",\n",
    "                \"pois. sonniere\": \"poissonniere\",\n",
    "                \"poiss.\": \"poissonniere\",\n",
    "                \"poissonn.\": \"poissonniere\",\n",
    "                \"r.de\": \"rue de\",\n",
    "                \"r.des\": \"rue des\",\n",
    "                \"r.du \": \"rue du \",\n",
    "                \"r.st\": \"rue saint\",\n",
    "                \"rambu. teau\": \"rambouteau\",\n",
    "                \"riche. lieu\": \"richelieu\",\n",
    "                \"rue de vaugi. rard\": \"rue de vaugirard\",\n",
    "                \"saint ant.\": \"saint antoine\",\n",
    "                \"saint g. \": \"saint germain\",\n",
    "                \"saint g.\": \"saint germain\",\n",
    "                \"saint germ.\": \"saint germain\",\n",
    "                \"saint hon.\": \"saint honore\",\n",
    "                \"saintgerm.\": \"saint germain\",\n",
    "                \"saints. peres\": \"rue des saints peres\",\n",
    "                \"se. basaintopol\": \"sebastopol\",\n",
    "                \"sebas. topol\": \"sebastopol\",\n",
    "                \"st.honore\": \"saint honore\",\n",
    "                \"stdenis\": \"saint denis\",\n",
    "                \"stgermain\": \"saint germain\",\n",
    "                \"sthonore\": \"saint honore\",\n",
    "                \"stmartin\": \"saint martin\",\n",
    "                \"stmichel\": \"saint michel\",\n",
    "                \"stras. bourg\": \"strassbourg\",\n",
    "                \"taub. \": \"faubourg\",\n",
    "                \"tem. ple\": \"temple\",\n",
    "                \"vaugi. rard\": \"vaugirard\",\n",
    "                \"vi. vienne\": \"vivienne\",\n",
    "                \"vil. lette\": \"villette\",\n",
    "                \"vol. taire\": \"voltaire\",\n",
    "                \"n.  d. de\": \"notre dame de\",\n",
    "                \"b. poissonniere\": \"boulevard poissonniere\",\n",
    "                \"ri. voli\": \"rue de rivoli\",\n",
    "                \"croix des petits ch.\": \"rue croix des petits champs\",\n",
    "                \"males. herbes\": \"malesherbes\",\n",
    "                \"poisson. niere\": \"poissonniere\",\n",
    "                \"rous. seau\": \"rousseau\",\n",
    "                \"monsieur le. prince\": \"monsieur le prince\",\n",
    "                }\n"
   ]
  },
  {
   "cell_type": "markdown",
   "id": "22787f8b",
   "metadata": {},
   "source": [
    "#### substitute"
   ]
  },
  {
   "cell_type": "code",
   "execution_count": 84,
   "id": "50c1e44e",
   "metadata": {},
   "outputs": [
    {
     "name": "stdout",
     "output_type": "stream",
     "text": [
      "#abbr. in data after dict substitution: 49074\n"
     ]
    }
   ],
   "source": [
    "# substitute abbreviations\n",
    "Bottins[\"rue_processed\"] = substitute_col_by_dict(Bottins[\"rue_processed\"], manual_substitution)\n",
    "print(\"#abbr. in data after dict substitution:\", len([street for street in list(Bottins[\"rue_processed\"]) if \".\" in street]))"
   ]
  },
  {
   "cell_type": "markdown",
   "id": "96490796",
   "metadata": {},
   "source": [
    "#### show streets with remaining prefixes"
   ]
  },
  {
   "cell_type": "code",
   "execution_count": 85,
   "id": "a09c5e9d",
   "metadata": {},
   "outputs": [
    {
     "data": {
      "text/plain": [
       "[('gren. saint germain', 128),\n",
       " ('boulevard de saintras. bourg', 80),\n",
       " ('grenelle saint h.', 64),\n",
       " (\"fosses saint germain l'aux.\", 60),\n",
       " ('paradis. poissonniere', 58),\n",
       " ('grenelle. saint germain', 48),\n",
       " ('ferme des math.', 46),\n",
       " ('angouleme du t.', 43),\n",
       " ('michel le. comte', 43),\n",
       " ('saint domin. saint germain', 40)]"
      ]
     },
     "execution_count": 85,
     "metadata": {},
     "output_type": "execute_result"
    }
   ],
   "source": [
    "#print most common abbreviations which are left\n",
    "Counter([x for x in Bottins[\"rue_processed\"] if \".\" in x]).most_common(10)"
   ]
  },
  {
   "cell_type": "code",
   "execution_count": 89,
   "id": "5d8b72ab",
   "metadata": {},
   "outputs": [
    {
     "data": {
      "text/plain": [
       "Counter({'10.  a lyon. notre damede s victoires': 1, 'faab  tempie': 1})"
      ]
     },
     "execution_count": 89,
     "metadata": {},
     "output_type": "execute_result"
    }
   ],
   "source": [
    "#replace double spaces with one space\n",
    "Bottins[\"rue_processed\"] = Bottins[\"rue_processed\"].str.replace(\"  \", \" \", regex=True)\n",
    "\n",
    "#check if there are double spaces left\n",
    "Counter([x for x in Bottins[\"rue_processed\"] if \"  \" in x])"
   ]
  },
  {
   "cell_type": "markdown",
   "id": "c19de807",
   "metadata": {},
   "source": [
    "## Save preprocessed datasets"
   ]
  },
  {
   "cell_type": "code",
   "execution_count": 90,
   "id": "332c3326",
   "metadata": {},
   "outputs": [],
   "source": [
    "Bottins.to_pickle(\"data/bottins_prep.pkl\")"
   ]
  }
 ],
 "metadata": {
  "kernelspec": {
   "display_name": "Python 3.10.6 ('paris')",
   "language": "python",
   "name": "python3"
  },
  "language_info": {
   "codemirror_mode": {
    "name": "ipython",
    "version": 3
   },
   "file_extension": ".py",
   "mimetype": "text/x-python",
   "name": "python",
   "nbconvert_exporter": "python",
   "pygments_lexer": "ipython3",
   "version": "3.10.6"
  },
  "vscode": {
   "interpreter": {
    "hash": "7c2682987f00c8c803475925d827e887daeba32793bd1ae3ff6e12f2969d73b4"
   }
  }
 },
 "nbformat": 4,
 "nbformat_minor": 5
}
