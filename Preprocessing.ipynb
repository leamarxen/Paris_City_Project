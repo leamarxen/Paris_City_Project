{
 "cells": [
  {
   "cell_type": "markdown",
   "id": "b2247239",
   "metadata": {},
   "source": [
    "# Libraries"
   ]
  },
  {
   "cell_type": "code",
   "execution_count": null,
   "id": "ebeee2d3",
   "metadata": {},
   "outputs": [],
   "source": [
    "import pandas as pd\n",
    "import numpy as np\n",
    "import geopandas as gpd\n",
    "from collections import Counter\n",
    "\n",
    "from preprocessing import preprocess, substitute_col_by_dict\n",
    "\n",
    "import warnings\n",
    "try:\n",
    "    from shapely.errors import ShapelyDeprecationWarning\n",
    "    warnings.filterwarnings(\"ignore\", category=ShapelyDeprecationWarning) \n",
    "except:\n",
    "    print(\"Couldn't import ShapelyDeprecationWarning\")"
   ]
  },
  {
   "cell_type": "code",
   "execution_count": null,
   "id": "c082cf37",
   "metadata": {},
   "outputs": [],
   "source": [
    "# set variable to True if you want to use dataset with profession tags (preprocessed with parts of Ravis Code)\n",
    "USE_TAGGED_DATASET = True"
   ]
  },
  {
   "cell_type": "markdown",
   "id": "ccd3d2b0",
   "metadata": {},
   "source": [
    "(with help of Paris Opendata dataset)"
   ]
  },
  {
   "cell_type": "markdown",
   "id": "ef176742",
   "metadata": {},
   "source": [
    "# Bottin Data"
   ]
  },
  {
   "cell_type": "code",
   "execution_count": null,
   "id": "f023ed64",
   "metadata": {},
   "outputs": [],
   "source": [
    "if USE_TAGGED_DATASET:\n",
    "    Bottins = pd.read_csv(\"Enriching-RICH-Data-main/data/outcome_of_current_project/paris_jobs_with_tags_richelieu_project.csv\")\n",
    "    Bottins[\"rue\"] = Bottins[\"rue\"].fillna(\"\")\n",
    "    Bottins = preprocess(Bottins, \"rue\", \"street\")\n",
    "    Bottins = Bottins.rename(columns={\"street\":\"rue_processed\",\n",
    "        \"name\":\"nom\",\"métier_from_ocr\":\"metier\",\"numéro\": \"numero\"})\n",
    "else:\n",
    "    Bottins = pd.read_csv(\"data/strict_addressing.csv\")\n",
    "    Bottins[\"Rue\"] = Bottins[\"Rue\"].fillna(\"\")\n",
    "    Bottins = preprocess(Bottins, \"Rue\", \"street\")\n",
    "    Bottins = Bottins.rename(columns={\"Rue\":\"rue\",\"street\":\"rue_processed\",\n",
    "        \"Nom\":\"nom\",\"Métier\":\"metier\",\"Numéro\": \"numero\", \"Unnamed: 0\":\"gallica_ark\"})"
   ]
  },
  {
   "cell_type": "markdown",
   "id": "ff370b0d",
   "metadata": {},
   "source": [
    "## prefix substitution"
   ]
  },
  {
   "cell_type": "markdown",
   "id": "c3fe9e04",
   "metadata": {},
   "source": [
    "#### create a prefix dictionary \n"
   ]
  },
  {
   "cell_type": "code",
   "execution_count": null,
   "id": "57bbb55f",
   "metadata": {},
   "outputs": [],
   "source": [
    "#import the paris opendata dataset\n",
    "voies_raw = pd.read_csv(\"data/opendata_voie_paris.csv\", sep=\";\")\n",
    "#keep only columns that might be useful further on\n",
    "voies = voies_raw.copy()[[\"N_SQ_VO\", \"L_VOIE\", \"L_COURTMIN\", \"L_LONGMIN\", \"Geometry\"]]\n",
    "voies.rename(columns = {'N_SQ_VO':'id2022'}, inplace = True)\n",
    "\n",
    "#apply preprocessing to voies\n",
    "#three different names for the streetnames\n",
    "#example: L_VOIE: Malmaisons; L_COURTMIN: R. des Malmaisons; L_LONGMIN: Rue des Malmaisons\n",
    "voies = preprocess(voies, \"L_VOIE\", new_colname=\"street_short\")\n",
    "voies = preprocess(voies, \"L_COURTMIN\", new_colname=\"street_abbr\")\n",
    "voies = preprocess(voies, \"L_LONGMIN\", new_colname=\"street_long\")"
   ]
  },
  {
   "cell_type": "code",
   "execution_count": null,
   "id": "76219d30",
   "metadata": {},
   "outputs": [],
   "source": [
    "#compute prefix dictionary with help of voies data\n",
    "def get_prefix(row, court, long):\n",
    "    '''\n",
    "    Takes a row of a dataframe and returns the difference between the entries of the columns\n",
    "    \"long\" and \"court\".\n",
    "\n",
    "    Parameters:\n",
    "    ----------------\n",
    "    :row: row (with column names) of a dataframe\n",
    "    :court: string\n",
    "        name of column with shorter entry (has to coincide with end of string of column \"long\")\n",
    "    :long: string\n",
    "        name of column with longer entry\n",
    "\n",
    "    Returns:\n",
    "    -----------------\n",
    "    string of difference between court and long entry of row\n",
    "    '''\n",
    "    return row[long].split(row[court])[0]\n",
    "\n",
    "# get prefixes, both abbreviated and long versions\n",
    "voies[\"prefix_court\"] = voies.apply(get_prefix, args=(\"street_short\", \"street_abbr\"), axis=1)\n",
    "voies[\"prefix_long\"] = voies.apply(get_prefix, args=(\"street_short\", \"street_long\"), axis=1)\n",
    "# candidate dictionary of all the prefixes\n",
    "prefix_candidates = dict(zip(voies[\"prefix_court\"], voies[\"prefix_long\"]))\n",
    "# only get prefixes with . in it (otherwise would risk to get part of a name, not type of street)\n",
    "prefix_dict = {key.split(\" \")[0]:value.split(\" \")[0] for key,value in prefix_candidates.items() if \".\" in key}\n",
    "\n",
    "# add prefixes by hand (after look into data)\n",
    "prefix_dict[\"boul.\"] = \"boulevard\"\n",
    "prefix_dict[\"boulev.\"] = \"boulevard\"\n",
    "prefix_dict[\"boulv.\"] = \"boulevard\"\n",
    "prefix_dict[\"q.\"] = \"quai\"\n",
    "prefix_dict[\"aven.\"] = \"avenue\"\n",
    "prefix_dict[\"faub.\"] = \"faubourg\"\n",
    "prefix_dict[\"fau.\"] = \"faubourg\"\n",
    "prefix_dict[\"st.\"] =  \"saint\"\n",
    "prefix_dict[\"impas.\"] = \"impasse\"\n",
    "prefix_dict[\"l'aub.\"] = \"l'auberge\"\n",
    "prefix_dict[\"laub\"] = \"l'auberge\"\n",
    "prefix_dict[\"st\"] = \"saint\"\n",
    "prefix_dict[\"ste\"] = \"sainte\"\n",
    "prefix_dict[\"sts\"] = \"saints\"\n",
    "prefix_dict[\"nve\"] = \"neuve\""
   ]
  },
  {
   "cell_type": "code",
   "execution_count": null,
   "id": "95371152",
   "metadata": {},
   "outputs": [],
   "source": [
    "#take a look at the first entries of the dictionary\n",
    "for i, item in enumerate(prefix_dict.items()):\n",
    "    print(item)\n",
    "    if i>9:\n",
    "        break"
   ]
  },
  {
   "cell_type": "markdown",
   "id": "eab6888a",
   "metadata": {},
   "source": [
    "#### substitute prefixes"
   ]
  },
  {
   "cell_type": "code",
   "execution_count": null,
   "id": "ba628a94",
   "metadata": {},
   "outputs": [],
   "source": [
    "# get number of abbreviations before substitution\n",
    "print(\"#abbr. in data before dict substitution:\", len([street for street in list(Bottins[\"rue_processed\"]) if \".\" in street]))\n",
    "# substitute abbreviations in bottin data\n",
    "Bottins[\"rue_processed\"] = substitute_col_by_dict(Bottins[\"rue_processed\"], prefix_dict)\n",
    "# see how many abbreviations are left\n",
    "print(\"#abbr. in data after dict substitution:\", len([street for street in list(Bottins[\"rue_processed\"]) if \".\" in street]))"
   ]
  },
  {
   "cell_type": "markdown",
   "id": "ff370b0d",
   "metadata": {},
   "source": [
    "## manual substitution"
   ]
  },
  {
   "cell_type": "markdown",
   "id": "c5c62d24",
   "metadata": {},
   "source": [
    "#### create manual dictionary"
   ]
  },
  {
   "cell_type": "code",
   "execution_count": null,
   "id": "5b8fb763",
   "metadata": {},
   "outputs": [],
   "source": [
    "#closer look into data -> substitute more abbreviations\n",
    "manual_substitution = { \n",
    "\n",
    "\n",
    "                \"alle. magne\": \"allemagne\",\n",
    "                \"ams. terdam\": \"amsterdam\",\n",
    "                \"av.\": \"avenue \",\n",
    "                \"av.de\": \"avenue de \",\n",
    "                \"ay.\": \"avenue\",\n",
    "                \"b. beaumarchais\": \"boulevard beaumarchais\",\n",
    "                \"b. bonne nouv.\": \"boulevard bonne nouvelle\",\n",
    "                \"b. bonne nouvelle\": \"boulevard bonne nouvelle\",\n",
    "                \"b. bonne. nouvelle\": \"boulevard bonne nouvelle\",\n",
    "                \"b. du temple\": \"boulevard du temple\",\n",
    "                \"b. poissonniere\": \"boulevard poissonniere\",\n",
    "                \"boul. \": \"boulevard \",\n",
    "                \"boul.\": \"boulevard \",\n",
    "                \"boul.\": \"boulevard \",\n",
    "                \"boul.de \": \"boulevard de \",\n",
    "                \"bouley. \": \"boulevard\",\n",
    "                \"bouly.\": \"boulevard\",\n",
    "                \"bourb. villeneuve\": \"rue bourbon villeneuve\",\n",
    "                \"bourbon villen.\": \"rue bourbon villeneuve\",\n",
    "                \"bretonn.\": \"bretonnerie\",\n",
    "                \"carref. \": \"carrefour \",\n",
    "                \"ch. d'antin\": \"rue de la chaussee d'antin\",\n",
    "                \"chauss.\": \"chaussee \",\n",
    "                \"chaussee d'antin\": \"rue de la chaussee d'antin\",\n",
    "                \"chaussee.\": \"chaussee\",\n",
    "                \"che. min\": \"chemin\",\n",
    "                \"cherche midi\": \"rue du cherche midi\",\n",
    "                \"cherche. midi\": \"rue du cherche midi\",\n",
    "                \"dame de\": \"damede \",\n",
    "                \"dame.\": \"dame\",\n",
    "                \"denazareth\": \"de nazareth\",\n",
    "                \"dutemple\": \"du temple\",\n",
    "                \"echi. quier\": \"rue de l'echiquier\",\n",
    "                \"ecole de med.\": \"rue de l'ecole de medecine\",\n",
    "                \"eglise.\": \"eglise\",\n",
    "                \"f. du temple\": \"faubourg du temple\",\n",
    "                \"f. montmartre\": \"faubourg montmartre\",\n",
    "                \"f. poissoniere\": \"faubourg poissoniere\",\n",
    "                \"f. poissonniere\": \"faubourg poissonniere\",\n",
    "                \"f. saint \": \"faubourg saint\",\n",
    "                \"faab. \" : \"faubourg\",\n",
    "                \"fanb. \": \"faubourg\",\n",
    "                \"faub \": \"faubourg\",\n",
    "                \"faub.. \": \"faubourg\",\n",
    "                \"faub..\": \"faubourg \",\n",
    "                \"faub..du\": \"faubourg du \",\n",
    "                \"faub.\": \"faubourg \",\n",
    "                \"faub.\": \"faubourg \",\n",
    "                \"faub.du \": \"faubourg du \",\n",
    "                \"faub.montmartre\": \"faubourg montmartre\",\n",
    "                \"faub.poissonniere\": \"faubourg poissonniere\",\n",
    "                \"faub.st.\": \"faubourg saint\",\n",
    "                \"faub.st\": \"faubourg saint\",\n",
    "                \"faub).\": \"faubourg\",\n",
    "                \"faubourg du. temple\": \"rue du faubourg du temple\",\n",
    "                \"faubourg saint an. toine\": \"rue du faubourg saint antoine\",\n",
    "                \"faubourg saint ant.\": \"rue du faubourg saint antoine\",\n",
    "                \"faubourg. \": \"faubourg\",\n",
    "                \"faubourg..\": \"faubourg\",\n",
    "                \"faubourg.\": \"faubourg\",\n",
    "                \"faubourg.du\": \"faubourg du\",\n",
    "                \"faubourgdu.\": \"faubourg du \",\n",
    "                \"fauh. \": \"faubourg\",\n",
    "                \"fauh.. \": \"faubourg \",\n",
    "                \"fauh.\": \"faubourg \",\n",
    "                \"faul.\": \"faubourg \",\n",
    "                \"faul).\": \"faubourg\",\n",
    "                \"fb. \": \"faubourg\",\n",
    "                \"fd. poissonniere\": \"faubourg poissoniere\",\n",
    "                \"germain l'aux.\": \"germain l\\'auxerrois\",\n",
    "                \"grande.\": \"grande\",\n",
    "                \"haub. \": \"faubourg\",\n",
    "                \"hauss. mann\": \"haussmann\",\n",
    "                \"houl. \": \"boulevard \",\n",
    "                \"impass. \": \"impasse\",\n",
    "                \"j j. rousseau\": \"jean jaques rousseau\",\n",
    "                \"j. j rousseau\": \"jean jaques rousseau\",\n",
    "                \"j. j.   rousseau\": \"jean jaques rousseau\",\n",
    "                \"j. j.  rousseau\": \"jean jaques rousseau\",\n",
    "                \"j. j. pousseau\": \"jean jaques rousseau\",\n",
    "                \"j. j. r\": \"jean jaques rousseau\", \n",
    "                \"j. j. rousseau\": \"jean jaques rousseau\",\n",
    "                \"j. j.. rousseau\": \"jean jaques rousseau\",\n",
    "                \"j. j.rousseau\": \"jean jaques rousseau\",\n",
    "                \"j.j. rousseau\": \"jean jaques rousseau\",\n",
    "                \"lafayette\": \"la fayette\",\n",
    "                \"laub. \": \"faubourg \",\n",
    "                \"le. compte\": \"le compte\",\n",
    "                \"m. le prince\": \"rue monsieur le prince\",\n",
    "                \"ma. genta\": \"magenta\",\n",
    "                \"mar| tin\": \"martin\",\n",
    "                \"meri. court\": \"mericourt\",\n",
    "                \"mons. le prince\": \"rue monsieur le prince\",\n",
    "                \"mont. martre\": \"montmartre\",\n",
    "                \"montagne sainte gen.\": \"rue de la montagne sainte genevieve\",\n",
    "                \"montm.\": \"montmartre\",\n",
    "                \"montmar. tre\": \"montmartre\",\n",
    "                \"montmart.\": \"montmartre\",\n",
    "                \"n. d \": \"notre dame\",\n",
    "                \"n. d.\":\"notre dame\",\n",
    "                \"n. da\": \"notre da\",\n",
    "                \"n. de nazareth\": \"notre dame de nazareth\",\n",
    "                \"n.d.\": \"notre dame\",\n",
    "                \"naza. reth\": \"nazareth\",\n",
    "                \"neuve. des petits champs\": \"rue neuve des petits champs\",\n",
    "                \"notre d. de\": \"notre dame de\",\n",
    "                \"notre damede naza. reth\": \"rue notre dame de nazareth\",\n",
    "                \"pass.du\": \"passage du\",\n",
    "                \"pe. tits\": \"petits\",\n",
    "                \"pet. champs\": \"petits champs\",\n",
    "                \"pet. ecuries\":\"petites ecuries\",\n",
    "                \"petites.\": \"petites \",\n",
    "                \"petitesecuries\": \"petites ecuries\",\n",
    "                \"petits.\": \"petits\",\n",
    "                \"petitschamps\": \"petits champs\",\n",
    "                \"pois. sonniere\": \"poissonniere\",\n",
    "                \"poiss.\": \"poissonniere\",\n",
    "                \"poissonn.\": \"poissonniere\",\n",
    "                \"r.de\": \"rue de\",\n",
    "                \"r.des\": \"rue des\",\n",
    "                \"r.du \": \"rue du \",\n",
    "                \"r.st\": \"rue saint\",\n",
    "                \"rambu. teau\": \"rambouteau\",\n",
    "                \"riche. lieu\": \"richelieu\",\n",
    "                \"rue de vaugi. rard\": \"rue de vaugirard\",\n",
    "                \"saint ant.\": \"saint antoine\",\n",
    "                \"saint g. \": \"saint germain\",\n",
    "                \"saint g.\": \"saint germain\",\n",
    "                \"saint germ.\": \"saint germain\",\n",
    "                \"saint hon.\": \"saint honore\",\n",
    "                \"saintgerm.\": \"saint germain\",\n",
    "                \"saints. peres\": \"rue des saints peres\",\n",
    "                \"se. basaintopol\": \"sebastopol\",\n",
    "                \"sebas. topol\": \"sebastopol\",\n",
    "                \"st.honore\": \"saint honore\",\n",
    "                \"stdenis\": \"saint denis\",\n",
    "                \"stgermain\": \"saint germain\",\n",
    "                \"sthonore\": \"saint honore\",\n",
    "                \"stmartin\": \"saint martin\",\n",
    "                \"stmichel\": \"saint michel\",\n",
    "                \"stras. bourg\": \"strassbourg\",\n",
    "                \"taub. \": \"faubourg\",\n",
    "                \"tem. ple\": \"temple\",\n",
    "                \"vaugi. rard\": \"vaugirard\",\n",
    "                \"vi. vienne\": \"vivienne\",\n",
    "                \"vil. lette\": \"villette\",\n",
    "                \"vol. taire\": \"voltaire\",\n",
    "                \"n.  d. de\": \"notre dame de\",\n",
    "                \"b. poissonniere\": \"boulevard poissonniere\",\n",
    "                \"ri. voli\": \"rue de rivoli\",\n",
    "                \"croix des petits ch.\": \"rue croix des petits champs\",\n",
    "                \"males. herbes\": \"malesherbes\",\n",
    "                \"poisson. niere\": \"poissonniere\",\n",
    "                \"rous. seau\": \"rousseau\",\n",
    "                \"monsieur le. prince\": \"monsieur le prince\",\n",
    "                }\n"
   ]
  },
  {
   "cell_type": "markdown",
   "id": "22787f8b",
   "metadata": {},
   "source": [
    "#### substitute"
   ]
  },
  {
   "cell_type": "code",
   "execution_count": null,
   "id": "50c1e44e",
   "metadata": {},
   "outputs": [],
   "source": [
    "# substitute abbreviations\n",
    "Bottins[\"rue_processed\"] = substitute_col_by_dict(Bottins[\"rue_processed\"], manual_substitution)\n",
    "print(\"#abbr. in data after dict substitution:\", len([street for street in list(Bottins[\"rue_processed\"]) if \".\" in street]))"
   ]
  },
  {
   "cell_type": "markdown",
   "id": "96490796",
   "metadata": {},
   "source": [
    "#### show streets with remaining prefixes"
   ]
  },
  {
   "cell_type": "code",
   "execution_count": null,
   "id": "a09c5e9d",
   "metadata": {},
   "outputs": [],
   "source": [
    "#print most common abbreviations which are left\n",
    "Counter([x for x in Bottins[\"rue_processed\"] if \".\" in x]).most_common(10)"
   ]
  },
  {
   "cell_type": "code",
   "execution_count": null,
   "id": "5d8b72ab",
   "metadata": {},
   "outputs": [],
   "source": [
    "#replace double spaces with one space\n",
    "Bottins[\"rue_processed\"] = Bottins[\"rue_processed\"].str.replace(\"  \", \" \", regex=True)\n",
    "\n",
    "#check if there are double spaces left\n",
    "Counter([x for x in Bottins[\"rue_processed\"] if \"  \" in x])"
   ]
  },
  {
   "cell_type": "markdown",
   "id": "c19de807",
   "metadata": {},
   "source": [
    "## Save preprocessed datasets"
   ]
  },
  {
   "cell_type": "code",
   "execution_count": null,
   "id": "332c3326",
   "metadata": {},
   "outputs": [],
   "source": [
    "if USE_TAGGED_DATASET:\n",
    "    Bottins.to_pickle(\"data/bottins_tagged_prep.pkl\")\n",
    "else:\n",
    "    Bottins.to_pickle(\"data/bottins_prep.pkl\")"
   ]
  }
 ],
 "metadata": {
  "kernelspec": {
   "display_name": "base",
   "language": "python",
   "name": "python3"
  },
  "language_info": {
   "codemirror_mode": {
    "name": "ipython",
    "version": 3
   },
   "file_extension": ".py",
   "mimetype": "text/x-python",
   "name": "python",
   "nbconvert_exporter": "python",
   "pygments_lexer": "ipython3",
   "version": "3.8.12"
  },
  "vscode": {
   "interpreter": {
    "hash": "098a0dd3104dda9245e32bc4140980e8acec008f0fd7b1a1afbd38055ea17b26"
   }
  }
 },
 "nbformat": 4,
 "nbformat_minor": 5
}
