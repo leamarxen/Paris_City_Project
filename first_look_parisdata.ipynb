{
 "cells": [
  {
   "cell_type": "markdown",
   "id": "e3fbfa22",
   "metadata": {},
   "source": [
    "# Repopulation Paris"
   ]
  },
  {
   "cell_type": "markdown",
   "id": "7de28dfe",
   "metadata": {},
   "source": [
    "## First Look into Bottin Data"
   ]
  },
  {
   "cell_type": "code",
   "execution_count": 1,
   "id": "6c3b1db8",
   "metadata": {},
   "outputs": [],
   "source": [
    "import pandas as pd"
   ]
  },
  {
   "cell_type": "code",
   "execution_count": 2,
   "id": "e502ab78",
   "metadata": {},
   "outputs": [],
   "source": [
    "bottins = pd.read_csv(\"data/strict_addressing.csv\")"
   ]
  },
  {
   "cell_type": "code",
   "execution_count": 3,
   "id": "a392a28a",
   "metadata": {},
   "outputs": [
    {
     "name": "stdout",
     "output_type": "stream",
     "text": [
      "size of table: (4406164, 8)\n"
     ]
    },
    {
     "data": {
      "text/html": [
       "<div>\n",
       "<style scoped>\n",
       "    .dataframe tbody tr th:only-of-type {\n",
       "        vertical-align: middle;\n",
       "    }\n",
       "\n",
       "    .dataframe tbody tr th {\n",
       "        vertical-align: top;\n",
       "    }\n",
       "\n",
       "    .dataframe thead th {\n",
       "        text-align: right;\n",
       "    }\n",
       "</style>\n",
       "<table border=\"1\" class=\"dataframe\">\n",
       "  <thead>\n",
       "    <tr style=\"text-align: right;\">\n",
       "      <th></th>\n",
       "      <th>Unnamed: 0</th>\n",
       "      <th>page</th>\n",
       "      <th>row</th>\n",
       "      <th>Nom</th>\n",
       "      <th>Métier</th>\n",
       "      <th>Rue</th>\n",
       "      <th>Numéro</th>\n",
       "      <th>annee</th>\n",
       "    </tr>\n",
       "  </thead>\n",
       "  <tbody>\n",
       "    <tr>\n",
       "      <th>0</th>\n",
       "      <td>bpt6k6282019m</td>\n",
       "      <td>144</td>\n",
       "      <td>0</td>\n",
       "      <td>Aaron</td>\n",
       "      <td>bronzes</td>\n",
       "      <td>passage Choiseal</td>\n",
       "      <td>72 et 74.</td>\n",
       "      <td>1855</td>\n",
       "    </tr>\n",
       "    <tr>\n",
       "      <th>1</th>\n",
       "      <td>bpt6k6282019m</td>\n",
       "      <td>144</td>\n",
       "      <td>1</td>\n",
       "      <td>Aaron (Mic.)</td>\n",
       "      <td>manuf. de porcelaines</td>\n",
       "      <td>Bondy</td>\n",
       "      <td>30.</td>\n",
       "      <td>1855</td>\n",
       "    </tr>\n",
       "    <tr>\n",
       "      <th>2</th>\n",
       "      <td>bpt6k6282019m</td>\n",
       "      <td>144</td>\n",
       "      <td>3</td>\n",
       "      <td>Abadie</td>\n",
       "      <td>architecte</td>\n",
       "      <td>Provence</td>\n",
       "      <td>7.</td>\n",
       "      <td>1855</td>\n",
       "    </tr>\n",
       "    <tr>\n",
       "      <th>3</th>\n",
       "      <td>bpt6k6282019m</td>\n",
       "      <td>144</td>\n",
       "      <td>5</td>\n",
       "      <td>Abadie</td>\n",
       "      <td>tabac et estamin.</td>\n",
       "      <td>Ménilmontant</td>\n",
       "      <td>158.</td>\n",
       "      <td>1855</td>\n",
       "    </tr>\n",
       "    <tr>\n",
       "      <th>4</th>\n",
       "      <td>bpt6k6282019m</td>\n",
       "      <td>144</td>\n",
       "      <td>6</td>\n",
       "      <td>Abanse</td>\n",
       "      <td>instituteur</td>\n",
       "      <td>Sts-Pères</td>\n",
       "      <td>30.</td>\n",
       "      <td>1855</td>\n",
       "    </tr>\n",
       "    <tr>\n",
       "      <th>5</th>\n",
       "      <td>bpt6k6282019m</td>\n",
       "      <td>144</td>\n",
       "      <td>7</td>\n",
       "      <td>Abat</td>\n",
       "      <td>rentier</td>\n",
       "      <td>Isly</td>\n",
       "      <td>10.</td>\n",
       "      <td>1855</td>\n",
       "    </tr>\n",
       "    <tr>\n",
       "      <th>6</th>\n",
       "      <td>bpt6k6282019m</td>\n",
       "      <td>144</td>\n",
       "      <td>13</td>\n",
       "      <td>Abault et Coudray</td>\n",
       "      <td>charpentiers</td>\n",
       "      <td>Corbeau</td>\n",
       "      <td>23.</td>\n",
       "      <td>1855</td>\n",
       "    </tr>\n",
       "    <tr>\n",
       "      <th>7</th>\n",
       "      <td>bpt6k6282019m</td>\n",
       "      <td>144</td>\n",
       "      <td>14</td>\n",
       "      <td>Abault (Paul)</td>\n",
       "      <td>libraire</td>\n",
       "      <td>quai des Angustins</td>\n",
       "      <td>9.</td>\n",
       "      <td>1855</td>\n",
       "    </tr>\n",
       "    <tr>\n",
       "      <th>8</th>\n",
       "      <td>bpt6k6282019m</td>\n",
       "      <td>144</td>\n",
       "      <td>15</td>\n",
       "      <td>Abavid</td>\n",
       "      <td>vins</td>\n",
       "      <td>Beaujolais-da-Temple</td>\n",
       "      <td>7.</td>\n",
       "      <td>1855</td>\n",
       "    </tr>\n",
       "    <tr>\n",
       "      <th>9</th>\n",
       "      <td>bpt6k6282019m</td>\n",
       "      <td>144</td>\n",
       "      <td>16</td>\n",
       "      <td>Abazaer (Are)</td>\n",
       "      <td>cristaux et porcelaines</td>\n",
       "      <td>Pei.Ecuries</td>\n",
       "      <td>26.</td>\n",
       "      <td>1855</td>\n",
       "    </tr>\n",
       "  </tbody>\n",
       "</table>\n",
       "</div>"
      ],
      "text/plain": [
       "      Unnamed: 0  page  row                Nom                   Métier  \\\n",
       "0  bpt6k6282019m   144    0              Aaron                  bronzes   \n",
       "1  bpt6k6282019m   144    1       Aaron (Mic.)    manuf. de porcelaines   \n",
       "2  bpt6k6282019m   144    3             Abadie               architecte   \n",
       "3  bpt6k6282019m   144    5             Abadie        tabac et estamin.   \n",
       "4  bpt6k6282019m   144    6             Abanse              instituteur   \n",
       "5  bpt6k6282019m   144    7               Abat                  rentier   \n",
       "6  bpt6k6282019m   144   13  Abault et Coudray             charpentiers   \n",
       "7  bpt6k6282019m   144   14      Abault (Paul)                 libraire   \n",
       "8  bpt6k6282019m   144   15             Abavid                     vins   \n",
       "9  bpt6k6282019m   144   16      Abazaer (Are)  cristaux et porcelaines   \n",
       "\n",
       "                    Rue     Numéro  annee  \n",
       "0      passage Choiseal  72 et 74.   1855  \n",
       "1                 Bondy        30.   1855  \n",
       "2              Provence         7.   1855  \n",
       "3          Ménilmontant       158.   1855  \n",
       "4             Sts-Pères        30.   1855  \n",
       "5                  Isly        10.   1855  \n",
       "6               Corbeau        23.   1855  \n",
       "7    quai des Angustins         9.   1855  \n",
       "8  Beaujolais-da-Temple         7.   1855  \n",
       "9           Pei.Ecuries        26.   1855  "
      ]
     },
     "execution_count": 3,
     "metadata": {},
     "output_type": "execute_result"
    }
   ],
   "source": [
    "print(\"size of table:\", bottins.shape)\n",
    "bottins.head(10)"
   ]
  },
  {
   "cell_type": "code",
   "execution_count": 4,
   "id": "bb001d31",
   "metadata": {},
   "outputs": [
    {
     "name": "stdout",
     "output_type": "stream",
     "text": [
      "number of streets in dataset: 195464\n"
     ]
    }
   ],
   "source": [
    "print(\"number of streets in dataset:\", len(bottins[\"Rue\"].unique()))"
   ]
  },
  {
   "cell_type": "code",
   "execution_count": 5,
   "id": "73db31d4",
   "metadata": {},
   "outputs": [],
   "source": [
    "bottins_original = bottins.copy()"
   ]
  },
  {
   "cell_type": "markdown",
   "id": "e26f1f19",
   "metadata": {},
   "source": [
    "## Paris Opendata - Voies"
   ]
  },
  {
   "cell_type": "code",
   "execution_count": 6,
   "id": "055b1085",
   "metadata": {},
   "outputs": [],
   "source": [
    "voies = pd.read_csv(\"data/opendata_voie_paris.csv\", sep=\";\")"
   ]
  },
  {
   "cell_type": "code",
   "execution_count": 7,
   "id": "302528ba",
   "metadata": {},
   "outputs": [
    {
     "name": "stdout",
     "output_type": "stream",
     "text": [
      "number of voies: 6542\n"
     ]
    },
    {
     "data": {
      "text/html": [
       "<div>\n",
       "<style scoped>\n",
       "    .dataframe tbody tr th:only-of-type {\n",
       "        vertical-align: middle;\n",
       "    }\n",
       "\n",
       "    .dataframe tbody tr th {\n",
       "        vertical-align: top;\n",
       "    }\n",
       "\n",
       "    .dataframe thead th {\n",
       "        text-align: right;\n",
       "    }\n",
       "</style>\n",
       "<table border=\"1\" class=\"dataframe\">\n",
       "  <thead>\n",
       "    <tr style=\"text-align: right;\">\n",
       "      <th></th>\n",
       "      <th>N_SQ_VO</th>\n",
       "      <th>C_COINSEE</th>\n",
       "      <th>C_DESI</th>\n",
       "      <th>C_LIAISON</th>\n",
       "      <th>L_VOIE</th>\n",
       "      <th>L_COURTMIN</th>\n",
       "      <th>L_LONGMIN</th>\n",
       "      <th>C_VOIE</th>\n",
       "      <th>B_FANTOIR</th>\n",
       "      <th>B_OFF</th>\n",
       "      <th>C_VOIE_VP</th>\n",
       "      <th>Geometry</th>\n",
       "      <th>OBJECTID</th>\n",
       "      <th>C_DOMOFF</th>\n",
       "      <th>N_SQ_CO</th>\n",
       "      <th>LENGTH</th>\n",
       "      <th>Geometry X Y</th>\n",
       "    </tr>\n",
       "  </thead>\n",
       "  <tbody>\n",
       "    <tr>\n",
       "      <th>0</th>\n",
       "      <td>750004016</td>\n",
       "      <td>75056</td>\n",
       "      <td>IMP</td>\n",
       "      <td>NaN</td>\n",
       "      <td>BAUDRAN</td>\n",
       "      <td>Imp. Baudran</td>\n",
       "      <td>Impasse Baudran</td>\n",
       "      <td>750560733</td>\n",
       "      <td>O</td>\n",
       "      <td>O</td>\n",
       "      <td>0717</td>\n",
       "      <td>{\"coordinates\": [[2.3554518641916804, 48.82415...</td>\n",
       "      <td>6</td>\n",
       "      <td>O</td>\n",
       "      <td>750001537</td>\n",
       "      <td>64.625200</td>\n",
       "      <td>48.82415332715383,2.3558919735528483</td>\n",
       "    </tr>\n",
       "    <tr>\n",
       "      <th>1</th>\n",
       "      <td>750003821</td>\n",
       "      <td>75056</td>\n",
       "      <td>IMP</td>\n",
       "      <td>DES</td>\n",
       "      <td>CHEVALIERS</td>\n",
       "      <td>Imp. des Chevaliers</td>\n",
       "      <td>Impasse des Chevaliers</td>\n",
       "      <td>750561994</td>\n",
       "      <td>O</td>\n",
       "      <td>O</td>\n",
       "      <td>1986</td>\n",
       "      <td>{\"coordinates\": [[2.3960916096233094, 48.87258...</td>\n",
       "      <td>59</td>\n",
       "      <td>P</td>\n",
       "      <td>750001537</td>\n",
       "      <td>77.423197</td>\n",
       "      <td>48.87229377669366,2.3963259349268453</td>\n",
       "    </tr>\n",
       "    <tr>\n",
       "      <th>2</th>\n",
       "      <td>750005946</td>\n",
       "      <td>75056</td>\n",
       "      <td>RUE</td>\n",
       "      <td>DES</td>\n",
       "      <td>BONS VIVANTS</td>\n",
       "      <td>R. des Bons Vivants</td>\n",
       "      <td>Rue des Bons Vivants</td>\n",
       "      <td>750561106</td>\n",
       "      <td>O</td>\n",
       "      <td>O</td>\n",
       "      <td>1111</td>\n",
       "      <td>{\"coordinates\": [[2.346752283163513, 48.862212...</td>\n",
       "      <td>112</td>\n",
       "      <td>P</td>\n",
       "      <td>750001537</td>\n",
       "      <td>39.406151</td>\n",
       "      <td>48.862044141078364,2.34682583693024</td>\n",
       "    </tr>\n",
       "    <tr>\n",
       "      <th>3</th>\n",
       "      <td>750001312</td>\n",
       "      <td>75056</td>\n",
       "      <td>RUE</td>\n",
       "      <td>NaN</td>\n",
       "      <td>JEAN HUGUES</td>\n",
       "      <td>R. Jean Hugues</td>\n",
       "      <td>Rue Jean Hugues</td>\n",
       "      <td>750564899</td>\n",
       "      <td>O</td>\n",
       "      <td>O</td>\n",
       "      <td>4806</td>\n",
       "      <td>{\"coordinates\": [[2.274705254077503, 48.868429...</td>\n",
       "      <td>170</td>\n",
       "      <td>O</td>\n",
       "      <td>750001537</td>\n",
       "      <td>45.962263</td>\n",
       "      <td>48.86861817275934,2.2748341164181163</td>\n",
       "    </tr>\n",
       "    <tr>\n",
       "      <th>4</th>\n",
       "      <td>750005774</td>\n",
       "      <td>75056</td>\n",
       "      <td>RUE</td>\n",
       "      <td>NaN</td>\n",
       "      <td>JEAN-JACQUES ROUSSEAU</td>\n",
       "      <td>R. Jean-Jacques Rousseau</td>\n",
       "      <td>Rue Jean-Jacques Rousseau</td>\n",
       "      <td>750564901</td>\n",
       "      <td>O</td>\n",
       "      <td>O</td>\n",
       "      <td>4808</td>\n",
       "      <td>{\"coordinates\": [[[2.3396869374353004, 48.8620...</td>\n",
       "      <td>171</td>\n",
       "      <td>P</td>\n",
       "      <td>750001537</td>\n",
       "      <td>397.842033</td>\n",
       "      <td>48.86347293952501,2.342392728552715</td>\n",
       "    </tr>\n",
       "  </tbody>\n",
       "</table>\n",
       "</div>"
      ],
      "text/plain": [
       "     N_SQ_VO  C_COINSEE C_DESI C_LIAISON                 L_VOIE  \\\n",
       "0  750004016      75056    IMP       NaN                BAUDRAN   \n",
       "1  750003821      75056    IMP       DES             CHEVALIERS   \n",
       "2  750005946      75056    RUE       DES           BONS VIVANTS   \n",
       "3  750001312      75056    RUE       NaN            JEAN HUGUES   \n",
       "4  750005774      75056    RUE       NaN  JEAN-JACQUES ROUSSEAU   \n",
       "\n",
       "                 L_COURTMIN                  L_LONGMIN     C_VOIE B_FANTOIR  \\\n",
       "0              Imp. Baudran            Impasse Baudran  750560733         O   \n",
       "1       Imp. des Chevaliers     Impasse des Chevaliers  750561994         O   \n",
       "2       R. des Bons Vivants       Rue des Bons Vivants  750561106         O   \n",
       "3            R. Jean Hugues            Rue Jean Hugues  750564899         O   \n",
       "4  R. Jean-Jacques Rousseau  Rue Jean-Jacques Rousseau  750564901         O   \n",
       "\n",
       "  B_OFF C_VOIE_VP                                           Geometry  \\\n",
       "0     O      0717  {\"coordinates\": [[2.3554518641916804, 48.82415...   \n",
       "1     O      1986  {\"coordinates\": [[2.3960916096233094, 48.87258...   \n",
       "2     O      1111  {\"coordinates\": [[2.346752283163513, 48.862212...   \n",
       "3     O      4806  {\"coordinates\": [[2.274705254077503, 48.868429...   \n",
       "4     O      4808  {\"coordinates\": [[[2.3396869374353004, 48.8620...   \n",
       "\n",
       "   OBJECTID C_DOMOFF    N_SQ_CO      LENGTH  \\\n",
       "0         6        O  750001537   64.625200   \n",
       "1        59        P  750001537   77.423197   \n",
       "2       112        P  750001537   39.406151   \n",
       "3       170        O  750001537   45.962263   \n",
       "4       171        P  750001537  397.842033   \n",
       "\n",
       "                           Geometry X Y  \n",
       "0  48.82415332715383,2.3558919735528483  \n",
       "1  48.87229377669366,2.3963259349268453  \n",
       "2   48.862044141078364,2.34682583693024  \n",
       "3  48.86861817275934,2.2748341164181163  \n",
       "4   48.86347293952501,2.342392728552715  "
      ]
     },
     "execution_count": 7,
     "metadata": {},
     "output_type": "execute_result"
    }
   ],
   "source": [
    "print(\"number of voies:\", len(voies))\n",
    "voies.head()"
   ]
  },
  {
   "cell_type": "code",
   "execution_count": 8,
   "id": "c6f06559",
   "metadata": {},
   "outputs": [
    {
     "data": {
      "text/html": [
       "<div>\n",
       "<style scoped>\n",
       "    .dataframe tbody tr th:only-of-type {\n",
       "        vertical-align: middle;\n",
       "    }\n",
       "\n",
       "    .dataframe tbody tr th {\n",
       "        vertical-align: top;\n",
       "    }\n",
       "\n",
       "    .dataframe thead th {\n",
       "        text-align: right;\n",
       "    }\n",
       "</style>\n",
       "<table border=\"1\" class=\"dataframe\">\n",
       "  <thead>\n",
       "    <tr style=\"text-align: right;\">\n",
       "      <th></th>\n",
       "      <th>N_SQ_VO</th>\n",
       "      <th>L_VOIE</th>\n",
       "      <th>L_COURTMIN</th>\n",
       "      <th>L_LONGMIN</th>\n",
       "      <th>Geometry</th>\n",
       "      <th>LENGTH</th>\n",
       "      <th>Geometry X Y</th>\n",
       "    </tr>\n",
       "  </thead>\n",
       "  <tbody>\n",
       "    <tr>\n",
       "      <th>0</th>\n",
       "      <td>750004016</td>\n",
       "      <td>BAUDRAN</td>\n",
       "      <td>Imp. Baudran</td>\n",
       "      <td>Impasse Baudran</td>\n",
       "      <td>{\"coordinates\": [[2.3554518641916804, 48.82415...</td>\n",
       "      <td>64.625200</td>\n",
       "      <td>48.82415332715383,2.3558919735528483</td>\n",
       "    </tr>\n",
       "    <tr>\n",
       "      <th>1</th>\n",
       "      <td>750003821</td>\n",
       "      <td>CHEVALIERS</td>\n",
       "      <td>Imp. des Chevaliers</td>\n",
       "      <td>Impasse des Chevaliers</td>\n",
       "      <td>{\"coordinates\": [[2.3960916096233094, 48.87258...</td>\n",
       "      <td>77.423197</td>\n",
       "      <td>48.87229377669366,2.3963259349268453</td>\n",
       "    </tr>\n",
       "    <tr>\n",
       "      <th>2</th>\n",
       "      <td>750005946</td>\n",
       "      <td>BONS VIVANTS</td>\n",
       "      <td>R. des Bons Vivants</td>\n",
       "      <td>Rue des Bons Vivants</td>\n",
       "      <td>{\"coordinates\": [[2.346752283163513, 48.862212...</td>\n",
       "      <td>39.406151</td>\n",
       "      <td>48.862044141078364,2.34682583693024</td>\n",
       "    </tr>\n",
       "    <tr>\n",
       "      <th>3</th>\n",
       "      <td>750001312</td>\n",
       "      <td>JEAN HUGUES</td>\n",
       "      <td>R. Jean Hugues</td>\n",
       "      <td>Rue Jean Hugues</td>\n",
       "      <td>{\"coordinates\": [[2.274705254077503, 48.868429...</td>\n",
       "      <td>45.962263</td>\n",
       "      <td>48.86861817275934,2.2748341164181163</td>\n",
       "    </tr>\n",
       "    <tr>\n",
       "      <th>4</th>\n",
       "      <td>750005774</td>\n",
       "      <td>JEAN-JACQUES ROUSSEAU</td>\n",
       "      <td>R. Jean-Jacques Rousseau</td>\n",
       "      <td>Rue Jean-Jacques Rousseau</td>\n",
       "      <td>{\"coordinates\": [[[2.3396869374353004, 48.8620...</td>\n",
       "      <td>397.842033</td>\n",
       "      <td>48.86347293952501,2.342392728552715</td>\n",
       "    </tr>\n",
       "  </tbody>\n",
       "</table>\n",
       "</div>"
      ],
      "text/plain": [
       "     N_SQ_VO                 L_VOIE                L_COURTMIN  \\\n",
       "0  750004016                BAUDRAN              Imp. Baudran   \n",
       "1  750003821             CHEVALIERS       Imp. des Chevaliers   \n",
       "2  750005946           BONS VIVANTS       R. des Bons Vivants   \n",
       "3  750001312            JEAN HUGUES            R. Jean Hugues   \n",
       "4  750005774  JEAN-JACQUES ROUSSEAU  R. Jean-Jacques Rousseau   \n",
       "\n",
       "                   L_LONGMIN  \\\n",
       "0            Impasse Baudran   \n",
       "1     Impasse des Chevaliers   \n",
       "2       Rue des Bons Vivants   \n",
       "3            Rue Jean Hugues   \n",
       "4  Rue Jean-Jacques Rousseau   \n",
       "\n",
       "                                            Geometry      LENGTH  \\\n",
       "0  {\"coordinates\": [[2.3554518641916804, 48.82415...   64.625200   \n",
       "1  {\"coordinates\": [[2.3960916096233094, 48.87258...   77.423197   \n",
       "2  {\"coordinates\": [[2.346752283163513, 48.862212...   39.406151   \n",
       "3  {\"coordinates\": [[2.274705254077503, 48.868429...   45.962263   \n",
       "4  {\"coordinates\": [[[2.3396869374353004, 48.8620...  397.842033   \n",
       "\n",
       "                           Geometry X Y  \n",
       "0  48.82415332715383,2.3558919735528483  \n",
       "1  48.87229377669366,2.3963259349268453  \n",
       "2   48.862044141078364,2.34682583693024  \n",
       "3  48.86861817275934,2.2748341164181163  \n",
       "4   48.86347293952501,2.342392728552715  "
      ]
     },
     "execution_count": 8,
     "metadata": {},
     "output_type": "execute_result"
    }
   ],
   "source": [
    "#keep only columns that might be useful further on\n",
    "voies = voies[[\"N_SQ_VO\", \"L_VOIE\", \"L_COURTMIN\", \"L_LONGMIN\", \"Geometry\", \"LENGTH\", \"Geometry X Y\"]]\n",
    "voies.head()"
   ]
  },
  {
   "cell_type": "code",
   "execution_count": 9,
   "id": "d921d069",
   "metadata": {},
   "outputs": [],
   "source": [
    "# prepare data for alignment\n",
    "bottins[\"Rue\"] = bottins[\"Rue\"].str.lower()\n",
    "voies[\"L_VOIE\"] = voies[\"L_VOIE\"].str.lower()\n",
    "voies[\"L_COURTMIN\"] = voies[\"L_COURTMIN\"].str.lower()\n",
    "voies[\"L_LONGMIN\"] = voies[\"L_LONGMIN\"].str.lower()"
   ]
  },
  {
   "cell_type": "code",
   "execution_count": 10,
   "id": "b8493b01",
   "metadata": {},
   "outputs": [],
   "source": [
    "bot_voies_algn1 = bottins.join(voies.set_index(\"L_LONGMIN\"), on=\"Rue\")\n",
    "bot_voies_algn2 = bottins.join(voies.set_index(\"L_VOIE\"), on=\"Rue\")\n",
    "bot_voies_algn3 = bottins.join(voies.set_index(\"L_COURTMIN\"), on=\"Rue\")"
   ]
  },
  {
   "cell_type": "code",
   "execution_count": 11,
   "id": "64da0560",
   "metadata": {},
   "outputs": [
    {
     "name": "stdout",
     "output_type": "stream",
     "text": [
      "4228735\n",
      "3191199\n",
      "3793594\n"
     ]
    }
   ],
   "source": [
    "# see how many streets were aligned\n",
    "print(bot_voies_algn1[\"Geometry\"].isna().sum())\n",
    "print(bot_voies_algn2[\"Geometry\"].isna().sum())\n",
    "print(bot_voies_algn3[\"Geometry\"].isna().sum())"
   ]
  },
  {
   "cell_type": "code",
   "execution_count": 12,
   "id": "d0e6b458",
   "metadata": {},
   "outputs": [
    {
     "name": "stdout",
     "output_type": "stream",
     "text": [
      "aligned: 1933426 not aligned: 3191199\n"
     ]
    }
   ],
   "source": [
    "# start with 2nd dataframe as basis, split into aligned an not aligned data\n",
    "aligned = bot_voies_algn2.loc[bot_voies_algn2[\"Geometry\"].notna()]\n",
    "not_aligned = bot_voies_algn2.loc[bot_voies_algn2[\"Geometry\"].isna()]\n",
    "not_aligned = not_aligned.drop([\"L_COURTMIN\", \"L_LONGMIN\", \"Geometry\", \"LENGTH\", \"Geometry X Y\"], axis=1)\n",
    "print(\"aligned:\", len(aligned), \"not aligned:\", len(not_aligned))"
   ]
  },
  {
   "cell_type": "code",
   "execution_count": 13,
   "id": "4615a0a8",
   "metadata": {},
   "outputs": [
    {
     "ename": "ValueError",
     "evalue": "columns overlap but no suffix specified: Index(['N_SQ_VO'], dtype='object')",
     "output_type": "error",
     "traceback": [
      "\u001b[1;31m---------------------------------------------------------------------------\u001b[0m",
      "\u001b[1;31mValueError\u001b[0m                                Traceback (most recent call last)",
      "\u001b[1;32m~\\AppData\\Local\\Temp/ipykernel_19556/781531479.py\u001b[0m in \u001b[0;36m<module>\u001b[1;34m\u001b[0m\n\u001b[0;32m      1\u001b[0m \u001b[1;31m# perform join with \"L_COURTMIN on not_aligned dataframe\"\u001b[0m\u001b[1;33m\u001b[0m\u001b[1;33m\u001b[0m\u001b[1;33m\u001b[0m\u001b[0m\n\u001b[1;32m----> 2\u001b[1;33m \u001b[0mx\u001b[0m \u001b[1;33m=\u001b[0m \u001b[0mnot_aligned\u001b[0m\u001b[1;33m.\u001b[0m\u001b[0mjoin\u001b[0m\u001b[1;33m(\u001b[0m\u001b[0mvoies\u001b[0m\u001b[1;33m.\u001b[0m\u001b[0mset_index\u001b[0m\u001b[1;33m(\u001b[0m\u001b[1;34m\"L_COURTMIN\"\u001b[0m\u001b[1;33m)\u001b[0m\u001b[1;33m,\u001b[0m \u001b[0mon\u001b[0m\u001b[1;33m=\u001b[0m\u001b[1;34m\"Rue\"\u001b[0m\u001b[1;33m)\u001b[0m\u001b[1;33m\u001b[0m\u001b[1;33m\u001b[0m\u001b[0m\n\u001b[0m\u001b[0;32m      3\u001b[0m \u001b[0maligned\u001b[0m \u001b[1;33m=\u001b[0m \u001b[0maligned\u001b[0m\u001b[1;33m.\u001b[0m\u001b[0mappend\u001b[0m\u001b[1;33m(\u001b[0m\u001b[0mx\u001b[0m\u001b[1;33m[\u001b[0m\u001b[0mx\u001b[0m\u001b[1;33m[\u001b[0m\u001b[1;34m\"Geometry\"\u001b[0m\u001b[1;33m]\u001b[0m\u001b[1;33m.\u001b[0m\u001b[0mnotna\u001b[0m\u001b[1;33m(\u001b[0m\u001b[1;33m)\u001b[0m\u001b[1;33m]\u001b[0m\u001b[1;33m,\u001b[0m \u001b[0mignore_index\u001b[0m \u001b[1;33m=\u001b[0m \u001b[1;32mTrue\u001b[0m\u001b[1;33m)\u001b[0m\u001b[1;33m\u001b[0m\u001b[1;33m\u001b[0m\u001b[0m\n\u001b[0;32m      4\u001b[0m \u001b[0mnot_aligned\u001b[0m \u001b[1;33m=\u001b[0m \u001b[0mx\u001b[0m\u001b[1;33m[\u001b[0m\u001b[0mx\u001b[0m\u001b[1;33m[\u001b[0m\u001b[1;34m\"Geometry\"\u001b[0m\u001b[1;33m]\u001b[0m\u001b[1;33m.\u001b[0m\u001b[0misna\u001b[0m\u001b[1;33m(\u001b[0m\u001b[1;33m)\u001b[0m\u001b[1;33m]\u001b[0m\u001b[1;33m\u001b[0m\u001b[1;33m\u001b[0m\u001b[0m\n\u001b[0;32m      5\u001b[0m \u001b[0mnot_aligned\u001b[0m \u001b[1;33m=\u001b[0m \u001b[0mnot_aligned\u001b[0m\u001b[1;33m.\u001b[0m\u001b[0mdrop\u001b[0m\u001b[1;33m(\u001b[0m\u001b[1;33m[\u001b[0m\u001b[1;34m\"L_LONGMIN\"\u001b[0m\u001b[1;33m,\u001b[0m \u001b[1;34m\"L_VOIE\"\u001b[0m\u001b[1;33m,\u001b[0m \u001b[1;34m\"Geometry\"\u001b[0m\u001b[1;33m,\u001b[0m \u001b[1;34m\"LENGTH\"\u001b[0m\u001b[1;33m,\u001b[0m \u001b[1;34m\"Geometry X Y\"\u001b[0m\u001b[1;33m]\u001b[0m\u001b[1;33m,\u001b[0m \u001b[0maxis\u001b[0m\u001b[1;33m=\u001b[0m\u001b[1;36m1\u001b[0m\u001b[1;33m)\u001b[0m\u001b[1;33m\u001b[0m\u001b[1;33m\u001b[0m\u001b[0m\n",
      "\u001b[1;32m~\\anaconda3\\lib\\site-packages\\pandas\\core\\frame.py\u001b[0m in \u001b[0;36mjoin\u001b[1;34m(self, other, on, how, lsuffix, rsuffix, sort)\u001b[0m\n\u001b[0;32m   9097\u001b[0m         \u001b[1;36m5\u001b[0m  \u001b[0mK5\u001b[0m  \u001b[0mA5\u001b[0m  \u001b[0mNaN\u001b[0m\u001b[1;33m\u001b[0m\u001b[1;33m\u001b[0m\u001b[0m\n\u001b[0;32m   9098\u001b[0m         \"\"\"\n\u001b[1;32m-> 9099\u001b[1;33m         return self._join_compat(\n\u001b[0m\u001b[0;32m   9100\u001b[0m             \u001b[0mother\u001b[0m\u001b[1;33m,\u001b[0m \u001b[0mon\u001b[0m\u001b[1;33m=\u001b[0m\u001b[0mon\u001b[0m\u001b[1;33m,\u001b[0m \u001b[0mhow\u001b[0m\u001b[1;33m=\u001b[0m\u001b[0mhow\u001b[0m\u001b[1;33m,\u001b[0m \u001b[0mlsuffix\u001b[0m\u001b[1;33m=\u001b[0m\u001b[0mlsuffix\u001b[0m\u001b[1;33m,\u001b[0m \u001b[0mrsuffix\u001b[0m\u001b[1;33m=\u001b[0m\u001b[0mrsuffix\u001b[0m\u001b[1;33m,\u001b[0m \u001b[0msort\u001b[0m\u001b[1;33m=\u001b[0m\u001b[0msort\u001b[0m\u001b[1;33m\u001b[0m\u001b[1;33m\u001b[0m\u001b[0m\n\u001b[0;32m   9101\u001b[0m         )\n",
      "\u001b[1;32m~\\anaconda3\\lib\\site-packages\\pandas\\core\\frame.py\u001b[0m in \u001b[0;36m_join_compat\u001b[1;34m(self, other, on, how, lsuffix, rsuffix, sort)\u001b[0m\n\u001b[0;32m   9128\u001b[0m                     \u001b[0msort\u001b[0m\u001b[1;33m=\u001b[0m\u001b[0msort\u001b[0m\u001b[1;33m,\u001b[0m\u001b[1;33m\u001b[0m\u001b[1;33m\u001b[0m\u001b[0m\n\u001b[0;32m   9129\u001b[0m                 )\n\u001b[1;32m-> 9130\u001b[1;33m             return merge(\n\u001b[0m\u001b[0;32m   9131\u001b[0m                 \u001b[0mself\u001b[0m\u001b[1;33m,\u001b[0m\u001b[1;33m\u001b[0m\u001b[1;33m\u001b[0m\u001b[0m\n\u001b[0;32m   9132\u001b[0m                 \u001b[0mother\u001b[0m\u001b[1;33m,\u001b[0m\u001b[1;33m\u001b[0m\u001b[1;33m\u001b[0m\u001b[0m\n",
      "\u001b[1;32m~\\anaconda3\\lib\\site-packages\\pandas\\core\\reshape\\merge.py\u001b[0m in \u001b[0;36mmerge\u001b[1;34m(left, right, how, on, left_on, right_on, left_index, right_index, sort, suffixes, copy, indicator, validate)\u001b[0m\n\u001b[0;32m    119\u001b[0m         \u001b[0mvalidate\u001b[0m\u001b[1;33m=\u001b[0m\u001b[0mvalidate\u001b[0m\u001b[1;33m,\u001b[0m\u001b[1;33m\u001b[0m\u001b[1;33m\u001b[0m\u001b[0m\n\u001b[0;32m    120\u001b[0m     )\n\u001b[1;32m--> 121\u001b[1;33m     \u001b[1;32mreturn\u001b[0m \u001b[0mop\u001b[0m\u001b[1;33m.\u001b[0m\u001b[0mget_result\u001b[0m\u001b[1;33m(\u001b[0m\u001b[1;33m)\u001b[0m\u001b[1;33m\u001b[0m\u001b[1;33m\u001b[0m\u001b[0m\n\u001b[0m\u001b[0;32m    122\u001b[0m \u001b[1;33m\u001b[0m\u001b[0m\n\u001b[0;32m    123\u001b[0m \u001b[1;33m\u001b[0m\u001b[0m\n",
      "\u001b[1;32m~\\anaconda3\\lib\\site-packages\\pandas\\core\\reshape\\merge.py\u001b[0m in \u001b[0;36mget_result\u001b[1;34m(self)\u001b[0m\n\u001b[0;32m    715\u001b[0m         \u001b[0mjoin_index\u001b[0m\u001b[1;33m,\u001b[0m \u001b[0mleft_indexer\u001b[0m\u001b[1;33m,\u001b[0m \u001b[0mright_indexer\u001b[0m \u001b[1;33m=\u001b[0m \u001b[0mself\u001b[0m\u001b[1;33m.\u001b[0m\u001b[0m_get_join_info\u001b[0m\u001b[1;33m(\u001b[0m\u001b[1;33m)\u001b[0m\u001b[1;33m\u001b[0m\u001b[1;33m\u001b[0m\u001b[0m\n\u001b[0;32m    716\u001b[0m \u001b[1;33m\u001b[0m\u001b[0m\n\u001b[1;32m--> 717\u001b[1;33m         llabels, rlabels = _items_overlap_with_suffix(\n\u001b[0m\u001b[0;32m    718\u001b[0m             \u001b[0mself\u001b[0m\u001b[1;33m.\u001b[0m\u001b[0mleft\u001b[0m\u001b[1;33m.\u001b[0m\u001b[0m_info_axis\u001b[0m\u001b[1;33m,\u001b[0m \u001b[0mself\u001b[0m\u001b[1;33m.\u001b[0m\u001b[0mright\u001b[0m\u001b[1;33m.\u001b[0m\u001b[0m_info_axis\u001b[0m\u001b[1;33m,\u001b[0m \u001b[0mself\u001b[0m\u001b[1;33m.\u001b[0m\u001b[0msuffixes\u001b[0m\u001b[1;33m\u001b[0m\u001b[1;33m\u001b[0m\u001b[0m\n\u001b[0;32m    719\u001b[0m         )\n",
      "\u001b[1;32m~\\anaconda3\\lib\\site-packages\\pandas\\core\\reshape\\merge.py\u001b[0m in \u001b[0;36m_items_overlap_with_suffix\u001b[1;34m(left, right, suffixes)\u001b[0m\n\u001b[0;32m   2312\u001b[0m \u001b[1;33m\u001b[0m\u001b[0m\n\u001b[0;32m   2313\u001b[0m     \u001b[1;32mif\u001b[0m \u001b[1;32mnot\u001b[0m \u001b[0mlsuffix\u001b[0m \u001b[1;32mand\u001b[0m \u001b[1;32mnot\u001b[0m \u001b[0mrsuffix\u001b[0m\u001b[1;33m:\u001b[0m\u001b[1;33m\u001b[0m\u001b[1;33m\u001b[0m\u001b[0m\n\u001b[1;32m-> 2314\u001b[1;33m         \u001b[1;32mraise\u001b[0m \u001b[0mValueError\u001b[0m\u001b[1;33m(\u001b[0m\u001b[1;34mf\"columns overlap but no suffix specified: {to_rename}\"\u001b[0m\u001b[1;33m)\u001b[0m\u001b[1;33m\u001b[0m\u001b[1;33m\u001b[0m\u001b[0m\n\u001b[0m\u001b[0;32m   2315\u001b[0m \u001b[1;33m\u001b[0m\u001b[0m\n\u001b[0;32m   2316\u001b[0m     \u001b[1;32mdef\u001b[0m \u001b[0mrenamer\u001b[0m\u001b[1;33m(\u001b[0m\u001b[0mx\u001b[0m\u001b[1;33m,\u001b[0m \u001b[0msuffix\u001b[0m\u001b[1;33m)\u001b[0m\u001b[1;33m:\u001b[0m\u001b[1;33m\u001b[0m\u001b[1;33m\u001b[0m\u001b[0m\n",
      "\u001b[1;31mValueError\u001b[0m: columns overlap but no suffix specified: Index(['N_SQ_VO'], dtype='object')"
     ]
    }
   ],
   "source": [
    "# perform join with \"L_COURTMIN on not_aligned dataframe\"\n",
    "x = not_aligned.join(voies.set_index(\"L_COURTMIN\"), on=\"Rue\")\n",
    "aligned = aligned.append(x[x[\"Geometry\"].notna()], ignore_index = True)\n",
    "not_aligned = x[x[\"Geometry\"].isna()]\n",
    "not_aligned = not_aligned.drop([\"L_LONGMIN\", \"L_VOIE\", \"Geometry\", \"LENGTH\", \"Geometry X Y\"], axis=1)\n",
    "print(\"aligned:\", len(aligned), \"not aligned:\", len(not_aligned))"
   ]
  },
  {
   "cell_type": "code",
   "execution_count": null,
   "id": "f4ae2ab9",
   "metadata": {},
   "outputs": [],
   "source": [
    "# perform join with \"L_LONGMIN on not_aligned dataframe\"\n",
    "x = not_aligned.join(voies.set_index(\"L_LONGMIN\"), on=\"Rue\")\n",
    "aligned = aligned.append(x[x[\"Geometry\"].notna()], ignore_index = True)\n",
    "not_aligned = x[x[\"Geometry\"].isna()]\n",
    "print(\"aligned:\", len(aligned), \"not aligned:\", len(not_aligned))"
   ]
  },
  {
   "cell_type": "code",
   "execution_count": null,
   "id": "ba96e6dc",
   "metadata": {},
   "outputs": [],
   "source": [
    "not_aligned.tail()"
   ]
  },
  {
   "cell_type": "code",
   "execution_count": null,
   "id": "44b156f1",
   "metadata": {},
   "outputs": [],
   "source": [
    "# Count how many addresses were aligned per year\n",
    "annee_aligned = aligned.groupby(by=[\"annee\"]).count()[[\"Nom\"]]\n",
    "annee_not_aligned = not_aligned.groupby(by=[\"annee\"]).count()[[\"Nom\"]]\n",
    "df_per_year = annee_aligned.join(annee_not_aligned, lsuffix='_aligned', rsuffix='_not_aligned')"
   ]
  },
  {
   "cell_type": "code",
   "execution_count": null,
   "id": "f38024ab",
   "metadata": {},
   "outputs": [],
   "source": [
    "# Calculate the ratio of aligned addresses\n",
    "df_per_year[\"ratio_aligned\"] = df_per_year[\"Nom_aligned\"] / (df_per_year[\"Nom_aligned\"]+df_per_year[\"Nom_not_aligned\"])\n",
    "df_per_year"
   ]
  },
  {
   "cell_type": "code",
   "execution_count": null,
   "id": "c9d67ae1",
   "metadata": {},
   "outputs": [],
   "source": []
  },
  {
   "cell_type": "markdown",
   "id": "3c27834e",
   "metadata": {},
   "source": [
    "## Paris Opendata - Adresses"
   ]
  },
  {
   "cell_type": "code",
   "execution_count": null,
   "id": "cc556d99",
   "metadata": {},
   "outputs": [],
   "source": [
    "adresses = pd.read_csv(\"data/opendata_adresse_paris.csv\", sep=\";\")"
   ]
  },
  {
   "cell_type": "code",
   "execution_count": null,
   "id": "f19dddde",
   "metadata": {},
   "outputs": [],
   "source": [
    "adresses.head()\n",
    "# N_SQ_VO same as with voies! "
   ]
  },
  {
   "cell_type": "code",
   "execution_count": null,
   "id": "12d3c141",
   "metadata": {},
   "outputs": [],
   "source": [
    "adresses[[\"Numéro\", \"Rue\"]] = adresses[\"L_ADR\"].str.split(\" \", 1, expand=True)\n",
    "adresses[\"Rue\"] = adresses[\"Rue\"].str.lower()\n",
    "adresses.head()"
   ]
  },
  {
   "cell_type": "code",
   "execution_count": null,
   "id": "737c602b",
   "metadata": {},
   "outputs": [],
   "source": []
  }
 ],
 "metadata": {
  "kernelspec": {
   "display_name": "Python 3 (ipykernel)",
   "language": "python",
   "name": "python3"
  },
  "language_info": {
   "codemirror_mode": {
    "name": "ipython",
    "version": 3
   },
   "file_extension": ".py",
   "mimetype": "text/x-python",
   "name": "python",
   "nbconvert_exporter": "python",
   "pygments_lexer": "ipython3",
   "version": "3.8.12"
  }
 },
 "nbformat": 4,
 "nbformat_minor": 5
}
