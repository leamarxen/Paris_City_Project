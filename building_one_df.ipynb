import pandas as pd
import geopandas as gpd

a = pd.read_pickle("data/both_dup.pkl")
