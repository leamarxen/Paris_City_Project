{
 "cells": [
  {
   "cell_type": "markdown",
   "metadata": {},
   "source": [
    "# Street processing\n"
   ]
  },
  {
   "cell_type": "markdown",
   "metadata": {},
   "source": [
    "The goal of this file is to\n",
    "* Process the 1836 dataset (finding / working with duplicate streets)\n",
    "* Define which streets belong to only one or both datasets\n",
    "* Have one final dataset containing all georeferenced streets"
   ]
  },
  {
   "cell_type": "code",
   "execution_count": 5,
   "metadata": {},
   "outputs": [],
   "source": [
    "# Imports\n",
    "import pandas as pd\n",
    "pd.options.mode.chained_assignment = None  # default='warn'\n",
    "import numpy as np\n",
    "import geopandas as gpd\n",
    "#import contextily as cx\n",
    "import matplotlib.pyplot as plt\n",
    "from shapely.ops import linemerge, Point\n",
    "import warnings\n",
    "try:\n",
    "    from shapely.errors import ShapelyDeprecationWarning\n",
    "    warnings.filterwarnings(\"ignore\", category=ShapelyDeprecationWarning) \n",
    "except:\n",
    "    print(\"Couldn't install ShapelyDeprecationWarning\")\n",
    "\n",
    "from preprocessing import preprocess\n",
    "from collections import Counter\n",
    "from duplicate_methods import duplicate_processing, duplicate_final, check_overlap"
   ]
  },
  {
   "cell_type": "code",
   "execution_count": 6,
   "metadata": {},
   "outputs": [],
   "source": [
    "# Import shapefiles\n",
    "Openparis = gpd.read_file(\"data/voie.zip\", encoding = 'utf-8')\n",
    "Vasserot = gpd.read_file(\"data/vasserot.zip\")\n",
    "\n",
    "# Set right EPSG for Geodata\n",
    "Openparis = Openparis.to_crs(epsg=3857)\n",
    "Vasserot = Vasserot.to_crs(epsg=3857)\n",
    "\n",
    "#change mistakes in streetnames\n",
    "mask = Vasserot.loc[:,\"NOM_ENTIER\"] == \"Rue Lafayette\"\n",
    "Vasserot.loc[mask,[\"NOM\",\"NOM_ENTIER\"]] = [\"la Fayette\", \"Rue la Fayette\"]\n"
   ]
  },
  {
   "cell_type": "code",
   "execution_count": 7,
   "metadata": {},
   "outputs": [
    {
     "data": {
      "text/plain": [
       "ROWID            int64\n",
       "ID_ALPAGE       object\n",
       "TYPE            object\n",
       "NOM             object\n",
       "REF_SCAN        object\n",
       "REF_SCAN2       object\n",
       "ARTICLE         object\n",
       "NOM2_SCAN2      object\n",
       "NOM_ENTIER      object\n",
       "CODE_FIAB       object\n",
       "IDENTIFI         int64\n",
       "STYLE           object\n",
       "CSS_CLASS       object\n",
       "EXTRA           object\n",
       "geometry      geometry\n",
       "dtype: object"
      ]
     },
     "execution_count": 7,
     "metadata": {},
     "output_type": "execute_result"
    }
   ],
   "source": [
    "Vasserot.dtypes"
   ]
  },
  {
   "cell_type": "markdown",
   "metadata": {},
   "source": [
    "## Preprocess streets with leas code"
   ]
  },
  {
   "cell_type": "code",
   "execution_count": 8,
   "metadata": {},
   "outputs": [
    {
     "ename": "OSError",
     "evalue": "exception: access violation reading 0x0000000000BC0575",
     "output_type": "error",
     "traceback": [
      "\u001b[1;31m---------------------------------------------------------------------------\u001b[0m",
      "\u001b[1;31mOSError\u001b[0m                                   Traceback (most recent call last)",
      "\u001b[1;32m~\\AppData\\Local\\Temp/ipykernel_18404/2670912917.py\u001b[0m in \u001b[0;36m<module>\u001b[1;34m\u001b[0m\n\u001b[0;32m     16\u001b[0m \u001b[0mbuffer\u001b[0m \u001b[1;33m=\u001b[0m \u001b[1;36m100\u001b[0m\u001b[1;33m\u001b[0m\u001b[1;33m\u001b[0m\u001b[0m\n\u001b[0;32m     17\u001b[0m \u001b[0mVasserot\u001b[0m\u001b[1;33m[\u001b[0m\u001b[1;34m\"buffer\"\u001b[0m\u001b[1;33m]\u001b[0m \u001b[1;33m=\u001b[0m \u001b[0mVasserot\u001b[0m\u001b[1;33m[\u001b[0m\u001b[1;34m\"geometry\"\u001b[0m\u001b[1;33m]\u001b[0m\u001b[1;33m.\u001b[0m\u001b[0mapply\u001b[0m\u001b[1;33m(\u001b[0m\u001b[1;32mlambda\u001b[0m \u001b[0mx\u001b[0m\u001b[1;33m:\u001b[0m \u001b[0mx\u001b[0m\u001b[1;33m.\u001b[0m\u001b[0mbuffer\u001b[0m\u001b[1;33m(\u001b[0m\u001b[0mbuffer\u001b[0m\u001b[1;33m)\u001b[0m\u001b[1;33m)\u001b[0m\u001b[1;33m\u001b[0m\u001b[1;33m\u001b[0m\u001b[0m\n\u001b[1;32m---> 18\u001b[1;33m \u001b[0mOpenparis\u001b[0m\u001b[1;33m[\u001b[0m\u001b[1;34m\"buffer\"\u001b[0m\u001b[1;33m]\u001b[0m \u001b[1;33m=\u001b[0m \u001b[0mOpenparis\u001b[0m\u001b[1;33m[\u001b[0m\u001b[1;34m\"geometry\"\u001b[0m\u001b[1;33m]\u001b[0m\u001b[1;33m.\u001b[0m\u001b[0mapply\u001b[0m\u001b[1;33m(\u001b[0m\u001b[1;32mlambda\u001b[0m \u001b[0mx\u001b[0m\u001b[1;33m:\u001b[0m \u001b[0mx\u001b[0m\u001b[1;33m.\u001b[0m\u001b[0mbuffer\u001b[0m\u001b[1;33m(\u001b[0m\u001b[0mbuffer\u001b[0m\u001b[1;33m)\u001b[0m\u001b[1;33m)\u001b[0m\u001b[1;33m\u001b[0m\u001b[1;33m\u001b[0m\u001b[0m\n\u001b[0m\u001b[0;32m     19\u001b[0m \u001b[1;33m\u001b[0m\u001b[0m\n\u001b[0;32m     20\u001b[0m \u001b[1;31m# Find all duplicates\u001b[0m\u001b[1;33m\u001b[0m\u001b[1;33m\u001b[0m\u001b[1;33m\u001b[0m\u001b[0m\n",
      "\u001b[1;32mc:\\Users\\Lea\\anaconda3\\lib\\site-packages\\geopandas\\geoseries.py\u001b[0m in \u001b[0;36mapply\u001b[1;34m(self, func, convert_dtype, args, **kwargs)\u001b[0m\n\u001b[0;32m    643\u001b[0m     \u001b[1;33m@\u001b[0m\u001b[0mdoc\u001b[0m\u001b[1;33m(\u001b[0m\u001b[0mpd\u001b[0m\u001b[1;33m.\u001b[0m\u001b[0mSeries\u001b[0m\u001b[1;33m)\u001b[0m\u001b[1;33m\u001b[0m\u001b[1;33m\u001b[0m\u001b[0m\n\u001b[0;32m    644\u001b[0m     \u001b[1;32mdef\u001b[0m \u001b[0mapply\u001b[0m\u001b[1;33m(\u001b[0m\u001b[0mself\u001b[0m\u001b[1;33m,\u001b[0m \u001b[0mfunc\u001b[0m\u001b[1;33m,\u001b[0m \u001b[0mconvert_dtype\u001b[0m\u001b[1;33m=\u001b[0m\u001b[1;32mTrue\u001b[0m\u001b[1;33m,\u001b[0m \u001b[0margs\u001b[0m\u001b[1;33m=\u001b[0m\u001b[1;33m(\u001b[0m\u001b[1;33m)\u001b[0m\u001b[1;33m,\u001b[0m \u001b[1;33m**\u001b[0m\u001b[0mkwargs\u001b[0m\u001b[1;33m)\u001b[0m\u001b[1;33m:\u001b[0m\u001b[1;33m\u001b[0m\u001b[1;33m\u001b[0m\u001b[0m\n\u001b[1;32m--> 645\u001b[1;33m         \u001b[0mresult\u001b[0m \u001b[1;33m=\u001b[0m \u001b[0msuper\u001b[0m\u001b[1;33m(\u001b[0m\u001b[1;33m)\u001b[0m\u001b[1;33m.\u001b[0m\u001b[0mapply\u001b[0m\u001b[1;33m(\u001b[0m\u001b[0mfunc\u001b[0m\u001b[1;33m,\u001b[0m \u001b[0mconvert_dtype\u001b[0m\u001b[1;33m=\u001b[0m\u001b[0mconvert_dtype\u001b[0m\u001b[1;33m,\u001b[0m \u001b[0margs\u001b[0m\u001b[1;33m=\u001b[0m\u001b[0margs\u001b[0m\u001b[1;33m,\u001b[0m \u001b[1;33m**\u001b[0m\u001b[0mkwargs\u001b[0m\u001b[1;33m)\u001b[0m\u001b[1;33m\u001b[0m\u001b[1;33m\u001b[0m\u001b[0m\n\u001b[0m\u001b[0;32m    646\u001b[0m         \u001b[1;32mif\u001b[0m \u001b[0misinstance\u001b[0m\u001b[1;33m(\u001b[0m\u001b[0mresult\u001b[0m\u001b[1;33m,\u001b[0m \u001b[0mGeoSeries\u001b[0m\u001b[1;33m)\u001b[0m\u001b[1;33m:\u001b[0m\u001b[1;33m\u001b[0m\u001b[1;33m\u001b[0m\u001b[0m\n\u001b[0;32m    647\u001b[0m             \u001b[1;32mif\u001b[0m \u001b[0mself\u001b[0m\u001b[1;33m.\u001b[0m\u001b[0mcrs\u001b[0m \u001b[1;32mis\u001b[0m \u001b[1;32mnot\u001b[0m \u001b[1;32mNone\u001b[0m\u001b[1;33m:\u001b[0m\u001b[1;33m\u001b[0m\u001b[1;33m\u001b[0m\u001b[0m\n",
      "\u001b[1;32mc:\\Users\\Lea\\anaconda3\\lib\\site-packages\\pandas\\core\\series.py\u001b[0m in \u001b[0;36mapply\u001b[1;34m(self, func, convert_dtype, args, **kwargs)\u001b[0m\n\u001b[0;32m   4355\u001b[0m         \u001b[0mdtype\u001b[0m\u001b[1;33m:\u001b[0m \u001b[0mfloat64\u001b[0m\u001b[1;33m\u001b[0m\u001b[1;33m\u001b[0m\u001b[0m\n\u001b[0;32m   4356\u001b[0m         \"\"\"\n\u001b[1;32m-> 4357\u001b[1;33m         \u001b[1;32mreturn\u001b[0m \u001b[0mSeriesApply\u001b[0m\u001b[1;33m(\u001b[0m\u001b[0mself\u001b[0m\u001b[1;33m,\u001b[0m \u001b[0mfunc\u001b[0m\u001b[1;33m,\u001b[0m \u001b[0mconvert_dtype\u001b[0m\u001b[1;33m,\u001b[0m \u001b[0margs\u001b[0m\u001b[1;33m,\u001b[0m \u001b[0mkwargs\u001b[0m\u001b[1;33m)\u001b[0m\u001b[1;33m.\u001b[0m\u001b[0mapply\u001b[0m\u001b[1;33m(\u001b[0m\u001b[1;33m)\u001b[0m\u001b[1;33m\u001b[0m\u001b[1;33m\u001b[0m\u001b[0m\n\u001b[0m\u001b[0;32m   4358\u001b[0m \u001b[1;33m\u001b[0m\u001b[0m\n\u001b[0;32m   4359\u001b[0m     def _reduce(\n",
      "\u001b[1;32mc:\\Users\\Lea\\anaconda3\\lib\\site-packages\\pandas\\core\\apply.py\u001b[0m in \u001b[0;36mapply\u001b[1;34m(self)\u001b[0m\n\u001b[0;32m   1041\u001b[0m             \u001b[1;32mreturn\u001b[0m \u001b[0mself\u001b[0m\u001b[1;33m.\u001b[0m\u001b[0mapply_str\u001b[0m\u001b[1;33m(\u001b[0m\u001b[1;33m)\u001b[0m\u001b[1;33m\u001b[0m\u001b[1;33m\u001b[0m\u001b[0m\n\u001b[0;32m   1042\u001b[0m \u001b[1;33m\u001b[0m\u001b[0m\n\u001b[1;32m-> 1043\u001b[1;33m         \u001b[1;32mreturn\u001b[0m \u001b[0mself\u001b[0m\u001b[1;33m.\u001b[0m\u001b[0mapply_standard\u001b[0m\u001b[1;33m(\u001b[0m\u001b[1;33m)\u001b[0m\u001b[1;33m\u001b[0m\u001b[1;33m\u001b[0m\u001b[0m\n\u001b[0m\u001b[0;32m   1044\u001b[0m \u001b[1;33m\u001b[0m\u001b[0m\n\u001b[0;32m   1045\u001b[0m     \u001b[1;32mdef\u001b[0m \u001b[0magg\u001b[0m\u001b[1;33m(\u001b[0m\u001b[0mself\u001b[0m\u001b[1;33m)\u001b[0m\u001b[1;33m:\u001b[0m\u001b[1;33m\u001b[0m\u001b[1;33m\u001b[0m\u001b[0m\n",
      "\u001b[1;32mc:\\Users\\Lea\\anaconda3\\lib\\site-packages\\pandas\\core\\apply.py\u001b[0m in \u001b[0;36mapply_standard\u001b[1;34m(self)\u001b[0m\n\u001b[0;32m   1096\u001b[0m                 \u001b[1;31m# List[Union[Callable[..., Any], str]]]]]\"; expected\u001b[0m\u001b[1;33m\u001b[0m\u001b[1;33m\u001b[0m\u001b[1;33m\u001b[0m\u001b[0m\n\u001b[0;32m   1097\u001b[0m                 \u001b[1;31m# \"Callable[[Any], Any]\"\u001b[0m\u001b[1;33m\u001b[0m\u001b[1;33m\u001b[0m\u001b[1;33m\u001b[0m\u001b[0m\n\u001b[1;32m-> 1098\u001b[1;33m                 mapped = lib.map_infer(\n\u001b[0m\u001b[0;32m   1099\u001b[0m                     \u001b[0mvalues\u001b[0m\u001b[1;33m,\u001b[0m\u001b[1;33m\u001b[0m\u001b[1;33m\u001b[0m\u001b[0m\n\u001b[0;32m   1100\u001b[0m                     \u001b[0mf\u001b[0m\u001b[1;33m,\u001b[0m  \u001b[1;31m# type: ignore[arg-type]\u001b[0m\u001b[1;33m\u001b[0m\u001b[1;33m\u001b[0m\u001b[0m\n",
      "\u001b[1;32mc:\\Users\\Lea\\anaconda3\\lib\\site-packages\\pandas\\_libs\\lib.pyx\u001b[0m in \u001b[0;36mpandas._libs.lib.map_infer\u001b[1;34m()\u001b[0m\n",
      "\u001b[1;32m~\\AppData\\Local\\Temp/ipykernel_18404/2670912917.py\u001b[0m in \u001b[0;36m<lambda>\u001b[1;34m(x)\u001b[0m\n\u001b[0;32m     16\u001b[0m \u001b[0mbuffer\u001b[0m \u001b[1;33m=\u001b[0m \u001b[1;36m100\u001b[0m\u001b[1;33m\u001b[0m\u001b[1;33m\u001b[0m\u001b[0m\n\u001b[0;32m     17\u001b[0m \u001b[0mVasserot\u001b[0m\u001b[1;33m[\u001b[0m\u001b[1;34m\"buffer\"\u001b[0m\u001b[1;33m]\u001b[0m \u001b[1;33m=\u001b[0m \u001b[0mVasserot\u001b[0m\u001b[1;33m[\u001b[0m\u001b[1;34m\"geometry\"\u001b[0m\u001b[1;33m]\u001b[0m\u001b[1;33m.\u001b[0m\u001b[0mapply\u001b[0m\u001b[1;33m(\u001b[0m\u001b[1;32mlambda\u001b[0m \u001b[0mx\u001b[0m\u001b[1;33m:\u001b[0m \u001b[0mx\u001b[0m\u001b[1;33m.\u001b[0m\u001b[0mbuffer\u001b[0m\u001b[1;33m(\u001b[0m\u001b[0mbuffer\u001b[0m\u001b[1;33m)\u001b[0m\u001b[1;33m)\u001b[0m\u001b[1;33m\u001b[0m\u001b[1;33m\u001b[0m\u001b[0m\n\u001b[1;32m---> 18\u001b[1;33m \u001b[0mOpenparis\u001b[0m\u001b[1;33m[\u001b[0m\u001b[1;34m\"buffer\"\u001b[0m\u001b[1;33m]\u001b[0m \u001b[1;33m=\u001b[0m \u001b[0mOpenparis\u001b[0m\u001b[1;33m[\u001b[0m\u001b[1;34m\"geometry\"\u001b[0m\u001b[1;33m]\u001b[0m\u001b[1;33m.\u001b[0m\u001b[0mapply\u001b[0m\u001b[1;33m(\u001b[0m\u001b[1;32mlambda\u001b[0m \u001b[0mx\u001b[0m\u001b[1;33m:\u001b[0m \u001b[0mx\u001b[0m\u001b[1;33m.\u001b[0m\u001b[0mbuffer\u001b[0m\u001b[1;33m(\u001b[0m\u001b[0mbuffer\u001b[0m\u001b[1;33m)\u001b[0m\u001b[1;33m)\u001b[0m\u001b[1;33m\u001b[0m\u001b[1;33m\u001b[0m\u001b[0m\n\u001b[0m\u001b[0;32m     19\u001b[0m \u001b[1;33m\u001b[0m\u001b[0m\n\u001b[0;32m     20\u001b[0m \u001b[1;31m# Find all duplicates\u001b[0m\u001b[1;33m\u001b[0m\u001b[1;33m\u001b[0m\u001b[1;33m\u001b[0m\u001b[0m\n",
      "\u001b[1;32mc:\\Users\\Lea\\anaconda3\\lib\\site-packages\\shapely\\geometry\\base.py\u001b[0m in \u001b[0;36mbuffer\u001b[1;34m(self, distance, resolution, quadsegs, cap_style, join_style, mitre_limit, single_sided)\u001b[0m\n\u001b[0;32m    634\u001b[0m                 \u001b[0mself\u001b[0m\u001b[1;33m.\u001b[0m\u001b[0m_lgeos\u001b[0m\u001b[1;33m.\u001b[0m\u001b[0mGEOSBufferParams_setQuadrantSegments\u001b[0m\u001b[1;33m(\u001b[0m\u001b[0mparams\u001b[0m\u001b[1;33m,\u001b[0m \u001b[0mres\u001b[0m\u001b[1;33m)\u001b[0m\u001b[1;33m\u001b[0m\u001b[1;33m\u001b[0m\u001b[0m\n\u001b[0;32m    635\u001b[0m                 \u001b[0mself\u001b[0m\u001b[1;33m.\u001b[0m\u001b[0m_lgeos\u001b[0m\u001b[1;33m.\u001b[0m\u001b[0mGEOSBufferParams_setSingleSided\u001b[0m\u001b[1;33m(\u001b[0m\u001b[0mparams\u001b[0m\u001b[1;33m,\u001b[0m \u001b[0msingle_sided\u001b[0m\u001b[1;33m)\u001b[0m\u001b[1;33m\u001b[0m\u001b[1;33m\u001b[0m\u001b[0m\n\u001b[1;32m--> 636\u001b[1;33m                 \u001b[1;32mreturn\u001b[0m \u001b[0mgeom_factory\u001b[0m\u001b[1;33m(\u001b[0m\u001b[0mself\u001b[0m\u001b[1;33m.\u001b[0m\u001b[0mimpl\u001b[0m\u001b[1;33m[\u001b[0m\u001b[1;34m'buffer_with_params'\u001b[0m\u001b[1;33m]\u001b[0m\u001b[1;33m(\u001b[0m\u001b[0mself\u001b[0m\u001b[1;33m,\u001b[0m \u001b[0mparams\u001b[0m\u001b[1;33m,\u001b[0m \u001b[0mdistance\u001b[0m\u001b[1;33m)\u001b[0m\u001b[1;33m)\u001b[0m\u001b[1;33m\u001b[0m\u001b[1;33m\u001b[0m\u001b[0m\n\u001b[0m\u001b[0;32m    637\u001b[0m             \u001b[1;32mfinally\u001b[0m\u001b[1;33m:\u001b[0m\u001b[1;33m\u001b[0m\u001b[1;33m\u001b[0m\u001b[0m\n\u001b[0;32m    638\u001b[0m                 \u001b[1;32mif\u001b[0m \u001b[0mparams\u001b[0m\u001b[1;33m:\u001b[0m\u001b[1;33m\u001b[0m\u001b[1;33m\u001b[0m\u001b[0m\n",
      "\u001b[1;32mc:\\Users\\Lea\\anaconda3\\lib\\site-packages\\shapely\\topology.py\u001b[0m in \u001b[0;36m__call__\u001b[1;34m(self, this, *args)\u001b[0m\n\u001b[0;32m     79\u001b[0m     \u001b[1;32mdef\u001b[0m \u001b[0m__call__\u001b[0m\u001b[1;33m(\u001b[0m\u001b[0mself\u001b[0m\u001b[1;33m,\u001b[0m \u001b[0mthis\u001b[0m\u001b[1;33m,\u001b[0m \u001b[1;33m*\u001b[0m\u001b[0margs\u001b[0m\u001b[1;33m)\u001b[0m\u001b[1;33m:\u001b[0m\u001b[1;33m\u001b[0m\u001b[1;33m\u001b[0m\u001b[0m\n\u001b[0;32m     80\u001b[0m         \u001b[0mself\u001b[0m\u001b[1;33m.\u001b[0m\u001b[0m_validate\u001b[0m\u001b[1;33m(\u001b[0m\u001b[0mthis\u001b[0m\u001b[1;33m)\u001b[0m\u001b[1;33m\u001b[0m\u001b[1;33m\u001b[0m\u001b[0m\n\u001b[1;32m---> 81\u001b[1;33m         \u001b[1;32mreturn\u001b[0m \u001b[0mself\u001b[0m\u001b[1;33m.\u001b[0m\u001b[0mfn\u001b[0m\u001b[1;33m(\u001b[0m\u001b[0mthis\u001b[0m\u001b[1;33m.\u001b[0m\u001b[0m_geom\u001b[0m\u001b[1;33m,\u001b[0m \u001b[1;33m*\u001b[0m\u001b[0margs\u001b[0m\u001b[1;33m)\u001b[0m\u001b[1;33m\u001b[0m\u001b[1;33m\u001b[0m\u001b[0m\n\u001b[0m",
      "\u001b[1;31mOSError\u001b[0m: exception: access violation reading 0x0000000000BC0575"
     ]
    }
   ],
   "source": [
    "Openparis = preprocess(Openparis, \"l_longmin\")\n",
    "Vasserot = preprocess(Vasserot, \"NOM_ENTIER\")\n",
    "\n",
    "# TODO Rename those streets\n",
    "Vasserot[\"voie\"] = Vasserot[\"NOM_ENTIER_prep\"]\n",
    "Openparis[\"voie\"] = Openparis[\"l_longmin_prep\"]\n",
    "\n",
    "# Remove empty lines\n",
    "Vasserot = Vasserot.dropna(subset=[\"voie\"])\n",
    "\n",
    "# Add year\n",
    "Vasserot = Vasserot.assign(year= [[1836]]*len(Vasserot))\n",
    "Openparis = Openparis.assign(year= [[2022]]*len(Openparis))\n",
    "\n",
    "# create buffer around streets, important for merging duplicate streets\n",
    "buffer = 100\n",
    "Vasserot[\"buffer\"] = Vasserot[\"geometry\"].apply(lambda x: x.buffer(buffer))\n",
    "Openparis[\"buffer\"] = Openparis[\"geometry\"].apply(lambda x: x.buffer(buffer))\n",
    "\n",
    "# Find all duplicates\n",
    "Duplicates = Vasserot[Vasserot.duplicated(subset=['voie'], keep=False)].sort_values(\"voie\")\n",
    "Unique = Vasserot[~Vasserot.duplicated(subset=['voie'], keep=False)].sort_values(\"voie\")\n"
   ]
  },
  {
   "cell_type": "markdown",
   "metadata": {},
   "source": [
    "\n",
    "## Process 1836 streets"
   ]
  },
  {
   "cell_type": "markdown",
   "metadata": {},
   "source": [
    "### Duplicate work"
   ]
  },
  {
   "cell_type": "markdown",
   "metadata": {},
   "source": [
    "#### Merge duplicates if close (\"Overlapping\" streets)"
   ]
  },
  {
   "cell_type": "code",
   "execution_count": null,
   "metadata": {},
   "outputs": [],
   "source": [
    "DuplicatesProcessed = duplicate_processing(Duplicates, \"voie\")\n",
    "\n",
    "# Sanity check if all streetnames are in the newly created dataframe\n",
    "#len(Duplicates[\"voie\"].unique()) == DuplicatesProcessed[\"voie\"].unique()))"
   ]
  },
  {
   "cell_type": "code",
   "execution_count": null,
   "metadata": {},
   "outputs": [],
   "source": [
    "DuplicatesProcessed = gpd.GeoDataFrame(DuplicatesProcessed)"
   ]
  },
  {
   "cell_type": "code",
   "execution_count": null,
   "metadata": {},
   "outputs": [],
   "source": [
    "freqs = Counter(Duplicates[\"voie\"].value_counts())\n",
    "plt.bar(freqs.keys(), freqs.values(), width = 0.9)\n",
    "freqs = Counter(DuplicatesProcessed[\"voie\"].value_counts())\n",
    "plt.bar(freqs.keys(), freqs.values(), width = 0.9)\n",
    "plt.show()\n",
    "\n",
    "print(\"Duplicates before: \", sum(Duplicates[\"voie\"].value_counts()>1))\n",
    "print(\"Duplicates after: \", sum(DuplicatesProcessed[\"voie\"].value_counts()>1))"
   ]
  },
  {
   "cell_type": "code",
   "execution_count": null,
   "metadata": {},
   "outputs": [],
   "source": [
    "StillDuplicates = DuplicatesProcessed[DuplicatesProcessed.duplicated(subset=['voie'], keep=False)].sort_values(\"voie\")\n",
    "NewlyUnique = DuplicatesProcessed[~DuplicatesProcessed.duplicated(subset=['voie'], keep=False)].sort_values(\"voie\")\n",
    "# Adding newly unique streets\n",
    "Unique = pd.concat([Unique, NewlyUnique])"
   ]
  },
  {
   "cell_type": "markdown",
   "metadata": {},
   "source": [
    "#### Visualizing Streets that are still duplicates"
   ]
  },
  {
   "cell_type": "code",
   "execution_count": null,
   "metadata": {},
   "outputs": [],
   "source": [
    "# Needed in order to visualize results\n",
    "StillDuplicates = StillDuplicates.drop(columns=[\"buffer\"])"
   ]
  },
  {
   "cell_type": "code",
   "execution_count": null,
   "metadata": {},
   "outputs": [],
   "source": [
    "# Select Street to visualize\n",
    "a = StillDuplicates[\"voie\"].value_counts()[StillDuplicates[\"voie\"].value_counts()>=2]\n",
    "Trueduplicates = a.index\n",
    "mask = StillDuplicates[\"voie\"] == Trueduplicates[8]\n",
    "# Visualize\n",
    "#StillDuplicates[mask].explore()\n",
    "StillDuplicates.explore()"
   ]
  },
  {
   "cell_type": "markdown",
   "metadata": {},
   "source": [
    " \n",
    "## Find matching streets of both datasets\n"
   ]
  },
  {
   "cell_type": "markdown",
   "metadata": {},
   "source": [
    "#### Preparing Vasserot and Openparis dataframe for final comparison"
   ]
  },
  {
   "cell_type": "code",
   "execution_count": null,
   "metadata": {},
   "outputs": [],
   "source": [
    "Unique.head(3)"
   ]
  },
  {
   "cell_type": "code",
   "execution_count": null,
   "metadata": {},
   "outputs": [],
   "source": [
    "# Unique from Vasserot DF\n",
    "Unique = Unique.iloc[:,[0,2,3,6,8,14,16,17,18]]\n",
    "Unique = Unique.rename(columns={\"ROWID\":\"rowid\", \"NOM_ENTIER\":\"streetname\",\"TYPE\":\"type\",\"ARTICLE\":\"article\",\"NOM\":\"name\", \"voie\":\"streetname_prep\"})\n",
    "Unique = Unique.assign(matching = [[]] * len(Unique))"
   ]
  },
  {
   "cell_type": "code",
   "execution_count": null,
   "metadata": {},
   "outputs": [],
   "source": [
    "Openparis.head(3)"
   ]
  },
  {
   "cell_type": "code",
   "execution_count": null,
   "metadata": {},
   "outputs": [],
   "source": [
    "# Uniques from Openparis DF\n",
    "Openparis = Openparis.iloc[:,[2,3,4,5,6,15,17,18,19]]\n",
    "Openparis = Openparis.rename(columns={\"l_longmin\": \"streetname\",\"c_desi\":\"type\",\"c_liaison\":\"article\",\"l_voie\":\"name\",\"l_courtmin\":\"streetname_short\",\"voie\":\"streetname_prep\"})\n",
    "# assign random rowid to Openparis data because they dont have them\n",
    "Openparis = Openparis.assign(rowid = np.random.randint(7000, 200000, size=len(Openparis)))\n",
    "Openparis = Openparis.assign(matching = [[]] * len(Openparis))\n",
    "\n",
    "Merged = pd.concat([Unique, Openparis])\n",
    "Merged\n"
   ]
  },
  {
   "cell_type": "code",
   "execution_count": null,
   "metadata": {},
   "outputs": [],
   "source": [
    "MergedProcessed = duplicate_final(Merged, \"streetname_prep\")"
   ]
  },
  {
   "cell_type": "code",
   "execution_count": null,
   "metadata": {},
   "outputs": [],
   "source": [
    "MergedProcessed = preprocess(MergedProcessed, \"name\")"
   ]
  },
  {
   "cell_type": "code",
   "execution_count": null,
   "metadata": {},
   "outputs": [],
   "source": [
    "MergedProcessed.head(3)"
   ]
  },
  {
   "cell_type": "code",
   "execution_count": null,
   "metadata": {},
   "outputs": [],
   "source": [
    "FinalDuplicates = MergedProcessed[MergedProcessed.duplicated(subset=['streetname_prep'], keep=False)].sort_values(\"streetname_prep\")\n",
    "FinalUnique= MergedProcessed[~MergedProcessed.duplicated(subset=['streetname_prep'], keep=False)].sort_values(\"streetname_prep\")\n"
   ]
  },
  {
   "cell_type": "code",
   "execution_count": null,
   "metadata": {},
   "outputs": [],
   "source": [
    "max(FinalUnique[\"streetname_prep\"].value_counts())\n",
    "FinalDuplicates\n",
    "#UniqueProcessed[\"year\"][800:900]\n"
   ]
  },
  {
   "cell_type": "code",
   "execution_count": null,
   "metadata": {},
   "outputs": [],
   "source": [
    "FinalDuplicates= FinalDuplicates.drop(columns=[\"buffer\"])\n",
    "FinalDuplicates.explore()"
   ]
  },
  {
   "cell_type": "code",
   "execution_count": null,
   "metadata": {},
   "outputs": [],
   "source": [
    "FinalUnique[\"geometry\"].explore()"
   ]
  },
  {
   "attachments": {},
   "cell_type": "markdown",
   "metadata": {},
   "source": [
    "# Saving Dataframes"
   ]
  },
  {
   "cell_type": "code",
   "execution_count": null,
   "metadata": {},
   "outputs": [],
   "source": [
    "FinalUnique = FinalUnique.convert_dtypes()\n",
    "FinalDuplicates = FinalDuplicates.convert_dtypes()\n",
    "\n",
    "FinalUnique.to_pickle(\"data/FinalUnique.pkl\")\n",
    "FinalDuplicates.to_pickle(\"data/FinalDuplicate.pkl\")\n"
   ]
  },
  {
   "attachments": {},
   "cell_type": "markdown",
   "metadata": {},
   "source": [
    "grouping on short streetnames "
   ]
  },
  {
   "cell_type": "code",
   "execution_count": null,
   "metadata": {},
   "outputs": [],
   "source": [
    "# group streets based on their short name\n",
    "grouped_streets = FinalUnique.groupby(\"name_prep\", as_index=False).agg({\"streetname\": \", \".join, \n",
    "        \"geometry\": list, \"year\": list, \"rowid\": list, \"name\": \"first\", \"buffer\":list})\n",
    "\n",
    "# split streets in those that are unique and those that aren't\n",
    "unique_short_streets = grouped_streets[grouped_streets['buffer'].str.len() == 1]\n",
    "unique_short_streets[[\"year\", \"geometry\", \"rowid\", \"buffer\"]] = unique_short_streets[[\"year\", \"geometry\", \"rowid\", \"buffer\"]].apply(lambda x: x.str[0])\n",
    "multiple_short_streets = grouped_streets[grouped_streets['buffer'].str.len() > 1]\n",
    "\n",
    "print(f\"#streets with unique short streetname: {len(unique_short_streets)}, not unique: {len(multiple_short_streets)}\")\n",
    "unique_short_streets.tail()"
   ]
  },
  {
   "cell_type": "code",
   "execution_count": null,
   "metadata": {},
   "outputs": [],
   "source": [
    "multiple_short_streets[\"all_overlap\"] = multiple_short_streets[\"buffer\"].apply(check_overlap)\n",
    "# divide data in overlapping and not overlapping\n",
    "overlap = multiple_short_streets[multiple_short_streets[\"all_overlap\"]==True]\n",
    "no_overlap = multiple_short_streets[multiple_short_streets[\"all_overlap\"]==False]"
   ]
  },
  {
   "cell_type": "code",
   "execution_count": null,
   "metadata": {},
   "outputs": [],
   "source": [
    "#check if type of streets differ in the overlapping/non overlapping datasets\n",
    "overlap_prefixes = [tuple([street.split()[0] for street in street_list]) for street_list in overlap.streetname.str.split(\", \")]\n",
    "print(\"overlapping top 10:\\n\", Counter(overlap_prefixes).most_common(10))\n",
    "\n",
    "no_overlap_prefixes = [tuple([street.split()[0] for street in street_list]) for street_list in no_overlap.streetname.str.split(\", \")]\n",
    "print(\"\\nNon-overlapping top 10:\\n\",Counter(no_overlap_prefixes).most_common(10))\n",
    "\n",
    "# -> they do not differ a lot"
   ]
  },
  {
   "cell_type": "code",
   "execution_count": null,
   "metadata": {},
   "outputs": [],
   "source": [
    "print(\"#overlapping streets:\", len(overlap), \"\\n#not overlapping streets:\", len(no_overlap),\n",
    "        \"\\nratio of overlapping/all =\", len(overlap)/len(multiple_short_streets))"
   ]
  },
  {
   "cell_type": "code",
   "execution_count": null,
   "metadata": {},
   "outputs": [],
   "source": [
    "# merge geometry of overlapping streets and drop \"all_overlap\" column\n",
    "overlap[\"geometry\"] = overlap[\"geometry\"].apply(lambda row: gpd.GeoSeries(row).unary_union)\n",
    "overlap.drop(columns=\"all_overlap\", inplace=True)\n",
    "\n",
    "# append overlapping streets to unique_short_streets\n",
    "unique_short_streets = pd.concat([unique_short_streets, overlap])\n",
    "# update non_unique_short_streets\n",
    "non_unique_short_streets = no_overlap.drop(columns=\"all_overlap\")"
   ]
  },
  {
   "attachments": {},
   "cell_type": "markdown",
   "metadata": {},
   "source": [
    "## save short streetdata"
   ]
  },
  {
   "cell_type": "code",
   "execution_count": null,
   "metadata": {},
   "outputs": [],
   "source": [
    "unique_short_streets.to_pickle(\"data/unique_short_streets.pkl\")\n",
    "# multiple_short_streets will be neglected further on\n",
    "multiple_short_streets.to_pickle(\"data/not_unique_short_streets.pkl\")"
   ]
  }
 ],
 "metadata": {
  "kernelspec": {
   "display_name": "base",
   "language": "python",
   "name": "python3"
  },
  "language_info": {
   "codemirror_mode": {
    "name": "ipython",
    "version": 3
   },
   "file_extension": ".py",
   "mimetype": "text/x-python",
   "name": "python",
   "nbconvert_exporter": "python",
   "pygments_lexer": "ipython3",
   "version": "3.8.12"
  },
  "orig_nbformat": 4,
  "vscode": {
   "interpreter": {
    "hash": "098a0dd3104dda9245e32bc4140980e8acec008f0fd7b1a1afbd38055ea17b26"
   }
  }
 },
 "nbformat": 4,
 "nbformat_minor": 2
}
