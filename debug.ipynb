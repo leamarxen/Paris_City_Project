{
 "cells": [
  {
   "cell_type": "code",
   "execution_count": null,
   "metadata": {},
   "outputs": [],
   "source": [
    "# Imports\n",
    "import pandas as pd\n",
    "pd.options.mode.chained_assignment = None  # default='warn'\n",
    "import numpy as np\n",
    "import geopandas as gpd\n",
    "import contextily as cx\n",
    "import matplotlib.pyplot as plt\n",
    "from shapely.ops import linemerge, Point\n",
    "from shapely.errors import ShapelyDeprecationWarning\n",
    "import warnings\n",
    "import pickle\n",
    "warnings.filterwarnings(\"ignore\", category=ShapelyDeprecationWarning) \n",
    "#from importnb import Notebook\n",
    "from preprocessing import preprocess\n",
    "from collections import Counter\n",
    "from duplicate_methods import duplicate_processing, duplicate_final, assign_gridnumber, translate_geopoints\n",
    "import pyproj"
   ]
  },
  {
   "cell_type": "code",
   "execution_count": null,
   "metadata": {},
   "outputs": [],
   "source": [
    "FinalUnique = pd.read_pickle(\"data/FinalUnique.pkl\")\n",
    "FinalUnique = gpd.GeoDataFrame(FinalUnique, geometry = \"geometry\") \n",
    "FinalUnique = FinalUnique.drop(columns=[\"buffer\", \"filter\"])"
   ]
  },
  {
   "cell_type": "code",
   "execution_count": null,
   "metadata": {},
   "outputs": [],
   "source": [
    "FinalUnique.dtypes"
   ]
  },
  {
   "cell_type": "code",
   "execution_count": null,
   "metadata": {},
   "outputs": [],
   "source": [
    "FinalUnique.iloc[:,0] = pd.to_numeric( FinalUnique.iloc[:,0], downcast='integer')"
   ]
  },
  {
   "cell_type": "code",
   "execution_count": null,
   "metadata": {},
   "outputs": [],
   "source": [
    "type(FinalUnique.iloc[1,0])"
   ]
  },
  {
   "cell_type": "code",
   "execution_count": null,
   "metadata": {},
   "outputs": [],
   "source": [
    "tst = FinalUnique.convert_dtypes()\n",
    "tst.dtypes"
   ]
  },
  {
   "cell_type": "markdown",
   "metadata": {},
   "source": []
  },
  {
   "cell_type": "code",
   "execution_count": null,
   "metadata": {},
   "outputs": [],
   "source": [
    "mask = FinalUnique.loc[:,\"streetname_prep\"].str.contains(\"fayette\")\n",
    "FinalUnique.loc[mask,:] "
   ]
  },
  {
   "cell_type": "code",
   "execution_count": null,
   "metadata": {},
   "outputs": [],
   "source": [
    "#FinalUnique.drop(columns=[\"year\", \"matching\"]).explore()"
   ]
  },
  {
   "cell_type": "code",
   "execution_count": null,
   "metadata": {},
   "outputs": [],
   "source": [
    "long = [[2.347437, 48.855],[2.364542,48.862552]]\n",
    "lat = [2.347437]"
   ]
  },
  {
   "cell_type": "code",
   "execution_count": null,
   "metadata": {},
   "outputs": [],
   "source": [
    "a = translate_geopoints(long)\n",
    "abc = FinalUnique.head(2)\n",
    "abc[\"centroid\"] = abc.centroid\n",
    "#assign_gridnumber(abc,a)\n",
    "#row = abc.iloc[0,:]\n",
    "#row[\"centroid\"]\n",
    "abc.apply(lambda x: print(x.type))"
   ]
  }
 ],
 "metadata": {
  "kernelspec": {
   "display_name": "paris",
   "language": "python",
   "name": "python3"
  },
  "language_info": {
   "codemirror_mode": {
    "name": "ipython",
    "version": 3
   },
   "file_extension": ".py",
   "mimetype": "text/x-python",
   "name": "python",
   "nbconvert_exporter": "python",
   "pygments_lexer": "ipython3",
   "version": "3.10.6"
  },
  "orig_nbformat": 4,
  "vscode": {
   "interpreter": {
    "hash": "7c2682987f00c8c803475925d827e887daeba32793bd1ae3ff6e12f2969d73b4"
   }
  }
 },
 "nbformat": 4,
 "nbformat_minor": 2
}
