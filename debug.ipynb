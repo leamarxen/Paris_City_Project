{
 "cells": [
  {
   "cell_type": "code",
   "execution_count": 1,
   "metadata": {},
   "outputs": [],
   "source": [
    "# Imports\n",
    "import pandas as pd\n",
    "pd.options.mode.chained_assignment = None  # default='warn'\n",
    "import numpy as np\n",
    "import geopandas as gpd\n",
    "import contextily as cx\n",
    "import matplotlib.pyplot as plt\n",
    "from shapely.ops import linemerge, Point\n",
    "from shapely.errors import ShapelyDeprecationWarning\n",
    "import warnings\n",
    "warnings.filterwarnings(\"ignore\", category=ShapelyDeprecationWarning) \n",
    "#from importnb import Notebook\n",
    "from preprocessing import preprocess\n",
    "from collections import Counter\n",
    "from duplicate_methods import duplicate_processing, duplicate_final"
   ]
  },
  {
   "cell_type": "code",
   "execution_count": 2,
   "metadata": {},
   "outputs": [],
   "source": [
    "FinalUnique = pd.read_pickle(\"data/FinalUnique.pkl\")  "
   ]
  },
  {
   "cell_type": "code",
   "execution_count": 3,
   "metadata": {},
   "outputs": [
    {
     "data": {
      "text/html": [
       "<div>\n",
       "<style scoped>\n",
       "    .dataframe tbody tr th:only-of-type {\n",
       "        vertical-align: middle;\n",
       "    }\n",
       "\n",
       "    .dataframe tbody tr th {\n",
       "        vertical-align: top;\n",
       "    }\n",
       "\n",
       "    .dataframe thead th {\n",
       "        text-align: right;\n",
       "    }\n",
       "</style>\n",
       "<table border=\"1\" class=\"dataframe\">\n",
       "  <thead>\n",
       "    <tr style=\"text-align: right;\">\n",
       "      <th></th>\n",
       "      <th>streetname_prep</th>\n",
       "      <th>year</th>\n",
       "    </tr>\n",
       "  </thead>\n",
       "  <tbody>\n",
       "    <tr>\n",
       "      <th>3259</th>\n",
       "      <td>rue la fayette</td>\n",
       "      <td>[1836, 1836, 1836, 1836, 1836, 1836, 2022]</td>\n",
       "    </tr>\n",
       "  </tbody>\n",
       "</table>\n",
       "</div>"
      ],
      "text/plain": [
       "     streetname_prep                                        year\n",
       "3259  rue la fayette  [1836, 1836, 1836, 1836, 1836, 1836, 2022]"
      ]
     },
     "execution_count": 3,
     "metadata": {},
     "output_type": "execute_result"
    }
   ],
   "source": [
    "mask = FinalUnique.loc[:,\"streetname_prep\"].str.contains(\"fayette\")\n",
    "FinalUnique.loc[mask,[\"streetname_prep\",\"year\"]] "
   ]
  }
 ],
 "metadata": {
  "kernelspec": {
   "display_name": "paris",
   "language": "python",
   "name": "python3"
  },
  "language_info": {
   "codemirror_mode": {
    "name": "ipython",
    "version": 3
   },
   "file_extension": ".py",
   "mimetype": "text/x-python",
   "name": "python",
   "nbconvert_exporter": "python",
   "pygments_lexer": "ipython3",
   "version": "3.10.6 | packaged by conda-forge | (main, Oct  7 2022, 20:14:50) [MSC v.1916 64 bit (AMD64)]"
  },
  "orig_nbformat": 4,
  "vscode": {
   "interpreter": {
    "hash": "7c2682987f00c8c803475925d827e887daeba32793bd1ae3ff6e12f2969d73b4"
   }
  }
 },
 "nbformat": 4,
 "nbformat_minor": 2
}
