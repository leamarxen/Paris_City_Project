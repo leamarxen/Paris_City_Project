{
 "cells": [
  {
   "cell_type": "markdown",
   "id": "2a3e0df8",
   "metadata": {},
   "source": [
    "# Preprocessing"
   ]
  },
  {
   "cell_type": "markdown",
   "id": "b2247239",
   "metadata": {},
   "source": [
    "## Libraries"
   ]
  },
  {
   "cell_type": "code",
   "execution_count": 43,
   "id": "ebeee2d3",
   "metadata": {},
   "outputs": [],
   "source": [
    "import pandas as pd\n",
    "import geopandas as gpd\n",
    "from collections import Counter\n",
    "\n",
    "from preprocessing import preprocess, substitute_col_by_dict\n",
    "\n",
    "import warnings\n",
    "#from shapely.errors import ShapelyDeprecationWarning\n",
    "#warnings.filterwarnings(\"ignore\", category=ShapelyDeprecationWarning) "
   ]
  },
  {
   "cell_type": "markdown",
   "id": "c3fe9e04",
   "metadata": {},
   "source": [
    "## Create a Prefix Dictionary \n",
    "### (with help of Paris Opendata dataset)"
   ]
  },
  {
   "cell_type": "code",
   "execution_count": 44,
   "id": "76219d30",
   "metadata": {},
   "outputs": [],
   "source": [
    "#import the paris opendata dataset\n",
    "voies = pd.read_csv(\"data/opendata_voie_paris.csv\", sep=\";\")\n",
    "\n",
    "#apply preprocessing to voies\n",
    "#three different names for the streetnames\n",
    "#example: L_VOIE: Malmaisons; L_COURTMIN: R. des Malmaisons; L_LONGMIN: Rue des Malmaisons\n",
    "voies = preprocess(voies, \"L_VOIE\", new_colname=\"street_short\")\n",
    "voies = preprocess(voies, \"L_COURTMIN\", new_colname=\"street_abbr\")\n",
    "voies = preprocess(voies, \"L_LONGMIN\", new_colname=\"street_long\")\n",
    "\n",
    "#compute prefix dictionary with help of voies data\n",
    "def get_prefix(row, court, long):\n",
    "    '''\n",
    "    Takes a row of a dataframe and returns the difference between the entries of the columns\n",
    "    \"long\" and \"court\".\n",
    "\n",
    "    :row: row (with column names) of a dataframe\n",
    "    :court: string, name of column with shorter entry (has to coincide with end of string of column \"long\")\n",
    "    :long: string, name of column with longer entry\n",
    "\n",
    "    :return: string of difference between court and long entry of row\n",
    "    '''\n",
    "    return row[long].split(row[court])[0]\n",
    "\n",
    "# get prefixes, both abbreviated and long versions\n",
    "voies[\"prefix_court\"] = voies.apply(get_prefix, args=(\"street_short\", \"street_abbr\"), axis=1)\n",
    "voies[\"prefix_long\"] = voies.apply(get_prefix, args=(\"street_short\", \"street_long\"), axis=1)\n",
    "# candidate dictionary of all the prefixes\n",
    "prefix_candidates = dict(zip(voies[\"prefix_court\"], voies[\"prefix_long\"]))\n",
    "# only get prefixes with . in it (otherwise would risk to get part of a name, not type of street)\n",
    "prefix_dict = {key.split(\" \")[0]:value.split(\" \")[0] for key,value in prefix_candidates.items() if \".\" in key}\n",
    "\n",
    "# add prefixes by hand (after look into data)\n",
    "prefix_dict[\"boul.\"] = \"boulevard\"\n",
    "prefix_dict[\"boulev.\"] = \"boulevard\"\n",
    "prefix_dict[\"boulv.\"] = \"boulevard\"\n",
    "prefix_dict[\"q.\"] = \"quai\"\n",
    "prefix_dict[\"aven.\"] = \"avenue\"\n",
    "prefix_dict[\"faub.\"] = \"faubourg\"\n",
    "prefix_dict[\"fau.\"] = \"faubourg\"\n",
    "prefix_dict[\"st. \"] =  \"saint \"\n",
    "prefix_dict[\"impas.\"] = \"impasse\"\n",
    "prefix_dict[\"l'aub.\"] = \"l'auberge\"\n",
    "prefix_dict[\"laub\"] = \"l'auberge\"\n",
    "prefix_dict[\"st \"] = \"saint \"\n",
    "prefix_dict[\"ste \"] = \"sainte \"\n",
    "prefix_dict[\"sts \"] = \"saints \"\n",
    "prefix_dict[\"nve \"] = \"neuve \""
   ]
  },
  {
   "cell_type": "code",
   "execution_count": 45,
   "id": "53665f7c",
   "metadata": {},
   "outputs": [
    {
     "data": {
      "text/html": [
       "<div>\n",
       "<style scoped>\n",
       "    .dataframe tbody tr th:only-of-type {\n",
       "        vertical-align: middle;\n",
       "    }\n",
       "\n",
       "    .dataframe tbody tr th {\n",
       "        vertical-align: top;\n",
       "    }\n",
       "\n",
       "    .dataframe thead th {\n",
       "        text-align: right;\n",
       "    }\n",
       "</style>\n",
       "<table border=\"1\" class=\"dataframe\">\n",
       "  <thead>\n",
       "    <tr style=\"text-align: right;\">\n",
       "      <th></th>\n",
       "      <th>N_SQ_VO</th>\n",
       "      <th>C_COINSEE</th>\n",
       "      <th>C_DESI</th>\n",
       "      <th>C_LIAISON</th>\n",
       "      <th>L_VOIE</th>\n",
       "      <th>L_COURTMIN</th>\n",
       "      <th>L_LONGMIN</th>\n",
       "      <th>C_VOIE</th>\n",
       "      <th>B_FANTOIR</th>\n",
       "      <th>B_OFF</th>\n",
       "      <th>...</th>\n",
       "      <th>OBJECTID</th>\n",
       "      <th>C_DOMOFF</th>\n",
       "      <th>N_SQ_CO</th>\n",
       "      <th>LENGTH</th>\n",
       "      <th>Geometry X Y</th>\n",
       "      <th>street_short</th>\n",
       "      <th>street_abbr</th>\n",
       "      <th>street_long</th>\n",
       "      <th>prefix_court</th>\n",
       "      <th>prefix_long</th>\n",
       "    </tr>\n",
       "  </thead>\n",
       "  <tbody>\n",
       "    <tr>\n",
       "      <th>0</th>\n",
       "      <td>750003123</td>\n",
       "      <td>75056</td>\n",
       "      <td>RUE</td>\n",
       "      <td>DES</td>\n",
       "      <td>MALMAISONS</td>\n",
       "      <td>R. des Malmaisons</td>\n",
       "      <td>Rue des Malmaisons</td>\n",
       "      <td>750565966</td>\n",
       "      <td>O</td>\n",
       "      <td>O</td>\n",
       "      <td>...</td>\n",
       "      <td>31</td>\n",
       "      <td>P</td>\n",
       "      <td>750001537</td>\n",
       "      <td>198.700914</td>\n",
       "      <td>48.8214449824661,2.362110788580267</td>\n",
       "      <td>malmaisons</td>\n",
       "      <td>r. des malmaisons</td>\n",
       "      <td>rue des malmaisons</td>\n",
       "      <td>r. des</td>\n",
       "      <td>rue des</td>\n",
       "    </tr>\n",
       "    <tr>\n",
       "      <th>1</th>\n",
       "      <td>750005984</td>\n",
       "      <td>75056</td>\n",
       "      <td>RUE</td>\n",
       "      <td>NaN</td>\n",
       "      <td>BUDE</td>\n",
       "      <td>R. Budé</td>\n",
       "      <td>Rue Budé</td>\n",
       "      <td>750561365</td>\n",
       "      <td>O</td>\n",
       "      <td>O</td>\n",
       "      <td>...</td>\n",
       "      <td>41</td>\n",
       "      <td>P</td>\n",
       "      <td>750001537</td>\n",
       "      <td>92.558635</td>\n",
       "      <td>48.85171497797937,2.355557881870504</td>\n",
       "      <td>bude</td>\n",
       "      <td>r. bude</td>\n",
       "      <td>rue bude</td>\n",
       "      <td>r.</td>\n",
       "      <td>rue</td>\n",
       "    </tr>\n",
       "    <tr>\n",
       "      <th>2</th>\n",
       "      <td>750006284</td>\n",
       "      <td>75056</td>\n",
       "      <td>SQ</td>\n",
       "      <td>DE L'</td>\n",
       "      <td>AVENUE FOCH</td>\n",
       "      <td>Sq. de l'Avenue Foch</td>\n",
       "      <td>Square de l'Avenue Foch</td>\n",
       "      <td>750560603</td>\n",
       "      <td>O</td>\n",
       "      <td>O</td>\n",
       "      <td>...</td>\n",
       "      <td>43</td>\n",
       "      <td>V</td>\n",
       "      <td>750001537</td>\n",
       "      <td>283.658466</td>\n",
       "      <td>48.873171685606714,2.278467676214657</td>\n",
       "      <td>avenue foch</td>\n",
       "      <td>sq. de l'avenue foch</td>\n",
       "      <td>square de l'avenue foch</td>\n",
       "      <td>sq. de l'</td>\n",
       "      <td>square de l'</td>\n",
       "    </tr>\n",
       "  </tbody>\n",
       "</table>\n",
       "<p>3 rows × 22 columns</p>\n",
       "</div>"
      ],
      "text/plain": [
       "     N_SQ_VO  C_COINSEE C_DESI C_LIAISON       L_VOIE            L_COURTMIN  \\\n",
       "0  750003123      75056    RUE       DES   MALMAISONS     R. des Malmaisons   \n",
       "1  750005984      75056    RUE       NaN         BUDE               R. Budé   \n",
       "2  750006284      75056     SQ     DE L'  AVENUE FOCH  Sq. de l'Avenue Foch   \n",
       "\n",
       "                 L_LONGMIN     C_VOIE B_FANTOIR B_OFF  ... OBJECTID C_DOMOFF  \\\n",
       "0       Rue des Malmaisons  750565966         O     O  ...       31        P   \n",
       "1                 Rue Budé  750561365         O     O  ...       41        P   \n",
       "2  Square de l'Avenue Foch  750560603         O     O  ...       43        V   \n",
       "\n",
       "     N_SQ_CO      LENGTH                          Geometry X Y  street_short  \\\n",
       "0  750001537  198.700914    48.8214449824661,2.362110788580267    malmaisons   \n",
       "1  750001537   92.558635   48.85171497797937,2.355557881870504          bude   \n",
       "2  750001537  283.658466  48.873171685606714,2.278467676214657   avenue foch   \n",
       "\n",
       "            street_abbr              street_long prefix_court   prefix_long  \n",
       "0     r. des malmaisons       rue des malmaisons      r. des       rue des   \n",
       "1               r. bude                 rue bude          r.           rue   \n",
       "2  sq. de l'avenue foch  square de l'avenue foch    sq. de l'  square de l'  \n",
       "\n",
       "[3 rows x 22 columns]"
      ]
     },
     "execution_count": 45,
     "metadata": {},
     "output_type": "execute_result"
    }
   ],
   "source": [
    "voies.head(3)"
   ]
  },
  {
   "cell_type": "code",
   "execution_count": 46,
   "id": "5cb6f7ff",
   "metadata": {},
   "outputs": [
    {
     "name": "stdout",
     "output_type": "stream",
     "text": [
      "('r.', 'rue')\n",
      "('sq.', 'square')\n",
      "('pl.', 'place')\n",
      "('av.', 'avenue')\n",
      "('imp.', 'impasse')\n",
      "('all.', 'allee')\n",
      "('pas.', 'passage')\n",
      "('ham.', 'hameau')\n",
      "('vla.', 'villa')\n",
      "('terr.', 'terrasse')\n",
      "('rte.', 'route')\n"
     ]
    }
   ],
   "source": [
    "#take a look at the first entries of the dictionary\n",
    "for i, item in enumerate(prefix_dict.items()):\n",
    "    print(item)\n",
    "    if i>9:\n",
    "        break"
   ]
  },
  {
   "cell_type": "markdown",
   "id": "ef176742",
   "metadata": {},
   "source": [
    "## Bottin Data"
   ]
  },
  {
   "cell_type": "code",
   "execution_count": 47,
   "id": "f023ed64",
   "metadata": {},
   "outputs": [],
   "source": [
    "#load bottin data and preprocess it\n",
    "bottins = pd.read_csv(\"data/strict_addressing.csv\")\n",
    "bottins[\"Rue\"] = bottins[\"Rue\"].fillna(\"\")\n",
    "bottins = preprocess(bottins, \"Rue\", \"street\")"
   ]
  },
  {
   "cell_type": "code",
   "execution_count": 48,
   "id": "ba628a94",
   "metadata": {},
   "outputs": [
    {
     "name": "stdout",
     "output_type": "stream",
     "text": [
      "#abbr. in data before dict substitution: 1544991\n",
      "#abbr. in data after dict substitution: 107280\n"
     ]
    }
   ],
   "source": [
    "# get number of abbreviations before substitution\n",
    "print(\"#abbr. in data before dict substitution:\", len([street for street in list(bottins[\"street\"]) if \".\" in street]))\n",
    "# substitute abbreviations in bottin data\n",
    "bottins[\"street\"] = substitute_col_by_dict(bottins[\"street\"], prefix_dict)\n",
    "# see how many abbreviations are left\n",
    "print(\"#abbr. in data after dict substitution:\", len([street for street in list(bottins[\"street\"]) if \".\" in street]))"
   ]
  },
  {
   "cell_type": "code",
   "execution_count": 49,
   "id": "5b8fb763",
   "metadata": {},
   "outputs": [
    {
     "name": "stdout",
     "output_type": "stream",
     "text": [
      "#abbr. in data after dict substitution: 54957\n"
     ]
    }
   ],
   "source": [
    "#closer look into data -> substitute more abbreviations\n",
    "word_dict = { \"n. d.\":\"notre dame\",\n",
    "             \"n. d \": \"notre dame \", \n",
    "                \"n. da\": \"notre da\",\n",
    "                \"lafayette\": \"la fayette\",\n",
    "                \"j. j. r\": \"jean jacques r\", \n",
    "                \"stmartin\": \"saint martin\",\n",
    "                \"stdenis\": \"saint denis\",\n",
    "                \"stmichel\": \"saint michel\",\n",
    "                \"dutemple\": \"du temple\",\n",
    "                \"faub.st\": \"faubourg saint\",\n",
    "                \"faub.du \": \"faubourg du \",\n",
    "                \"sthonore\": \"saint honore\",\n",
    "                \"st.honore\": \"saint honore\",\n",
    "                \"denazareth\": \"de nazareth\",\n",
    "                \"stgermain\": \"saint germain\",\n",
    "                \"saint g. \": \"saint germain\",\n",
    "                \"mar| tin\": \"martin\",\n",
    "                \"dame de\": \"damede \",\n",
    "                \"petitesecuries\": \"petites ecuries\",\n",
    "                \"faub \": \"faubourg\",\n",
    "                \"petitschamps\": \"petits champs\",\n",
    "                \"saint germ.\": \"saint germain\",\n",
    "                \"faub.montmartre\": \"faubourg montmartre\",\n",
    "                \"faub.poissonniere\": \"faubourg poissonniere\",\n",
    "                \"j.j. rousseau\": \"jean jaques rousseau\",\n",
    "                \"j. j.rousseau\": \"jean jaques rousseau\",\n",
    "                \"fanb. \": \"faubourg \",\n",
    "                \"fauh. \": \"faubourg \",\n",
    "                \"faub.. \": \"faubourg \",\n",
    "                \"faab. \" : \"faubourg \",\n",
    "                \"f. saint \": \"faubourg saint \",\n",
    "                \"pet. champs\": \"petits champs\",\n",
    "                \"ay.\": \"avenue\",\n",
    "                \"av.de\": \"avenue de \",\n",
    "                \"r.du \": \"rue du \",\n",
    "                \"carref. \": \"carrefour \",\n",
    "                \"f. poissoniere\": \"faubourg poissoniere\",\n",
    "                \"saint g.\": \"saint germain\",\n",
    "                \"faub).\": \"faubourg\",\n",
    "                \"taub. \": \"faubourg \",\n",
    "                \"vol. taire\": \"voltaire\",\n",
    "                \"faubourg. \": \"faubourg \",\n",
    "                \"fd. poissonniere\": \"faubourg poissoniere\",\n",
    "                \"stras. bourg\": \"strassbourg\",\n",
    "                \"saintgerm.\": \"saint germain\",\n",
    "                \"montmart.\": \"montmartre\",\n",
    "                \"bouley. \": \"boulevard \",\n",
    "                \"bouly.\": \"boulevard\",\n",
    "                \"pois. sonniere\": \"poissonniere\",\n",
    "                \"pe. tits\": \"petits\",\n",
    "                \"boul. \": \"boulevard \",\n",
    "                \"poissonn.\": \"poissonniere\",\n",
    "                \"f. poissonniere\": \"faubourg poissonniere\",\n",
    "                \"f. montmartre\": \"faubourg montmartre\",\n",
    "                \"fb. \": \"faubourg \",\n",
    "                \"haub. \": \"faubourg \",\n",
    "                \"j. j. pousseau\": \"jean jaques rousseau\",\n",
    "                \"houl. \": \"boulevard \",\n",
    "                \"montmar. tre\": \"montmartre\",\n",
    "                \"r.de\": \"rue de\",\n",
    "                \"r.des\": \"rue des\",\n",
    "                \"pass.du\": \"passage du\",\n",
    "                \"boul.\": \"boulevard \",\n",
    "                \"faub.\": \"faubourg \",\n",
    "                \"laub. \": \"faubourg \",\n",
    "                \"faub.\": \"faubourg \",\n",
    "                \"faub..\": \"faubourg \",\n",
    "                \"fauh.\": \"faubourg \",\n",
    "                \"fauh.. \": \"faubourg \",\n",
    "                \"faul).\": \"faubourg\",\n",
    "                \"r.st\": \"rue saint\",\n",
    "                \"alle. magne\": \"allemagne\",\n",
    "                \"faub.st.\": \"faubourg saint\",\n",
    "                \"r.\": \"rue \",\n",
    "                \"faubourgdu.\": \"faubourg du \",\n",
    "                \"ams. terdam\": \"amsterdam\",\n",
    "                \"boul.de \": \"boulevard de \",\n",
    "                \"j j. rousseau\": \"jean jaques rousseau\",\n",
    "                \"j. j.. rousseau\": \"jean jaques rousseau\",\n",
    "                \"j. j rousseau\": \"jean jaques rousseau\",\n",
    "                \"faul.\": \"faubourg \",\n",
    "                \"av.\": \"avenue \",\n",
    "                \"montm.\": \"montmartre\",\n",
    "                \"mont. martre\": \"montmartre\",\n",
    "                \"petites.\": \"petites \",\n",
    "                \"petits.\": \"petits\",\n",
    "                \"hauss. mann\": \"haussmann\",\n",
    "                \"tem. ple\": \"temple\",\n",
    "                \"boul.\": \"boulevard \",\n",
    "                \"faub..du\": \"faubourg du \",\n",
    "                \"riche. lieu\": \"richelieu\",\n",
    "                \"b. bonne nouvelle\": \"boulevard bonne nouvelle\",\n",
    "                \"b. bonne. nouvelle\": \"boulevard bonne nouvelle\",\n",
    "                \"b. bonne nouv.\": \"boulevard bonne nouvelle\",\n",
    "                \"chauss.\": \"chaussee \",\n",
    "                \"che. min\": \"chemin\",\n",
    "                \"impass. \": \"impasse\",\n",
    "\n",
    "                \n",
    "                }\n",
    "\n",
    "# substitute abbreviations\n",
    "bottins[\"street\"] = substitute_col_by_dict(bottins[\"street\"], word_dict)\n",
    "print(\"#abbr. in data after dict substitution:\", len([street for street in list(bottins[\"street\"]) if \".\" in street]))"
   ]
  },
  {
   "cell_type": "code",
   "execution_count": 50,
   "id": "a09c5e9d",
   "metadata": {},
   "outputs": [
    {
     "data": {
      "text/plain": [
       "[('n.d. de nazareth', 214),\n",
       " (\"saint germain l'aux.\", 155),\n",
       " ('j. j.  rousseau', 134),\n",
       " ('gren. saint germain', 130),\n",
       " ('rue n.d. de nazareth', 121),\n",
       " ('n.d. des victoires', 109),\n",
       " ('saint nicolas saint ant.', 106),\n",
       " ('f. du temple', 95),\n",
       " ('montagne sainte gen.', 94),\n",
       " ('faubourg saint ant.', 84)]"
      ]
     },
     "execution_count": 50,
     "metadata": {},
     "output_type": "execute_result"
    }
   ],
   "source": [
    "#print most common abbreviations which are left\n",
    "Counter([x for x in bottins[\"street\"] if \".\" in x]).most_common(10)"
   ]
  },
  {
   "cell_type": "code",
   "execution_count": 54,
   "id": "6bba507b",
   "metadata": {},
   "outputs": [],
   "source": [
    "#replace double spaces with one space\n",
    "bottins[\"street\"] = bottins[\"street\"].replace({\"  \":\" \"}, regex=True)"
   ]
  },
  {
   "cell_type": "code",
   "execution_count": 55,
   "id": "f02d86bb",
   "metadata": {},
   "outputs": [
    {
     "data": {
      "text/plain": [
       "Counter({'10.  a lyon. notre damede s victoires': 1, 'faab  tempie': 1})"
      ]
     },
     "execution_count": 55,
     "metadata": {},
     "output_type": "execute_result"
    }
   ],
   "source": [
    "#check if there are double spaces left\n",
    "Counter([x for x in bottins[\"street\"] if \"  \" in x])"
   ]
  },
  {
   "cell_type": "code",
   "execution_count": 56,
   "id": "332c3326",
   "metadata": {},
   "outputs": [],
   "source": [
    "#save prepared data\n",
    "bottins.to_pickle(\"data/bottins_prep.pkl\")\n"
   ]
  }
 ],
 "metadata": {
  "kernelspec": {
   "display_name": "base",
   "language": "python",
   "name": "python3"
  },
  "language_info": {
   "codemirror_mode": {
    "name": "ipython",
    "version": 3
   },
   "file_extension": ".py",
   "mimetype": "text/x-python",
   "name": "python",
   "nbconvert_exporter": "python",
   "pygments_lexer": "ipython3",
   "version": "3.8.12"
  },
  "vscode": {
   "interpreter": {
    "hash": "098a0dd3104dda9245e32bc4140980e8acec008f0fd7b1a1afbd38055ea17b26"
   }
  }
 },
 "nbformat": 4,
 "nbformat_minor": 5
}
